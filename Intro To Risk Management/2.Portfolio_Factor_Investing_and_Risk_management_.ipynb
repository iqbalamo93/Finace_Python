{
 "cells": [
  {
   "cell_type": "markdown",
   "metadata": {
    "colab_type": "text",
    "id": "view-in-github"
   },
   "source": [
    "<a href=\"https://colab.research.google.com/github/iqbalamo93/Finace_Python/blob/master/Portfolio_Factor_Investing_and_Risk_management_.ipynb\" target=\"_parent\"><img src=\"https://colab.research.google.com/assets/colab-badge.svg\" alt=\"Open In Colab\"/></a>"
   ]
  },
  {
   "cell_type": "markdown",
   "metadata": {
    "colab_type": "text",
    "id": "Lq1T_jQ4YVMo"
   },
   "source": [
    "# Calculating Portfolio Returns\n",
    "#### PORTFOLIO RETURN FORMULA:\n",
    "\n",
    "<img src=\"https://github.com/iqbalamo93/Datasets/blob/master/Pyfin/Images/return.JPG?raw=true\">\n",
    "\n",
    "* R<sub>P </sub> : Portfolio return\n",
    "* R<sub> an</sub> : Return for asset n\n",
    "* w<sub> an</sub> : Weight for asset n\n",
    "\n",
    "## Equally Weighted Portfolios in Python\n",
    "- An ideal strategy should beat the equal weighted portfolio returns"
   ]
  },
  {
   "cell_type": "code",
   "execution_count": 1,
   "metadata": {
    "colab": {
     "base_uri": "https://localhost:8080/",
     "height": 72
    },
    "colab_type": "code",
    "id": "SuLqHImrYaSu",
    "outputId": "20d0397b-7aee-49a1-8725-7f9de3db6837"
   },
   "outputs": [],
   "source": [
    "import numpy as np\n",
    "import pandas as pd\n",
    "import matplotlib.pyplot as plt\n",
    "import seaborn as sns"
   ]
  },
  {
   "cell_type": "code",
   "execution_count": 2,
   "metadata": {
    "colab": {},
    "colab_type": "code",
    "id": "EyoLuCEOn2FC"
   },
   "outputs": [],
   "source": [
    "url='https://raw.githubusercontent.com/iqbalamo93/Datasets/master/Finance/Big9Returns2017.csv'"
   ]
  },
  {
   "cell_type": "code",
   "execution_count": 3,
   "metadata": {
    "colab": {},
    "colab_type": "code",
    "id": "27P7Be8ljy3v"
   },
   "outputs": [],
   "source": [
    "StockReturns = pd.read_csv(url, parse_dates=['Date'],index_col='Date')"
   ]
  },
  {
   "cell_type": "code",
   "execution_count": 4,
   "metadata": {
    "colab": {
     "base_uri": "https://localhost:8080/",
     "height": 233
    },
    "colab_type": "code",
    "id": "u-vpDT3bksPJ",
    "outputId": "086c30b9-19f2-4e21-8d8f-9db32d9c2bb0"
   },
   "outputs": [
    {
     "data": {
      "text/html": [
       "<div>\n",
       "<style scoped>\n",
       "    .dataframe tbody tr th:only-of-type {\n",
       "        vertical-align: middle;\n",
       "    }\n",
       "\n",
       "    .dataframe tbody tr th {\n",
       "        vertical-align: top;\n",
       "    }\n",
       "\n",
       "    .dataframe thead th {\n",
       "        text-align: right;\n",
       "    }\n",
       "</style>\n",
       "<table border=\"1\" class=\"dataframe\">\n",
       "  <thead>\n",
       "    <tr style=\"text-align: right;\">\n",
       "      <th></th>\n",
       "      <th>AAPL</th>\n",
       "      <th>MSFT</th>\n",
       "      <th>XOM</th>\n",
       "      <th>JNJ</th>\n",
       "      <th>JPM</th>\n",
       "      <th>AMZN</th>\n",
       "      <th>GE</th>\n",
       "      <th>FB</th>\n",
       "      <th>T</th>\n",
       "    </tr>\n",
       "    <tr>\n",
       "      <th>Date</th>\n",
       "      <th></th>\n",
       "      <th></th>\n",
       "      <th></th>\n",
       "      <th></th>\n",
       "      <th></th>\n",
       "      <th></th>\n",
       "      <th></th>\n",
       "      <th></th>\n",
       "      <th></th>\n",
       "    </tr>\n",
       "  </thead>\n",
       "  <tbody>\n",
       "    <tr>\n",
       "      <th>2017-01-03</th>\n",
       "      <td>0.002849</td>\n",
       "      <td>0.007081</td>\n",
       "      <td>0.006980</td>\n",
       "      <td>0.005468</td>\n",
       "      <td>0.010894</td>\n",
       "      <td>0.005068</td>\n",
       "      <td>0.002848</td>\n",
       "      <td>0.015732</td>\n",
       "      <td>0.011521</td>\n",
       "    </tr>\n",
       "    <tr>\n",
       "      <th>2017-01-04</th>\n",
       "      <td>-0.001119</td>\n",
       "      <td>-0.004474</td>\n",
       "      <td>-0.011002</td>\n",
       "      <td>-0.001640</td>\n",
       "      <td>0.001844</td>\n",
       "      <td>0.004657</td>\n",
       "      <td>0.000316</td>\n",
       "      <td>0.015660</td>\n",
       "      <td>-0.005811</td>\n",
       "    </tr>\n",
       "    <tr>\n",
       "      <th>2017-01-05</th>\n",
       "      <td>0.005085</td>\n",
       "      <td>0.000000</td>\n",
       "      <td>-0.014907</td>\n",
       "      <td>0.010463</td>\n",
       "      <td>-0.009205</td>\n",
       "      <td>0.030732</td>\n",
       "      <td>-0.005678</td>\n",
       "      <td>0.016682</td>\n",
       "      <td>-0.002806</td>\n",
       "    </tr>\n",
       "    <tr>\n",
       "      <th>2017-01-06</th>\n",
       "      <td>0.011148</td>\n",
       "      <td>0.008668</td>\n",
       "      <td>-0.000565</td>\n",
       "      <td>-0.004792</td>\n",
       "      <td>0.000116</td>\n",
       "      <td>0.019912</td>\n",
       "      <td>0.002855</td>\n",
       "      <td>0.022707</td>\n",
       "      <td>-0.019924</td>\n",
       "    </tr>\n",
       "    <tr>\n",
       "      <th>2017-01-09</th>\n",
       "      <td>0.009159</td>\n",
       "      <td>-0.003183</td>\n",
       "      <td>-0.016497</td>\n",
       "      <td>-0.000172</td>\n",
       "      <td>0.000697</td>\n",
       "      <td>0.001168</td>\n",
       "      <td>-0.004745</td>\n",
       "      <td>0.012074</td>\n",
       "      <td>-0.012585</td>\n",
       "    </tr>\n",
       "  </tbody>\n",
       "</table>\n",
       "</div>"
      ],
      "text/plain": [
       "                AAPL      MSFT       XOM       JNJ       JPM      AMZN  \\\n",
       "Date                                                                     \n",
       "2017-01-03  0.002849  0.007081  0.006980  0.005468  0.010894  0.005068   \n",
       "2017-01-04 -0.001119 -0.004474 -0.011002 -0.001640  0.001844  0.004657   \n",
       "2017-01-05  0.005085  0.000000 -0.014907  0.010463 -0.009205  0.030732   \n",
       "2017-01-06  0.011148  0.008668 -0.000565 -0.004792  0.000116  0.019912   \n",
       "2017-01-09  0.009159 -0.003183 -0.016497 -0.000172  0.000697  0.001168   \n",
       "\n",
       "                  GE        FB         T  \n",
       "Date                                      \n",
       "2017-01-03  0.002848  0.015732  0.011521  \n",
       "2017-01-04  0.000316  0.015660 -0.005811  \n",
       "2017-01-05 -0.005678  0.016682 -0.002806  \n",
       "2017-01-06  0.002855  0.022707 -0.019924  \n",
       "2017-01-09 -0.004745  0.012074 -0.012585  "
      ]
     },
     "execution_count": 4,
     "metadata": {},
     "output_type": "execute_result"
    }
   ],
   "source": [
    "StockReturns.head()"
   ]
  },
  {
   "cell_type": "markdown",
   "metadata": {
    "colab_type": "text",
    "id": "ui2kouv1oPPk"
   },
   "source": [
    "- Suppose, Our firm decided that we should have a portfolio with these stocks but with different weights as follows:\n",
    "\n",
    "<img src=\"https://github.com/iqbalamo93/Datasets/blob/master/Pyfin/Images/Stocksallocation.JPG?raw=true\">\n",
    "\n"
   ]
  },
  {
   "cell_type": "code",
   "execution_count": 5,
   "metadata": {
    "colab": {
     "base_uri": "https://localhost:8080/",
     "height": 277
    },
    "colab_type": "code",
    "id": "8LCyThj2oCOW",
    "outputId": "160adb87-1836-44bc-b9ee-586bddc411de"
   },
   "outputs": [
    {
     "data": {
      "image/png": "[encoded data removed]",
      "text/plain": [
       "<Figure size 432x288 with 1 Axes>"
      ]
     },
     "metadata": {
      "needs_background": "light"
     },
     "output_type": "display_data"
    }
   ],
   "source": [
    "# Finish defining the portfolio weights as a numpy array\n",
    "portfolio_weights = np.array([0.12, 0.15, 0.08, 0.05, 0.09, 0.10, 0.11,0.14, 0.16])\n",
    "\n",
    "# Calculate the weighted stock returns\n",
    "WeightedReturns = StockReturns*portfolio_weights\n",
    "\n",
    "'''WeightedReturns = StockReturns.mul(portfolio_weights, axis=1)\n",
    "Can also be used, but when we have broadcasting, use it :)'''\n",
    "\n",
    "# Calculate the portfolio returns\n",
    "StockReturns['Portfolio'] = WeightedReturns.sum(axis=1)\n",
    "\n",
    "# Plot the cumulative portfolio returns over time\n",
    "# This cumprod is becuase a 1 invested at t0 will grow with that facror of return\n",
    "CumulativeReturns = ((1+StockReturns[\"Portfolio\"]).cumprod()-1)\n",
    "CumulativeReturns.plot()\n",
    "plt.show()"
   ]
  },
  {
   "cell_type": "code",
   "execution_count": 6,
   "metadata": {},
   "outputs": [
    {
     "data": {
      "text/html": [
       "<div>\n",
       "<style scoped>\n",
       "    .dataframe tbody tr th:only-of-type {\n",
       "        vertical-align: middle;\n",
       "    }\n",
       "\n",
       "    .dataframe tbody tr th {\n",
       "        vertical-align: top;\n",
       "    }\n",
       "\n",
       "    .dataframe thead th {\n",
       "        text-align: right;\n",
       "    }\n",
       "</style>\n",
       "<table border=\"1\" class=\"dataframe\">\n",
       "  <thead>\n",
       "    <tr style=\"text-align: right;\">\n",
       "      <th></th>\n",
       "      <th>AAPL</th>\n",
       "      <th>MSFT</th>\n",
       "      <th>XOM</th>\n",
       "      <th>JNJ</th>\n",
       "      <th>JPM</th>\n",
       "      <th>AMZN</th>\n",
       "      <th>GE</th>\n",
       "      <th>FB</th>\n",
       "      <th>T</th>\n",
       "      <th>Portfolio</th>\n",
       "    </tr>\n",
       "    <tr>\n",
       "      <th>Date</th>\n",
       "      <th></th>\n",
       "      <th></th>\n",
       "      <th></th>\n",
       "      <th></th>\n",
       "      <th></th>\n",
       "      <th></th>\n",
       "      <th></th>\n",
       "      <th></th>\n",
       "      <th></th>\n",
       "      <th></th>\n",
       "    </tr>\n",
       "  </thead>\n",
       "  <tbody>\n",
       "    <tr>\n",
       "      <th>2017-01-03</th>\n",
       "      <td>0.002849</td>\n",
       "      <td>0.007081</td>\n",
       "      <td>0.006980</td>\n",
       "      <td>0.005468</td>\n",
       "      <td>0.010894</td>\n",
       "      <td>0.005068</td>\n",
       "      <td>0.002848</td>\n",
       "      <td>0.015732</td>\n",
       "      <td>0.011521</td>\n",
       "      <td>0.008082</td>\n",
       "    </tr>\n",
       "    <tr>\n",
       "      <th>2017-01-04</th>\n",
       "      <td>-0.001119</td>\n",
       "      <td>-0.004474</td>\n",
       "      <td>-0.011002</td>\n",
       "      <td>-0.001640</td>\n",
       "      <td>0.001844</td>\n",
       "      <td>0.004657</td>\n",
       "      <td>0.000316</td>\n",
       "      <td>0.015660</td>\n",
       "      <td>-0.005811</td>\n",
       "      <td>0.000161</td>\n",
       "    </tr>\n",
       "    <tr>\n",
       "      <th>2017-01-05</th>\n",
       "      <td>0.005085</td>\n",
       "      <td>0.000000</td>\n",
       "      <td>-0.014907</td>\n",
       "      <td>0.010463</td>\n",
       "      <td>-0.009205</td>\n",
       "      <td>0.030732</td>\n",
       "      <td>-0.005678</td>\n",
       "      <td>0.016682</td>\n",
       "      <td>-0.002806</td>\n",
       "      <td>0.003448</td>\n",
       "    </tr>\n",
       "    <tr>\n",
       "      <th>2017-01-06</th>\n",
       "      <td>0.011148</td>\n",
       "      <td>0.008668</td>\n",
       "      <td>-0.000565</td>\n",
       "      <td>-0.004792</td>\n",
       "      <td>0.000116</td>\n",
       "      <td>0.019912</td>\n",
       "      <td>0.002855</td>\n",
       "      <td>0.022707</td>\n",
       "      <td>-0.019924</td>\n",
       "      <td>0.004660</td>\n",
       "    </tr>\n",
       "    <tr>\n",
       "      <th>2017-01-09</th>\n",
       "      <td>0.009159</td>\n",
       "      <td>-0.003183</td>\n",
       "      <td>-0.016497</td>\n",
       "      <td>-0.000172</td>\n",
       "      <td>0.000697</td>\n",
       "      <td>0.001168</td>\n",
       "      <td>-0.004745</td>\n",
       "      <td>0.012074</td>\n",
       "      <td>-0.012585</td>\n",
       "      <td>-0.001372</td>\n",
       "    </tr>\n",
       "  </tbody>\n",
       "</table>\n",
       "</div>"
      ],
      "text/plain": [
       "                AAPL      MSFT       XOM       JNJ       JPM      AMZN  \\\n",
       "Date                                                                     \n",
       "2017-01-03  0.002849  0.007081  0.006980  0.005468  0.010894  0.005068   \n",
       "2017-01-04 -0.001119 -0.004474 -0.011002 -0.001640  0.001844  0.004657   \n",
       "2017-01-05  0.005085  0.000000 -0.014907  0.010463 -0.009205  0.030732   \n",
       "2017-01-06  0.011148  0.008668 -0.000565 -0.004792  0.000116  0.019912   \n",
       "2017-01-09  0.009159 -0.003183 -0.016497 -0.000172  0.000697  0.001168   \n",
       "\n",
       "                  GE        FB         T  Portfolio  \n",
       "Date                                                 \n",
       "2017-01-03  0.002848  0.015732  0.011521   0.008082  \n",
       "2017-01-04  0.000316  0.015660 -0.005811   0.000161  \n",
       "2017-01-05 -0.005678  0.016682 -0.002806   0.003448  \n",
       "2017-01-06  0.002855  0.022707 -0.019924   0.004660  \n",
       "2017-01-09 -0.004745  0.012074 -0.012585  -0.001372  "
      ]
     },
     "execution_count": 6,
     "metadata": {},
     "output_type": "execute_result"
    }
   ],
   "source": [
    "StockReturns.head()"
   ]
  },
  {
   "cell_type": "markdown",
   "metadata": {
    "colab_type": "text",
    "id": "WYjr4VWpzUi8"
   },
   "source": [
    "Beautiful! And not a bad portfolio, either...Let's compare with equal weighted portfolio"
   ]
  },
  {
   "cell_type": "code",
   "execution_count": 7,
   "metadata": {
    "colab": {},
    "colab_type": "code",
    "id": "QZ444sIoxzwD"
   },
   "outputs": [
    {
     "name": "stdout",
     "output_type": "stream",
     "text": [
      "[0.11111111 0.11111111 0.11111111 0.11111111 0.11111111 0.11111111\n",
      " 0.11111111 0.11111111 0.11111111]\n"
     ]
    }
   ],
   "source": [
    "# How many stocks are in your portfolio?\n",
    "numstocks = 9\n",
    "\n",
    "# Create an array of equal weights across all assets\n",
    "portfolio_weights_ew = np.ones(9)/9\n",
    "print(portfolio_weights_ew)\n",
    "# Calculate the equally-weighted portfolio returns\n",
    "StockReturns['Portfolio_EW'] = (StockReturns.iloc[:,:-1]*portfolio_weights_ew).sum(axis=1)\n",
    "#\n",
    "CumulativeReturns_EW = ((1+StockReturns[\"Portfolio_EW\"]).cumprod()-1)"
   ]
  },
  {
   "cell_type": "code",
   "execution_count": 9,
   "metadata": {},
   "outputs": [
    {
     "data": {
      "text/html": [
       "<div>\n",
       "<style scoped>\n",
       "    .dataframe tbody tr th:only-of-type {\n",
       "        vertical-align: middle;\n",
       "    }\n",
       "\n",
       "    .dataframe tbody tr th {\n",
       "        vertical-align: top;\n",
       "    }\n",
       "\n",
       "    .dataframe thead th {\n",
       "        text-align: right;\n",
       "    }\n",
       "</style>\n",
       "<table border=\"1\" class=\"dataframe\">\n",
       "  <thead>\n",
       "    <tr style=\"text-align: right;\">\n",
       "      <th></th>\n",
       "      <th>AAPL</th>\n",
       "      <th>MSFT</th>\n",
       "      <th>XOM</th>\n",
       "      <th>JNJ</th>\n",
       "      <th>JPM</th>\n",
       "      <th>AMZN</th>\n",
       "      <th>GE</th>\n",
       "      <th>FB</th>\n",
       "      <th>T</th>\n",
       "      <th>Portfolio</th>\n",
       "      <th>Portfolio_EW</th>\n",
       "    </tr>\n",
       "    <tr>\n",
       "      <th>Date</th>\n",
       "      <th></th>\n",
       "      <th></th>\n",
       "      <th></th>\n",
       "      <th></th>\n",
       "      <th></th>\n",
       "      <th></th>\n",
       "      <th></th>\n",
       "      <th></th>\n",
       "      <th></th>\n",
       "      <th></th>\n",
       "      <th></th>\n",
       "    </tr>\n",
       "  </thead>\n",
       "  <tbody>\n",
       "    <tr>\n",
       "      <th>2017-01-03</th>\n",
       "      <td>0.002849</td>\n",
       "      <td>0.007081</td>\n",
       "      <td>0.006980</td>\n",
       "      <td>0.005468</td>\n",
       "      <td>0.010894</td>\n",
       "      <td>0.005068</td>\n",
       "      <td>0.002848</td>\n",
       "      <td>0.015732</td>\n",
       "      <td>0.011521</td>\n",
       "      <td>0.008082</td>\n",
       "      <td>0.007605</td>\n",
       "    </tr>\n",
       "    <tr>\n",
       "      <th>2017-01-04</th>\n",
       "      <td>-0.001119</td>\n",
       "      <td>-0.004474</td>\n",
       "      <td>-0.011002</td>\n",
       "      <td>-0.001640</td>\n",
       "      <td>0.001844</td>\n",
       "      <td>0.004657</td>\n",
       "      <td>0.000316</td>\n",
       "      <td>0.015660</td>\n",
       "      <td>-0.005811</td>\n",
       "      <td>0.000161</td>\n",
       "      <td>-0.000174</td>\n",
       "    </tr>\n",
       "    <tr>\n",
       "      <th>2017-01-05</th>\n",
       "      <td>0.005085</td>\n",
       "      <td>0.000000</td>\n",
       "      <td>-0.014907</td>\n",
       "      <td>0.010463</td>\n",
       "      <td>-0.009205</td>\n",
       "      <td>0.030732</td>\n",
       "      <td>-0.005678</td>\n",
       "      <td>0.016682</td>\n",
       "      <td>-0.002806</td>\n",
       "      <td>0.003448</td>\n",
       "      <td>0.003374</td>\n",
       "    </tr>\n",
       "    <tr>\n",
       "      <th>2017-01-06</th>\n",
       "      <td>0.011148</td>\n",
       "      <td>0.008668</td>\n",
       "      <td>-0.000565</td>\n",
       "      <td>-0.004792</td>\n",
       "      <td>0.000116</td>\n",
       "      <td>0.019912</td>\n",
       "      <td>0.002855</td>\n",
       "      <td>0.022707</td>\n",
       "      <td>-0.019924</td>\n",
       "      <td>0.004660</td>\n",
       "      <td>0.004458</td>\n",
       "    </tr>\n",
       "    <tr>\n",
       "      <th>2017-01-09</th>\n",
       "      <td>0.009159</td>\n",
       "      <td>-0.003183</td>\n",
       "      <td>-0.016497</td>\n",
       "      <td>-0.000172</td>\n",
       "      <td>0.000697</td>\n",
       "      <td>0.001168</td>\n",
       "      <td>-0.004745</td>\n",
       "      <td>0.012074</td>\n",
       "      <td>-0.012585</td>\n",
       "      <td>-0.001372</td>\n",
       "      <td>-0.001565</td>\n",
       "    </tr>\n",
       "  </tbody>\n",
       "</table>\n",
       "</div>"
      ],
      "text/plain": [
       "                AAPL      MSFT       XOM       JNJ       JPM      AMZN  \\\n",
       "Date                                                                     \n",
       "2017-01-03  0.002849  0.007081  0.006980  0.005468  0.010894  0.005068   \n",
       "2017-01-04 -0.001119 -0.004474 -0.011002 -0.001640  0.001844  0.004657   \n",
       "2017-01-05  0.005085  0.000000 -0.014907  0.010463 -0.009205  0.030732   \n",
       "2017-01-06  0.011148  0.008668 -0.000565 -0.004792  0.000116  0.019912   \n",
       "2017-01-09  0.009159 -0.003183 -0.016497 -0.000172  0.000697  0.001168   \n",
       "\n",
       "                  GE        FB         T  Portfolio  Portfolio_EW  \n",
       "Date                                                               \n",
       "2017-01-03  0.002848  0.015732  0.011521   0.008082      0.007605  \n",
       "2017-01-04  0.000316  0.015660 -0.005811   0.000161     -0.000174  \n",
       "2017-01-05 -0.005678  0.016682 -0.002806   0.003448      0.003374  \n",
       "2017-01-06  0.002855  0.022707 -0.019924   0.004660      0.004458  \n",
       "2017-01-09 -0.004745  0.012074 -0.012585  -0.001372     -0.001565  "
      ]
     },
     "execution_count": 9,
     "metadata": {},
     "output_type": "execute_result"
    }
   ],
   "source": [
    "StockReturns.head()"
   ]
  },
  {
   "cell_type": "code",
   "execution_count": 45,
   "metadata": {},
   "outputs": [],
   "source": [
    "randomSlice = StockReturns.sample(1).iloc[:,:-5].values"
   ]
  },
  {
   "cell_type": "code",
   "execution_count": 48,
   "metadata": {},
   "outputs": [
    {
     "data": {
      "text/plain": [
       "array(7.27465846e-05)"
      ]
     },
     "execution_count": 48,
     "metadata": {},
     "output_type": "execute_result"
    }
   ],
   "source": [
    "np.cov(randomSlice)"
   ]
  },
  {
   "cell_type": "code",
   "execution_count": 55,
   "metadata": {},
   "outputs": [
    {
     "data": {
      "text/html": [
       "<div>\n",
       "<style scoped>\n",
       "    .dataframe tbody tr th:only-of-type {\n",
       "        vertical-align: middle;\n",
       "    }\n",
       "\n",
       "    .dataframe tbody tr th {\n",
       "        vertical-align: top;\n",
       "    }\n",
       "\n",
       "    .dataframe thead th {\n",
       "        text-align: right;\n",
       "    }\n",
       "</style>\n",
       "<table border=\"1\" class=\"dataframe\">\n",
       "  <thead>\n",
       "    <tr style=\"text-align: right;\">\n",
       "      <th></th>\n",
       "      <th>AAPL</th>\n",
       "      <th>MSFT</th>\n",
       "      <th>XOM</th>\n",
       "      <th>JNJ</th>\n",
       "      <th>JPM</th>\n",
       "      <th>AMZN</th>\n",
       "      <th>GE</th>\n",
       "      <th>FB</th>\n",
       "      <th>T</th>\n",
       "    </tr>\n",
       "  </thead>\n",
       "  <tbody>\n",
       "    <tr>\n",
       "      <th>AAPL</th>\n",
       "      <td>0.000453</td>\n",
       "      <td>0.000257</td>\n",
       "      <td>-0.000052</td>\n",
       "      <td>-0.000075</td>\n",
       "      <td>0.000306</td>\n",
       "      <td>0.000150</td>\n",
       "      <td>0.000058</td>\n",
       "      <td>0.000253</td>\n",
       "      <td>0.000080</td>\n",
       "    </tr>\n",
       "    <tr>\n",
       "      <th>MSFT</th>\n",
       "      <td>0.000257</td>\n",
       "      <td>0.000146</td>\n",
       "      <td>-0.000030</td>\n",
       "      <td>-0.000043</td>\n",
       "      <td>0.000173</td>\n",
       "      <td>0.000085</td>\n",
       "      <td>0.000033</td>\n",
       "      <td>0.000143</td>\n",
       "      <td>0.000045</td>\n",
       "    </tr>\n",
       "    <tr>\n",
       "      <th>XOM</th>\n",
       "      <td>-0.000052</td>\n",
       "      <td>-0.000030</td>\n",
       "      <td>0.000006</td>\n",
       "      <td>0.000009</td>\n",
       "      <td>-0.000035</td>\n",
       "      <td>-0.000017</td>\n",
       "      <td>-0.000007</td>\n",
       "      <td>-0.000029</td>\n",
       "      <td>-0.000009</td>\n",
       "    </tr>\n",
       "    <tr>\n",
       "      <th>JNJ</th>\n",
       "      <td>-0.000075</td>\n",
       "      <td>-0.000043</td>\n",
       "      <td>0.000009</td>\n",
       "      <td>0.000013</td>\n",
       "      <td>-0.000051</td>\n",
       "      <td>-0.000025</td>\n",
       "      <td>-0.000010</td>\n",
       "      <td>-0.000042</td>\n",
       "      <td>-0.000013</td>\n",
       "    </tr>\n",
       "    <tr>\n",
       "      <th>JPM</th>\n",
       "      <td>0.000306</td>\n",
       "      <td>0.000173</td>\n",
       "      <td>-0.000035</td>\n",
       "      <td>-0.000051</td>\n",
       "      <td>0.000206</td>\n",
       "      <td>0.000101</td>\n",
       "      <td>0.000039</td>\n",
       "      <td>0.000171</td>\n",
       "      <td>0.000054</td>\n",
       "    </tr>\n",
       "    <tr>\n",
       "      <th>AMZN</th>\n",
       "      <td>0.000150</td>\n",
       "      <td>0.000085</td>\n",
       "      <td>-0.000017</td>\n",
       "      <td>-0.000025</td>\n",
       "      <td>0.000101</td>\n",
       "      <td>0.000050</td>\n",
       "      <td>0.000019</td>\n",
       "      <td>0.000084</td>\n",
       "      <td>0.000027</td>\n",
       "    </tr>\n",
       "    <tr>\n",
       "      <th>GE</th>\n",
       "      <td>0.000058</td>\n",
       "      <td>0.000033</td>\n",
       "      <td>-0.000007</td>\n",
       "      <td>-0.000010</td>\n",
       "      <td>0.000039</td>\n",
       "      <td>0.000019</td>\n",
       "      <td>0.000007</td>\n",
       "      <td>0.000032</td>\n",
       "      <td>0.000010</td>\n",
       "    </tr>\n",
       "    <tr>\n",
       "      <th>FB</th>\n",
       "      <td>0.000253</td>\n",
       "      <td>0.000143</td>\n",
       "      <td>-0.000029</td>\n",
       "      <td>-0.000042</td>\n",
       "      <td>0.000171</td>\n",
       "      <td>0.000084</td>\n",
       "      <td>0.000032</td>\n",
       "      <td>0.000141</td>\n",
       "      <td>0.000045</td>\n",
       "    </tr>\n",
       "    <tr>\n",
       "      <th>T</th>\n",
       "      <td>0.000080</td>\n",
       "      <td>0.000045</td>\n",
       "      <td>-0.000009</td>\n",
       "      <td>-0.000013</td>\n",
       "      <td>0.000054</td>\n",
       "      <td>0.000027</td>\n",
       "      <td>0.000010</td>\n",
       "      <td>0.000045</td>\n",
       "      <td>0.000014</td>\n",
       "    </tr>\n",
       "  </tbody>\n",
       "</table>\n",
       "</div>"
      ],
      "text/plain": [
       "          AAPL      MSFT       XOM       JNJ       JPM      AMZN        GE  \\\n",
       "AAPL  0.000453  0.000257 -0.000052 -0.000075  0.000306  0.000150  0.000058   \n",
       "MSFT  0.000257  0.000146 -0.000030 -0.000043  0.000173  0.000085  0.000033   \n",
       "XOM  -0.000052 -0.000030  0.000006  0.000009 -0.000035 -0.000017 -0.000007   \n",
       "JNJ  -0.000075 -0.000043  0.000009  0.000013 -0.000051 -0.000025 -0.000010   \n",
       "JPM   0.000306  0.000173 -0.000035 -0.000051  0.000206  0.000101  0.000039   \n",
       "AMZN  0.000150  0.000085 -0.000017 -0.000025  0.000101  0.000050  0.000019   \n",
       "GE    0.000058  0.000033 -0.000007 -0.000010  0.000039  0.000019  0.000007   \n",
       "FB    0.000253  0.000143 -0.000029 -0.000042  0.000171  0.000084  0.000032   \n",
       "T     0.000080  0.000045 -0.000009 -0.000013  0.000054  0.000027  0.000010   \n",
       "\n",
       "            FB         T  \n",
       "AAPL  0.000253  0.000080  \n",
       "MSFT  0.000143  0.000045  \n",
       "XOM  -0.000029 -0.000009  \n",
       "JNJ  -0.000042 -0.000013  \n",
       "JPM   0.000171  0.000054  \n",
       "AMZN  0.000084  0.000027  \n",
       "GE    0.000032  0.000010  \n",
       "FB    0.000141  0.000045  \n",
       "T     0.000045  0.000014  "
      ]
     },
     "execution_count": 55,
     "metadata": {},
     "output_type": "execute_result"
    }
   ],
   "source": [
    "StockReturns.sample(2).iloc[:,:-5].cov()"
   ]
  },
  {
   "cell_type": "code",
   "execution_count": 10,
   "metadata": {
    "colab": {
     "base_uri": "https://localhost:8080/",
     "height": 393
    },
    "colab_type": "code",
    "id": "PHZL1X3xyF8B",
    "outputId": "7e5e8ccf-eb48-4362-b3ae-32fda5b01559"
   },
   "outputs": [
    {
     "data": {
      "text/plain": [
       "<AxesSubplot:xlabel='Date'>"
      ]
     },
     "execution_count": 10,
     "metadata": {},
     "output_type": "execute_result"
    },
    {
     "data": {
      "image/png": "[encoded data removed]",
      "text/plain": [
       "<Figure size 720x432 with 1 Axes>"
      ]
     },
     "metadata": {
      "needs_background": "light"
     },
     "output_type": "display_data"
    }
   ],
   "source": [
    "figure =plt.figure(figsize=(10,6))\n",
    "CumulativeReturns_EW.plot(legend='EW')\n",
    "CumulativeReturns.plot(legend=True)"
   ]
  },
  {
   "cell_type": "code",
   "execution_count": 11,
   "metadata": {},
   "outputs": [
    {
     "data": {
      "text/plain": [
       "pandas.core.series.Series"
      ]
     },
     "execution_count": 11,
     "metadata": {},
     "output_type": "execute_result"
    }
   ],
   "source": [
    "type(CumulativeReturns_EW)"
   ]
  },
  {
   "cell_type": "markdown",
   "metadata": {
    "colab_type": "text",
    "id": "d8MB17X6c-Ah"
   },
   "source": [
    "## Market-cap weighted portfolios\n",
    "Conversely, when large companies are doing well, market capitalization, or \"market cap\" weighted portfolios tend to outperform. This is because the largest weights are being assigned to the largest companies, or the companies with the largest market cap\n",
    "\n",
    "- Below is a table of the market capitalizations of the companies in your portfolio just before January 2017:\n",
    "<img src =\"https://github.com/iqbalamo93/Datasets/blob/master/Pyfin/Images/Mcap2017.JPG?raw=true\">"
   ]
  },
  {
   "cell_type": "code",
   "execution_count": 12,
   "metadata": {
    "colab": {},
    "colab_type": "code",
    "id": "w0rkeI2-Y-2P"
   },
   "outputs": [],
   "source": [
    "market_capitalizations = np.array([601.51, 469.25, 349.5, 310.48, 299.77, 356.94, 268.88, 331.57, 246.09])\n",
    "\n",
    "# Calculate the market cap weights\n",
    "mcap_weights = market_capitalizations / sum(market_capitalizations)\n",
    "\n",
    "# Calculate the market cap weighted portfolio returns\n",
    "StockReturns['Portfolio_MCap'] = StockReturns.iloc[:, 0:9].mul(mcap_weights, axis=1).sum(axis=1)\n",
    "#\n",
    "CumulativeReturns_MCap = ((1+StockReturns[\"Portfolio_MCap\"]).cumprod()-1)"
   ]
  },
  {
   "cell_type": "code",
   "execution_count": 13,
   "metadata": {},
   "outputs": [
    {
     "data": {
      "text/html": [
       "<div>\n",
       "<style scoped>\n",
       "    .dataframe tbody tr th:only-of-type {\n",
       "        vertical-align: middle;\n",
       "    }\n",
       "\n",
       "    .dataframe tbody tr th {\n",
       "        vertical-align: top;\n",
       "    }\n",
       "\n",
       "    .dataframe thead th {\n",
       "        text-align: right;\n",
       "    }\n",
       "</style>\n",
       "<table border=\"1\" class=\"dataframe\">\n",
       "  <thead>\n",
       "    <tr style=\"text-align: right;\">\n",
       "      <th></th>\n",
       "      <th>AAPL</th>\n",
       "      <th>MSFT</th>\n",
       "      <th>XOM</th>\n",
       "      <th>JNJ</th>\n",
       "      <th>JPM</th>\n",
       "      <th>AMZN</th>\n",
       "      <th>GE</th>\n",
       "      <th>FB</th>\n",
       "      <th>T</th>\n",
       "      <th>Portfolio</th>\n",
       "      <th>Portfolio_EW</th>\n",
       "      <th>Portfolio_MCap</th>\n",
       "    </tr>\n",
       "    <tr>\n",
       "      <th>Date</th>\n",
       "      <th></th>\n",
       "      <th></th>\n",
       "      <th></th>\n",
       "      <th></th>\n",
       "      <th></th>\n",
       "      <th></th>\n",
       "      <th></th>\n",
       "      <th></th>\n",
       "      <th></th>\n",
       "      <th></th>\n",
       "      <th></th>\n",
       "      <th></th>\n",
       "    </tr>\n",
       "  </thead>\n",
       "  <tbody>\n",
       "    <tr>\n",
       "      <th>2017-01-03</th>\n",
       "      <td>0.002849</td>\n",
       "      <td>0.007081</td>\n",
       "      <td>0.006980</td>\n",
       "      <td>0.005468</td>\n",
       "      <td>0.010894</td>\n",
       "      <td>0.005068</td>\n",
       "      <td>0.002848</td>\n",
       "      <td>0.015732</td>\n",
       "      <td>0.011521</td>\n",
       "      <td>0.008082</td>\n",
       "      <td>0.007605</td>\n",
       "      <td>0.007132</td>\n",
       "    </tr>\n",
       "    <tr>\n",
       "      <th>2017-01-04</th>\n",
       "      <td>-0.001119</td>\n",
       "      <td>-0.004474</td>\n",
       "      <td>-0.011002</td>\n",
       "      <td>-0.001640</td>\n",
       "      <td>0.001844</td>\n",
       "      <td>0.004657</td>\n",
       "      <td>0.000316</td>\n",
       "      <td>0.015660</td>\n",
       "      <td>-0.005811</td>\n",
       "      <td>0.000161</td>\n",
       "      <td>-0.000174</td>\n",
       "      <td>-0.000329</td>\n",
       "    </tr>\n",
       "    <tr>\n",
       "      <th>2017-01-05</th>\n",
       "      <td>0.005085</td>\n",
       "      <td>0.000000</td>\n",
       "      <td>-0.014907</td>\n",
       "      <td>0.010463</td>\n",
       "      <td>-0.009205</td>\n",
       "      <td>0.030732</td>\n",
       "      <td>-0.005678</td>\n",
       "      <td>0.016682</td>\n",
       "      <td>-0.002806</td>\n",
       "      <td>0.003448</td>\n",
       "      <td>0.003374</td>\n",
       "      <td>0.003903</td>\n",
       "    </tr>\n",
       "    <tr>\n",
       "      <th>2017-01-06</th>\n",
       "      <td>0.011148</td>\n",
       "      <td>0.008668</td>\n",
       "      <td>-0.000565</td>\n",
       "      <td>-0.004792</td>\n",
       "      <td>0.000116</td>\n",
       "      <td>0.019912</td>\n",
       "      <td>0.002855</td>\n",
       "      <td>0.022707</td>\n",
       "      <td>-0.019924</td>\n",
       "      <td>0.004660</td>\n",
       "      <td>0.004458</td>\n",
       "      <td>0.006068</td>\n",
       "    </tr>\n",
       "    <tr>\n",
       "      <th>2017-01-09</th>\n",
       "      <td>0.009159</td>\n",
       "      <td>-0.003183</td>\n",
       "      <td>-0.016497</td>\n",
       "      <td>-0.000172</td>\n",
       "      <td>0.000697</td>\n",
       "      <td>0.001168</td>\n",
       "      <td>-0.004745</td>\n",
       "      <td>0.012074</td>\n",
       "      <td>-0.012585</td>\n",
       "      <td>-0.001372</td>\n",
       "      <td>-0.001565</td>\n",
       "      <td>-0.000478</td>\n",
       "    </tr>\n",
       "  </tbody>\n",
       "</table>\n",
       "</div>"
      ],
      "text/plain": [
       "                AAPL      MSFT       XOM       JNJ       JPM      AMZN  \\\n",
       "Date                                                                     \n",
       "2017-01-03  0.002849  0.007081  0.006980  0.005468  0.010894  0.005068   \n",
       "2017-01-04 -0.001119 -0.004474 -0.011002 -0.001640  0.001844  0.004657   \n",
       "2017-01-05  0.005085  0.000000 -0.014907  0.010463 -0.009205  0.030732   \n",
       "2017-01-06  0.011148  0.008668 -0.000565 -0.004792  0.000116  0.019912   \n",
       "2017-01-09  0.009159 -0.003183 -0.016497 -0.000172  0.000697  0.001168   \n",
       "\n",
       "                  GE        FB         T  Portfolio  Portfolio_EW  \\\n",
       "Date                                                                \n",
       "2017-01-03  0.002848  0.015732  0.011521   0.008082      0.007605   \n",
       "2017-01-04  0.000316  0.015660 -0.005811   0.000161     -0.000174   \n",
       "2017-01-05 -0.005678  0.016682 -0.002806   0.003448      0.003374   \n",
       "2017-01-06  0.002855  0.022707 -0.019924   0.004660      0.004458   \n",
       "2017-01-09 -0.004745  0.012074 -0.012585  -0.001372     -0.001565   \n",
       "\n",
       "            Portfolio_MCap  \n",
       "Date                        \n",
       "2017-01-03        0.007132  \n",
       "2017-01-04       -0.000329  \n",
       "2017-01-05        0.003903  \n",
       "2017-01-06        0.006068  \n",
       "2017-01-09       -0.000478  "
      ]
     },
     "execution_count": 13,
     "metadata": {},
     "output_type": "execute_result"
    }
   ],
   "source": [
    "StockReturns.head()"
   ]
  },
  {
   "cell_type": "code",
   "execution_count": 14,
   "metadata": {
    "colab": {
     "base_uri": "https://localhost:8080/",
     "height": 393
    },
    "colab_type": "code",
    "id": "llNh2Nq5efUx",
    "outputId": "64234565-84b5-44f5-9c34-88c53a595338"
   },
   "outputs": [
    {
     "data": {
      "text/plain": [
       "<AxesSubplot:xlabel='Date'>"
      ]
     },
     "execution_count": 14,
     "metadata": {},
     "output_type": "execute_result"
    },
    {
     "data": {
      "image/png": "[encoded data removed]",
      "text/plain": [
       "<Figure size 720x432 with 1 Axes>"
      ]
     },
     "metadata": {
      "needs_background": "light"
     },
     "output_type": "display_data"
    }
   ],
   "source": [
    "figure =plt.figure(figsize=(10,6))\n",
    "CumulativeReturns_EW.plot(legend='EW')\n",
    "CumulativeReturns.plot(legend=True)\n",
    "CumulativeReturns_MCap.plot(legend=True)"
   ]
  },
  {
   "cell_type": "markdown",
   "metadata": {
    "colab_type": "text",
    "id": "2NpzIw3WbkBv"
   },
   "source": [
    "## Modern Portfolio Therory:\n",
    "\n",
    "You can actually build a portfolio of assets which has less risk than any of underlying security alone: It's all about correlation and covariance!\n",
    "\n",
    "- Portfolio standard deviation for a two asset portfolio:\n",
    "<img src =\"https://github.com/iqbalamo93/Datasets/blob/master/Pyfin/Images/Port_sd.JPG?raw=true\">\n",
    "\n",
    "### But what will happen if we have 2+ assets in portfolio?\n",
    "\n",
    "- Co-variance Matrix to rescue!\n",
    "\n",
    "### Portfolio Standard Deviation using Covariance\n",
    "<img src=\"https://github.com/iqbalamo93/Datasets/blob/master/Pyfin/Images/portfoliostandardDMT.JPG?raw=true\">\n"
   ]
  },
  {
   "cell_type": "code",
   "execution_count": 15,
   "metadata": {
    "colab": {
     "base_uri": "https://localhost:8080/",
     "height": 395
    },
    "colab_type": "code",
    "id": "o9-GDdPPDM05",
    "outputId": "7c0ece2d-aa7c-4ba9-e661-c83dfbb1ab96"
   },
   "outputs": [
    {
     "data": {
      "text/plain": [
       "<AxesSubplot:>"
      ]
     },
     "execution_count": 15,
     "metadata": {},
     "output_type": "execute_result"
    },
    {
     "data": {
      "image/png": "[encoded data removed]",
      "text/plain": [
       "<Figure size 720x432 with 2 Axes>"
      ]
     },
     "metadata": {
      "needs_background": "light"
     },
     "output_type": "display_data"
    }
   ],
   "source": [
    "plt.figure(figsize=(10,6))\n",
    "sns.heatmap(StockReturns.iloc[:,:-3].corr(),cmap='YlGnBu',annot = True)"
   ]
  },
  {
   "cell_type": "markdown",
   "metadata": {
    "colab_type": "text",
    "id": "PDkH6nIpmK9F"
   },
   "source": [
    "Incredible! Note that Amazon is most correlated with Facebook and Microsoft. The correlation matrix is very useful for a variety of quantitative investment analysis methods."
   ]
  },
  {
   "cell_type": "code",
   "execution_count": 23,
   "metadata": {},
   "outputs": [
    {
     "data": {
      "text/html": [
       "<div>\n",
       "<style scoped>\n",
       "    .dataframe tbody tr th:only-of-type {\n",
       "        vertical-align: middle;\n",
       "    }\n",
       "\n",
       "    .dataframe tbody tr th {\n",
       "        vertical-align: top;\n",
       "    }\n",
       "\n",
       "    .dataframe thead th {\n",
       "        text-align: right;\n",
       "    }\n",
       "</style>\n",
       "<table border=\"1\" class=\"dataframe\">\n",
       "  <thead>\n",
       "    <tr style=\"text-align: right;\">\n",
       "      <th></th>\n",
       "      <th>AAPL</th>\n",
       "      <th>MSFT</th>\n",
       "      <th>XOM</th>\n",
       "      <th>JNJ</th>\n",
       "      <th>JPM</th>\n",
       "      <th>AMZN</th>\n",
       "      <th>GE</th>\n",
       "      <th>FB</th>\n",
       "      <th>T</th>\n",
       "      <th>Portfolio</th>\n",
       "      <th>Portfolio_EW</th>\n",
       "      <th>Portfolio_MCap</th>\n",
       "    </tr>\n",
       "    <tr>\n",
       "      <th>Date</th>\n",
       "      <th></th>\n",
       "      <th></th>\n",
       "      <th></th>\n",
       "      <th></th>\n",
       "      <th></th>\n",
       "      <th></th>\n",
       "      <th></th>\n",
       "      <th></th>\n",
       "      <th></th>\n",
       "      <th></th>\n",
       "      <th></th>\n",
       "      <th></th>\n",
       "    </tr>\n",
       "  </thead>\n",
       "  <tbody>\n",
       "    <tr>\n",
       "      <th>2017-01-03</th>\n",
       "      <td>0.002849</td>\n",
       "      <td>0.007081</td>\n",
       "      <td>0.006980</td>\n",
       "      <td>0.005468</td>\n",
       "      <td>0.010894</td>\n",
       "      <td>0.005068</td>\n",
       "      <td>0.002848</td>\n",
       "      <td>0.015732</td>\n",
       "      <td>0.011521</td>\n",
       "      <td>0.008082</td>\n",
       "      <td>0.007605</td>\n",
       "      <td>0.007132</td>\n",
       "    </tr>\n",
       "    <tr>\n",
       "      <th>2017-01-04</th>\n",
       "      <td>-0.001119</td>\n",
       "      <td>-0.004474</td>\n",
       "      <td>-0.011002</td>\n",
       "      <td>-0.001640</td>\n",
       "      <td>0.001844</td>\n",
       "      <td>0.004657</td>\n",
       "      <td>0.000316</td>\n",
       "      <td>0.015660</td>\n",
       "      <td>-0.005811</td>\n",
       "      <td>0.000161</td>\n",
       "      <td>-0.000174</td>\n",
       "      <td>-0.000329</td>\n",
       "    </tr>\n",
       "    <tr>\n",
       "      <th>2017-01-05</th>\n",
       "      <td>0.005085</td>\n",
       "      <td>0.000000</td>\n",
       "      <td>-0.014907</td>\n",
       "      <td>0.010463</td>\n",
       "      <td>-0.009205</td>\n",
       "      <td>0.030732</td>\n",
       "      <td>-0.005678</td>\n",
       "      <td>0.016682</td>\n",
       "      <td>-0.002806</td>\n",
       "      <td>0.003448</td>\n",
       "      <td>0.003374</td>\n",
       "      <td>0.003903</td>\n",
       "    </tr>\n",
       "    <tr>\n",
       "      <th>2017-01-06</th>\n",
       "      <td>0.011148</td>\n",
       "      <td>0.008668</td>\n",
       "      <td>-0.000565</td>\n",
       "      <td>-0.004792</td>\n",
       "      <td>0.000116</td>\n",
       "      <td>0.019912</td>\n",
       "      <td>0.002855</td>\n",
       "      <td>0.022707</td>\n",
       "      <td>-0.019924</td>\n",
       "      <td>0.004660</td>\n",
       "      <td>0.004458</td>\n",
       "      <td>0.006068</td>\n",
       "    </tr>\n",
       "    <tr>\n",
       "      <th>2017-01-09</th>\n",
       "      <td>0.009159</td>\n",
       "      <td>-0.003183</td>\n",
       "      <td>-0.016497</td>\n",
       "      <td>-0.000172</td>\n",
       "      <td>0.000697</td>\n",
       "      <td>0.001168</td>\n",
       "      <td>-0.004745</td>\n",
       "      <td>0.012074</td>\n",
       "      <td>-0.012585</td>\n",
       "      <td>-0.001372</td>\n",
       "      <td>-0.001565</td>\n",
       "      <td>-0.000478</td>\n",
       "    </tr>\n",
       "  </tbody>\n",
       "</table>\n",
       "</div>"
      ],
      "text/plain": [
       "                AAPL      MSFT       XOM       JNJ       JPM      AMZN  \\\n",
       "Date                                                                     \n",
       "2017-01-03  0.002849  0.007081  0.006980  0.005468  0.010894  0.005068   \n",
       "2017-01-04 -0.001119 -0.004474 -0.011002 -0.001640  0.001844  0.004657   \n",
       "2017-01-05  0.005085  0.000000 -0.014907  0.010463 -0.009205  0.030732   \n",
       "2017-01-06  0.011148  0.008668 -0.000565 -0.004792  0.000116  0.019912   \n",
       "2017-01-09  0.009159 -0.003183 -0.016497 -0.000172  0.000697  0.001168   \n",
       "\n",
       "                  GE        FB         T  Portfolio  Portfolio_EW  \\\n",
       "Date                                                                \n",
       "2017-01-03  0.002848  0.015732  0.011521   0.008082      0.007605   \n",
       "2017-01-04  0.000316  0.015660 -0.005811   0.000161     -0.000174   \n",
       "2017-01-05 -0.005678  0.016682 -0.002806   0.003448      0.003374   \n",
       "2017-01-06  0.002855  0.022707 -0.019924   0.004660      0.004458   \n",
       "2017-01-09 -0.004745  0.012074 -0.012585  -0.001372     -0.001565   \n",
       "\n",
       "            Portfolio_MCap  \n",
       "Date                        \n",
       "2017-01-03        0.007132  \n",
       "2017-01-04       -0.000329  \n",
       "2017-01-05        0.003903  \n",
       "2017-01-06        0.006068  \n",
       "2017-01-09       -0.000478  "
      ]
     },
     "execution_count": 23,
     "metadata": {},
     "output_type": "execute_result"
    }
   ],
   "source": [
    "StockReturns.head()"
   ]
  },
  {
   "cell_type": "code",
   "execution_count": 16,
   "metadata": {
    "colab": {
     "base_uri": "https://localhost:8080/",
     "height": 325
    },
    "colab_type": "code",
    "id": "mZ3KjiY0FESL",
    "outputId": "57429dab-fce1-452d-9ea6-49cc2d24f065"
   },
   "outputs": [
    {
     "data": {
      "text/html": [
       "<div>\n",
       "<style scoped>\n",
       "    .dataframe tbody tr th:only-of-type {\n",
       "        vertical-align: middle;\n",
       "    }\n",
       "\n",
       "    .dataframe tbody tr th {\n",
       "        vertical-align: top;\n",
       "    }\n",
       "\n",
       "    .dataframe thead th {\n",
       "        text-align: right;\n",
       "    }\n",
       "</style>\n",
       "<table border=\"1\" class=\"dataframe\">\n",
       "  <thead>\n",
       "    <tr style=\"text-align: right;\">\n",
       "      <th></th>\n",
       "      <th>AAPL</th>\n",
       "      <th>MSFT</th>\n",
       "      <th>XOM</th>\n",
       "      <th>JNJ</th>\n",
       "      <th>JPM</th>\n",
       "      <th>AMZN</th>\n",
       "      <th>GE</th>\n",
       "      <th>FB</th>\n",
       "      <th>T</th>\n",
       "    </tr>\n",
       "  </thead>\n",
       "  <tbody>\n",
       "    <tr>\n",
       "      <th>AAPL</th>\n",
       "      <td>0.030996</td>\n",
       "      <td>0.011400</td>\n",
       "      <td>0.001093</td>\n",
       "      <td>0.000774</td>\n",
       "      <td>0.005716</td>\n",
       "      <td>0.018805</td>\n",
       "      <td>0.000236</td>\n",
       "      <td>0.016243</td>\n",
       "      <td>0.000152</td>\n",
       "    </tr>\n",
       "    <tr>\n",
       "      <th>MSFT</th>\n",
       "      <td>0.011400</td>\n",
       "      <td>0.021912</td>\n",
       "      <td>0.001392</td>\n",
       "      <td>0.003899</td>\n",
       "      <td>0.004597</td>\n",
       "      <td>0.019275</td>\n",
       "      <td>-0.001315</td>\n",
       "      <td>0.013682</td>\n",
       "      <td>-0.000530</td>\n",
       "    </tr>\n",
       "    <tr>\n",
       "      <th>XOM</th>\n",
       "      <td>0.001093</td>\n",
       "      <td>0.001392</td>\n",
       "      <td>0.012500</td>\n",
       "      <td>0.001548</td>\n",
       "      <td>0.005554</td>\n",
       "      <td>0.000354</td>\n",
       "      <td>0.004295</td>\n",
       "      <td>-0.000890</td>\n",
       "      <td>0.003751</td>\n",
       "    </tr>\n",
       "    <tr>\n",
       "      <th>JNJ</th>\n",
       "      <td>0.000774</td>\n",
       "      <td>0.003899</td>\n",
       "      <td>0.001548</td>\n",
       "      <td>0.013092</td>\n",
       "      <td>0.001307</td>\n",
       "      <td>0.001266</td>\n",
       "      <td>0.001540</td>\n",
       "      <td>0.001545</td>\n",
       "      <td>0.001780</td>\n",
       "    </tr>\n",
       "    <tr>\n",
       "      <th>JPM</th>\n",
       "      <td>0.005716</td>\n",
       "      <td>0.004597</td>\n",
       "      <td>0.005554</td>\n",
       "      <td>0.001307</td>\n",
       "      <td>0.026371</td>\n",
       "      <td>0.000474</td>\n",
       "      <td>0.008283</td>\n",
       "      <td>0.002631</td>\n",
       "      <td>0.006972</td>\n",
       "    </tr>\n",
       "    <tr>\n",
       "      <th>AMZN</th>\n",
       "      <td>0.018805</td>\n",
       "      <td>0.019275</td>\n",
       "      <td>0.000354</td>\n",
       "      <td>0.001266</td>\n",
       "      <td>0.000474</td>\n",
       "      <td>0.043954</td>\n",
       "      <td>-0.003830</td>\n",
       "      <td>0.023290</td>\n",
       "      <td>-0.000638</td>\n",
       "    </tr>\n",
       "    <tr>\n",
       "      <th>GE</th>\n",
       "      <td>0.000236</td>\n",
       "      <td>-0.001315</td>\n",
       "      <td>0.004295</td>\n",
       "      <td>0.001540</td>\n",
       "      <td>0.008283</td>\n",
       "      <td>-0.003830</td>\n",
       "      <td>0.039270</td>\n",
       "      <td>-0.000821</td>\n",
       "      <td>0.009849</td>\n",
       "    </tr>\n",
       "    <tr>\n",
       "      <th>FB</th>\n",
       "      <td>0.016243</td>\n",
       "      <td>0.013682</td>\n",
       "      <td>-0.000890</td>\n",
       "      <td>0.001545</td>\n",
       "      <td>0.002631</td>\n",
       "      <td>0.023290</td>\n",
       "      <td>-0.000821</td>\n",
       "      <td>0.028937</td>\n",
       "      <td>-0.000708</td>\n",
       "    </tr>\n",
       "    <tr>\n",
       "      <th>T</th>\n",
       "      <td>0.000152</td>\n",
       "      <td>-0.000530</td>\n",
       "      <td>0.003751</td>\n",
       "      <td>0.001780</td>\n",
       "      <td>0.006972</td>\n",
       "      <td>-0.000638</td>\n",
       "      <td>0.009849</td>\n",
       "      <td>-0.000708</td>\n",
       "      <td>0.028833</td>\n",
       "    </tr>\n",
       "  </tbody>\n",
       "</table>\n",
       "</div>"
      ],
      "text/plain": [
       "          AAPL      MSFT       XOM       JNJ       JPM      AMZN        GE  \\\n",
       "AAPL  0.030996  0.011400  0.001093  0.000774  0.005716  0.018805  0.000236   \n",
       "MSFT  0.011400  0.021912  0.001392  0.003899  0.004597  0.019275 -0.001315   \n",
       "XOM   0.001093  0.001392  0.012500  0.001548  0.005554  0.000354  0.004295   \n",
       "JNJ   0.000774  0.003899  0.001548  0.013092  0.001307  0.001266  0.001540   \n",
       "JPM   0.005716  0.004597  0.005554  0.001307  0.026371  0.000474  0.008283   \n",
       "AMZN  0.018805  0.019275  0.000354  0.001266  0.000474  0.043954 -0.003830   \n",
       "GE    0.000236 -0.001315  0.004295  0.001540  0.008283 -0.003830  0.039270   \n",
       "FB    0.016243  0.013682 -0.000890  0.001545  0.002631  0.023290 -0.000821   \n",
       "T     0.000152 -0.000530  0.003751  0.001780  0.006972 -0.000638  0.009849   \n",
       "\n",
       "            FB         T  \n",
       "AAPL  0.016243  0.000152  \n",
       "MSFT  0.013682 -0.000530  \n",
       "XOM  -0.000890  0.003751  \n",
       "JNJ   0.001545  0.001780  \n",
       "JPM   0.002631  0.006972  \n",
       "AMZN  0.023290 -0.000638  \n",
       "GE   -0.000821  0.009849  \n",
       "FB    0.028937 -0.000708  \n",
       "T    -0.000708  0.028833  "
      ]
     },
     "execution_count": 16,
     "metadata": {},
     "output_type": "execute_result"
    }
   ],
   "source": [
    "#Co-variance\n",
    "StockReturns.iloc[:,:-3].cov()*252\n",
    "#Annualize the co-variance matrix by multiplying it with 252, the number of trading days in a year."
   ]
  },
  {
   "cell_type": "code",
   "execution_count": 17,
   "metadata": {
    "colab": {
     "base_uri": "https://localhost:8080/",
     "height": 225
    },
    "colab_type": "code",
    "id": "MemNoWRgFPvF",
    "outputId": "d8bf4698-b7d1-420d-bb1f-c9c80700ae5d"
   },
   "outputs": [
    {
     "name": "stdout",
     "output_type": "stream",
     "text": [
      "          AAPL      MSFT       XOM       JNJ       JPM      AMZN        GE  \\\n",
      "AAPL  0.030996  0.011400  0.001093  0.000774  0.005716  0.018805  0.000236   \n",
      "MSFT  0.011400  0.021912  0.001392  0.003899  0.004597  0.019275 -0.001315   \n",
      "XOM   0.001093  0.001392  0.012500  0.001548  0.005554  0.000354  0.004295   \n",
      "JNJ   0.000774  0.003899  0.001548  0.013092  0.001307  0.001266  0.001540   \n",
      "JPM   0.005716  0.004597  0.005554  0.001307  0.026371  0.000474  0.008283   \n",
      "AMZN  0.018805  0.019275  0.000354  0.001266  0.000474  0.043954 -0.003830   \n",
      "GE    0.000236 -0.001315  0.004295  0.001540  0.008283 -0.003830  0.039270   \n",
      "FB    0.016243  0.013682 -0.000890  0.001545  0.002631  0.023290 -0.000821   \n",
      "T     0.000152 -0.000530  0.003751  0.001780  0.006972 -0.000638  0.009849   \n",
      "\n",
      "            FB         T  \n",
      "AAPL  0.016243  0.000152  \n",
      "MSFT  0.013682 -0.000530  \n",
      "XOM  -0.000890  0.003751  \n",
      "JNJ   0.001545  0.001780  \n",
      "JPM   0.002631  0.006972  \n",
      "AMZN  0.023290 -0.000638  \n",
      "GE   -0.000821  0.009849  \n",
      "FB    0.028937 -0.000708  \n",
      "T    -0.000708  0.028833  \n"
     ]
    }
   ],
   "source": [
    "# Calculate the covariance matrix\n",
    "cov_mat = StockReturns.iloc[:,:-3].cov()\n",
    "\n",
    "# Annualize the co-variance matrix\n",
    "cov_mat_annual = cov_mat*252\n",
    "\n",
    "# Print the annualized co-variance matrix\n",
    "print(cov_mat_annual)"
   ]
  },
  {
   "cell_type": "code",
   "execution_count": 18,
   "metadata": {},
   "outputs": [
    {
     "data": {
      "text/plain": [
       "array([0.12, 0.15, 0.08, 0.05, 0.09, 0.1 , 0.11, 0.14, 0.16])"
      ]
     },
     "execution_count": 18,
     "metadata": {},
     "output_type": "execute_result"
    }
   ],
   "source": [
    "portfolio_weights\n"
   ]
  },
  {
   "cell_type": "code",
   "execution_count": 19,
   "metadata": {
    "colab": {
     "base_uri": "https://localhost:8080/",
     "height": 35
    },
    "colab_type": "code",
    "id": "YOpNn5EYbIo3",
    "outputId": "ddefed09-2a23-45c5-a0e6-4514f8aa91f2"
   },
   "outputs": [
    {
     "name": "stdout",
     "output_type": "stream",
     "text": [
      "0.08931417642713807\n"
     ]
    }
   ],
   "source": [
    "portfolio_volatility = np.sqrt(np.dot(portfolio_weights.T, np.dot(cov_mat_annual, portfolio_weights)))\n",
    "print(portfolio_volatility)\n",
    "\n",
    "#np.dot(cov_mat_annual, portfolio_weights) cov_mat_annual@portfolio_weights is also fine.\n",
    "#We are giving weitage to matrix"
   ]
  },
  {
   "cell_type": "markdown",
   "metadata": {
    "colab_type": "text",
    "id": "ZON3nbv589Tx"
   },
   "source": [
    "Well done! This was a monster. The portfolio volatility is 8.93%"
   ]
  },
  {
   "cell_type": "markdown",
   "metadata": {
    "colab_type": "text",
    "id": "CP9IsmPD-GRo"
   },
   "source": [
    "## Markowitz Portfolios\n",
    "\n",
    "- Sharpe ratio:\n",
    "\n",
    "The Sharpe ratio is a measure of risk-adjusted return.\n",
    "To calculate the 1966 version of the Sharpe ratio:\n",
    "<img src=\"https://github.com/iqbalamo93/Datasets/blob/master/Pyfin/Images/sharperatio.JPG?raw=true\">\n",
    "\n",
    "The Sharpe ratio is a simple metric of risk adjusted return which was pioneered by William F. Sharpe. Sharpe ratio is useful to determine how much risk is being taken to achieve a certain level of return. In finance, you are always seeking ways to improve your Sharpe ratio, and the measure is very commonly quoted and used to compare investment strategies.\n",
    "\n",
    "##The Markowitz Portfolios\n",
    "- Any point on the efficient frontier is an\n",
    "optimium portfolio.These two common points are called\n",
    "\n",
    "1.   MSR: Max Sharpe Ratio portfolio\n",
    "<p>The maximum Sharpe ratio, or MSR portfolio, which lies at the apex of the efficient frontier, can be constructed by looking for the portfolio with the highest Sharpe ratio.Unfortunately, the MSR portfolio is often quite erratic. Even though the portfolio had a high historical Sharpe ratio, it doesn't guarantee that the portfolio will have a good Sharpe ratio moving forward.</p>\n",
    "2.   GMV: Global Minimum Volatility portfolio\n",
    "<p>The global minimum volatility portfolio, or GMV portfolio, is the portfolio with the lowest standard deviation (risk) and the highest return for the given risk level.Returns are very hard to predict, but volatilities and correlations tend to be more stable over time. This means that the GMV portfolio often outperforms the MSR portfolios out of sample even though the MSR would outperform quite significantly in-sample. Of course, out of sample results are what really matters in finance.</p>\n",
    "\n",
    "<img src=\"https://github.com/iqbalamo93/Datasets/blob/master/Pyfin/Images/Efffront.JPG?raw=true\">\n",
    "\n",
    "### Choosing a Portfolio\n",
    "<h2> How do you choose the best Portfolio?</h2>\n",
    "\n",
    "\n",
    "* Try to pick a portfolio on the bounding edge of the efficient frontier\n",
    "* Higher return is available if you can stomach higher risk\n",
    "\n",
    "### Past Performance is Not a Guarantee of Future Returns\n",
    "Even though a Max Sharpe Ratio portfolio might sound nice, in practice, returns are extremely difficult to predict.\n",
    "\n"
   ]
  },
  {
   "cell_type": "code",
   "execution_count": 20,
   "metadata": {
    "colab": {},
    "colab_type": "code",
    "id": "qdD2cs645nkq"
   },
   "outputs": [],
   "source": [
    "url='https://raw.githubusercontent.com/iqbalamo93/Datasets/master/Finance/EfficientFrontierPortfoliosSlim.csv'"
   ]
  },
  {
   "cell_type": "code",
   "execution_count": 21,
   "metadata": {
    "colab": {},
    "colab_type": "code",
    "id": "-hKJ21Vc50DD"
   },
   "outputs": [],
   "source": [
    "RandomPortfolios = pd.read_csv(url)"
   ]
  },
  {
   "cell_type": "code",
   "execution_count": 22,
   "metadata": {
    "colab": {
     "base_uri": "https://localhost:8080/",
     "height": 0
    },
    "colab_type": "code",
    "id": "BiYfAsXN61lH",
    "outputId": "a77619ad-f28a-42ae-eab9-47a0521f1a07"
   },
   "outputs": [
    {
     "data": {
      "text/html": [
       "<div>\n",
       "<style scoped>\n",
       "    .dataframe tbody tr th:only-of-type {\n",
       "        vertical-align: middle;\n",
       "    }\n",
       "\n",
       "    .dataframe tbody tr th {\n",
       "        vertical-align: top;\n",
       "    }\n",
       "\n",
       "    .dataframe thead th {\n",
       "        text-align: right;\n",
       "    }\n",
       "</style>\n",
       "<table border=\"1\" class=\"dataframe\">\n",
       "  <thead>\n",
       "    <tr style=\"text-align: right;\">\n",
       "      <th></th>\n",
       "      <th>AAPL weight</th>\n",
       "      <th>MSFT weight</th>\n",
       "      <th>XOM weight</th>\n",
       "      <th>JNJ weight</th>\n",
       "      <th>JPM weight</th>\n",
       "      <th>AMZN weight</th>\n",
       "      <th>GE weight</th>\n",
       "      <th>FB weight</th>\n",
       "      <th>T weight</th>\n",
       "      <th>Returns</th>\n",
       "      <th>Volatility</th>\n",
       "    </tr>\n",
       "  </thead>\n",
       "  <tbody>\n",
       "    <tr>\n",
       "      <th>0</th>\n",
       "      <td>0.000053</td>\n",
       "      <td>0.263110</td>\n",
       "      <td>0.007022</td>\n",
       "      <td>0.040087</td>\n",
       "      <td>0.000027</td>\n",
       "      <td>0.024316</td>\n",
       "      <td>0.355899</td>\n",
       "      <td>0.299400</td>\n",
       "      <td>0.010087</td>\n",
       "      <td>0.127453</td>\n",
       "      <td>0.171565</td>\n",
       "    </tr>\n",
       "    <tr>\n",
       "      <th>1</th>\n",
       "      <td>0.042360</td>\n",
       "      <td>0.034922</td>\n",
       "      <td>0.079355</td>\n",
       "      <td>0.043057</td>\n",
       "      <td>0.001435</td>\n",
       "      <td>0.202032</td>\n",
       "      <td>0.225924</td>\n",
       "      <td>0.362324</td>\n",
       "      <td>0.008590</td>\n",
       "      <td>0.138614</td>\n",
       "      <td>0.182723</td>\n",
       "    </tr>\n",
       "    <tr>\n",
       "      <th>2</th>\n",
       "      <td>0.207824</td>\n",
       "      <td>0.002132</td>\n",
       "      <td>0.005982</td>\n",
       "      <td>0.041657</td>\n",
       "      <td>0.007498</td>\n",
       "      <td>0.406642</td>\n",
       "      <td>0.064929</td>\n",
       "      <td>0.229260</td>\n",
       "      <td>0.034075</td>\n",
       "      <td>0.155952</td>\n",
       "      <td>0.201185</td>\n",
       "    </tr>\n",
       "    <tr>\n",
       "      <th>3</th>\n",
       "      <td>0.096565</td>\n",
       "      <td>0.016775</td>\n",
       "      <td>0.118409</td>\n",
       "      <td>0.037725</td>\n",
       "      <td>0.020013</td>\n",
       "      <td>0.045195</td>\n",
       "      <td>0.512282</td>\n",
       "      <td>0.153015</td>\n",
       "      <td>0.000020</td>\n",
       "      <td>0.118787</td>\n",
       "      <td>0.148958</td>\n",
       "    </tr>\n",
       "    <tr>\n",
       "      <th>4</th>\n",
       "      <td>0.131309</td>\n",
       "      <td>0.002733</td>\n",
       "      <td>0.002360</td>\n",
       "      <td>0.047573</td>\n",
       "      <td>0.050633</td>\n",
       "      <td>0.289410</td>\n",
       "      <td>0.313717</td>\n",
       "      <td>0.157123</td>\n",
       "      <td>0.005141</td>\n",
       "      <td>0.138304</td>\n",
       "      <td>0.171473</td>\n",
       "    </tr>\n",
       "  </tbody>\n",
       "</table>\n",
       "</div>"
      ],
      "text/plain": [
       "   AAPL weight  MSFT weight  XOM weight  JNJ weight  JPM weight  AMZN weight  \\\n",
       "0     0.000053     0.263110    0.007022    0.040087    0.000027     0.024316   \n",
       "1     0.042360     0.034922    0.079355    0.043057    0.001435     0.202032   \n",
       "2     0.207824     0.002132    0.005982    0.041657    0.007498     0.406642   \n",
       "3     0.096565     0.016775    0.118409    0.037725    0.020013     0.045195   \n",
       "4     0.131309     0.002733    0.002360    0.047573    0.050633     0.289410   \n",
       "\n",
       "   GE weight  FB weight  T weight   Returns  Volatility  \n",
       "0   0.355899   0.299400  0.010087  0.127453    0.171565  \n",
       "1   0.225924   0.362324  0.008590  0.138614    0.182723  \n",
       "2   0.064929   0.229260  0.034075  0.155952    0.201185  \n",
       "3   0.512282   0.153015  0.000020  0.118787    0.148958  \n",
       "4   0.313717   0.157123  0.005141  0.138304    0.171473  "
      ]
     },
     "execution_count": 22,
     "metadata": {},
     "output_type": "execute_result"
    }
   ],
   "source": [
    "RandomPortfolios.head()"
   ]
  },
  {
   "cell_type": "code",
   "execution_count": 24,
   "metadata": {
    "colab": {
     "base_uri": "https://localhost:8080/",
     "height": 0
    },
    "colab_type": "code",
    "id": "006B1_127KoZ",
    "outputId": "3ddd7bc3-50fb-4ce8-f28d-24c072fce188"
   },
   "outputs": [
    {
     "name": "stdout",
     "output_type": "stream",
     "text": [
      "min    0.742884\n",
      "max    2.270462\n",
      "Name: Sharpe, dtype: float64\n"
     ]
    }
   ],
   "source": [
    "# Risk free rate\n",
    "risk_free = 0\n",
    "\n",
    "# Calculate the Sharpe Ratio for each asset\n",
    "RandomPortfolios['Sharpe'] = (RandomPortfolios['Returns']-risk_free)/RandomPortfolios['Volatility']\n",
    "\n",
    "# Print the range of Sharpe ratios\n",
    "print(RandomPortfolios['Sharpe'].describe()[['min', 'max']])"
   ]
  },
  {
   "cell_type": "markdown",
   "metadata": {
    "colab_type": "text",
    "id": "B9OvRSureTsF"
   },
   "source": [
    "Very good! Bill Sharpe would be proud! The portfolio historical Sharpe ratios range from 0.742 to 2.27."
   ]
  },
  {
   "cell_type": "code",
   "execution_count": 25,
   "metadata": {
    "colab": {
     "base_uri": "https://localhost:8080/",
     "height": 0
    },
    "colab_type": "code",
    "id": "uqD9hvOM7Y1l",
    "outputId": "cfdd0bf1-9753-4e9b-d8f8-723b7be7d07e"
   },
   "outputs": [
    {
     "data": {
      "text/html": [
       "<div>\n",
       "<style scoped>\n",
       "    .dataframe tbody tr th:only-of-type {\n",
       "        vertical-align: middle;\n",
       "    }\n",
       "\n",
       "    .dataframe tbody tr th {\n",
       "        vertical-align: top;\n",
       "    }\n",
       "\n",
       "    .dataframe thead th {\n",
       "        text-align: right;\n",
       "    }\n",
       "</style>\n",
       "<table border=\"1\" class=\"dataframe\">\n",
       "  <thead>\n",
       "    <tr style=\"text-align: right;\">\n",
       "      <th></th>\n",
       "      <th>AAPL weight</th>\n",
       "      <th>MSFT weight</th>\n",
       "      <th>XOM weight</th>\n",
       "      <th>JNJ weight</th>\n",
       "      <th>JPM weight</th>\n",
       "      <th>AMZN weight</th>\n",
       "      <th>GE weight</th>\n",
       "      <th>FB weight</th>\n",
       "      <th>T weight</th>\n",
       "      <th>Returns</th>\n",
       "      <th>Volatility</th>\n",
       "      <th>Sharpe</th>\n",
       "    </tr>\n",
       "  </thead>\n",
       "  <tbody>\n",
       "    <tr>\n",
       "      <th>0</th>\n",
       "      <td>0.000053</td>\n",
       "      <td>0.263110</td>\n",
       "      <td>0.007022</td>\n",
       "      <td>0.040087</td>\n",
       "      <td>0.000027</td>\n",
       "      <td>0.024316</td>\n",
       "      <td>0.355899</td>\n",
       "      <td>0.299400</td>\n",
       "      <td>0.010087</td>\n",
       "      <td>0.127453</td>\n",
       "      <td>0.171565</td>\n",
       "      <td>0.742884</td>\n",
       "    </tr>\n",
       "    <tr>\n",
       "      <th>1</th>\n",
       "      <td>0.042360</td>\n",
       "      <td>0.034922</td>\n",
       "      <td>0.079355</td>\n",
       "      <td>0.043057</td>\n",
       "      <td>0.001435</td>\n",
       "      <td>0.202032</td>\n",
       "      <td>0.225924</td>\n",
       "      <td>0.362324</td>\n",
       "      <td>0.008590</td>\n",
       "      <td>0.138614</td>\n",
       "      <td>0.182723</td>\n",
       "      <td>0.758601</td>\n",
       "    </tr>\n",
       "    <tr>\n",
       "      <th>2</th>\n",
       "      <td>0.207824</td>\n",
       "      <td>0.002132</td>\n",
       "      <td>0.005982</td>\n",
       "      <td>0.041657</td>\n",
       "      <td>0.007498</td>\n",
       "      <td>0.406642</td>\n",
       "      <td>0.064929</td>\n",
       "      <td>0.229260</td>\n",
       "      <td>0.034075</td>\n",
       "      <td>0.155952</td>\n",
       "      <td>0.201185</td>\n",
       "      <td>0.775170</td>\n",
       "    </tr>\n",
       "    <tr>\n",
       "      <th>3</th>\n",
       "      <td>0.096565</td>\n",
       "      <td>0.016775</td>\n",
       "      <td>0.118409</td>\n",
       "      <td>0.037725</td>\n",
       "      <td>0.020013</td>\n",
       "      <td>0.045195</td>\n",
       "      <td>0.512282</td>\n",
       "      <td>0.153015</td>\n",
       "      <td>0.000020</td>\n",
       "      <td>0.118787</td>\n",
       "      <td>0.148958</td>\n",
       "      <td>0.797450</td>\n",
       "    </tr>\n",
       "    <tr>\n",
       "      <th>4</th>\n",
       "      <td>0.131309</td>\n",
       "      <td>0.002733</td>\n",
       "      <td>0.002360</td>\n",
       "      <td>0.047573</td>\n",
       "      <td>0.050633</td>\n",
       "      <td>0.289410</td>\n",
       "      <td>0.313717</td>\n",
       "      <td>0.157123</td>\n",
       "      <td>0.005141</td>\n",
       "      <td>0.138304</td>\n",
       "      <td>0.171473</td>\n",
       "      <td>0.806565</td>\n",
       "    </tr>\n",
       "  </tbody>\n",
       "</table>\n",
       "</div>"
      ],
      "text/plain": [
       "   AAPL weight  MSFT weight  XOM weight  JNJ weight  JPM weight  AMZN weight  \\\n",
       "0     0.000053     0.263110    0.007022    0.040087    0.000027     0.024316   \n",
       "1     0.042360     0.034922    0.079355    0.043057    0.001435     0.202032   \n",
       "2     0.207824     0.002132    0.005982    0.041657    0.007498     0.406642   \n",
       "3     0.096565     0.016775    0.118409    0.037725    0.020013     0.045195   \n",
       "4     0.131309     0.002733    0.002360    0.047573    0.050633     0.289410   \n",
       "\n",
       "   GE weight  FB weight  T weight   Returns  Volatility    Sharpe  \n",
       "0   0.355899   0.299400  0.010087  0.127453    0.171565  0.742884  \n",
       "1   0.225924   0.362324  0.008590  0.138614    0.182723  0.758601  \n",
       "2   0.064929   0.229260  0.034075  0.155952    0.201185  0.775170  \n",
       "3   0.512282   0.153015  0.000020  0.118787    0.148958  0.797450  \n",
       "4   0.313717   0.157123  0.005141  0.138304    0.171473  0.806565  "
      ]
     },
     "execution_count": 25,
     "metadata": {},
     "output_type": "execute_result"
    }
   ],
   "source": [
    "RandomPortfolios.head()"
   ]
  },
  {
   "cell_type": "code",
   "execution_count": 26,
   "metadata": {
    "colab": {},
    "colab_type": "code",
    "id": "YZfztoVe8R9n"
   },
   "outputs": [],
   "source": [
    "# Sort the portfolios by Sharpe ratio\n",
    "ind_max_sharpe = RandomPortfolios['Sharpe'].argmax()\n",
    "\n",
    "# Extract the corresponding weights\n",
    "MSR_weights = RandomPortfolios.iloc[ind_max_sharpe,:-3].values\n",
    "\n",
    "# Calculate the MSR portfolio returns\n",
    "StockReturns['Portfolio_MSR'] = StockReturns.iloc[:, 0:9].mul(MSR_weights, axis=1).sum(axis=1)\n",
    "CumulativeReturns_MSR = ((1+StockReturns[\"Portfolio_MSR\"]).cumprod()-1)"
   ]
  },
  {
   "cell_type": "code",
   "execution_count": 27,
   "metadata": {
    "colab": {
     "base_uri": "https://localhost:8080/",
     "height": 0
    },
    "colab_type": "code",
    "id": "LchhlztW8grv",
    "outputId": "18b22ee0-1147-4fe6-93a3-099bc9133a84"
   },
   "outputs": [
    {
     "data": {
      "text/plain": [
       "<AxesSubplot:xlabel='Date'>"
      ]
     },
     "execution_count": 27,
     "metadata": {},
     "output_type": "execute_result"
    },
    {
     "data": {
      "image/png": "[encoded data removed]",
      "text/plain": [
       "<Figure size 720x432 with 1 Axes>"
      ]
     },
     "metadata": {
      "needs_background": "light"
     },
     "output_type": "display_data"
    }
   ],
   "source": [
    "figure =plt.figure(figsize=(10,6))\n",
    "CumulativeReturns_EW.plot(legend='EW')\n",
    "CumulativeReturns.plot(legend=True)\n",
    "CumulativeReturns_MCap.plot(legend=True)\n",
    "CumulativeReturns_MSR.plot(legend=True)"
   ]
  },
  {
   "cell_type": "markdown",
   "metadata": {
    "colab_type": "text",
    "id": "mmRAo5g-Ko_D"
   },
   "source": [
    "Yikes! we just optimized your first portfolio - but past performance does not guarantee future results.As shown above!! Returns are harder to predict, making the MSR unstable."
   ]
  },
  {
   "cell_type": "code",
   "execution_count": null,
   "metadata": {
    "colab": {},
    "colab_type": "code",
    "id": "Jij9l7I3RQQU"
   },
   "outputs": [],
   "source": []
  },
  {
   "cell_type": "code",
   "execution_count": 28,
   "metadata": {
    "colab": {},
    "colab_type": "code",
    "id": "1h4HF9-HshlF"
   },
   "outputs": [],
   "source": [
    "# Sort the portfolios by volatility\n",
    "ind_min_vol = RandomPortfolios['Volatility'].argmin()\n",
    "\n",
    "# Extract the corresponding weights\n",
    "GMV_weights =RandomPortfolios.iloc[ind_max_sharpe,:-3].values\n",
    "\n",
    "# Cast the GMV weights as a numpy array\n",
    "GMV_weights_array = np.array(GMV_weights)\n",
    "\n",
    "# Calculate the GMV portfolio returns\n",
    "StockReturns['Portfolio_GMV'] = StockReturns.iloc[:, 0:numstocks].mul(GMV_weights_array, axis=1).sum(axis=1)\n",
    "CumulativeReturns_GMV = ((1+StockReturns[\"Portfolio_GMV\"]).cumprod()-1)\n"
   ]
  },
  {
   "cell_type": "code",
   "execution_count": 29,
   "metadata": {
    "colab": {
     "base_uri": "https://localhost:8080/",
     "height": 0
    },
    "colab_type": "code",
    "id": "PRV-6N8zR38J",
    "outputId": "d56c89b8-802e-4347-9235-e0c8dd82660f"
   },
   "outputs": [
    {
     "data": {
      "text/plain": [
       "<AxesSubplot:xlabel='Date'>"
      ]
     },
     "execution_count": 29,
     "metadata": {},
     "output_type": "execute_result"
    },
    {
     "data": {
      "image/png": "[encoded data removed]",
      "text/plain": [
       "<Figure size 720x432 with 1 Axes>"
      ]
     },
     "metadata": {
      "needs_background": "light"
     },
     "output_type": "display_data"
    }
   ],
   "source": [
    "figure =plt.figure(figsize=(10,6))\n",
    "CumulativeReturns_EW.plot(legend='EW')\n",
    "CumulativeReturns.plot(legend=True)\n",
    "CumulativeReturns_MCap.plot(legend=True)\n",
    "CumulativeReturns_MSR.plot(legend=True)\n",
    "CumulativeReturns_GMV.plot(legend=True)"
   ]
  },
  {
   "cell_type": "markdown",
   "metadata": {
    "colab_type": "text",
    "id": "rQFMYacgSayy"
   },
   "source": [
    "Amazing! The GMV portfolio tends to be the most stable optimization over time, but of course you can expect a lower volatility portfolio to have lower return than the benchmark market cap weighting method."
   ]
  },
  {
   "cell_type": "markdown",
   "metadata": {
    "colab_type": "text",
    "id": "e_YZ8uyTtXIX"
   },
   "source": [
    "## Factor models\n",
    "Factor analysis is the practice of using known factors such as the return of large stocks or growth stocks as independent variables in your analysis of portfolio returns, there are many different factor models in use today, Lets start with CAPM\n",
    "## The Capital Asset Pricing Model\n",
    "###The Founding Father of Asset Pricing Models\n",
    "\n",
    "- The Capital Asset Pricing Model is the fundamental building block for many other asset pricing models and factor models in finance\n",
    "\n",
    "#### Excess Returns\n",
    "In order to perform a robust analysis on your portfolio returns, you must first subtract the risk-free rate of return from your portfolio returns. The portfolio return minus the risk-free rate of return is known as the Excess Portfolio Return.In the United States, the risk-free rate has been close to 0 since the financial crisis (2008), but this step is crucial for other countries with higher risk-free rates such as Venezuela or Brazil.\n",
    "* To calculate excess returns, simply subtract the risk free rate of return from your total return:\n",
    "\n",
    "* Excess Return = Return − Risk Free Return\n",
    "\n",
    "##C.A.P.M.\n",
    "- Formula : E(R<sub>p</sub>) − RF = β<sub>p</sub>(E(R<sub>M</sub> ) − RF)\n",
    ">  E(R<sub>p</sub>) :The excess expected return of a stock or portfolio P <br>\n",
    "   E(R<sub>M</sub> ) − RF :The excess expected return of the broad market portfolio B<br>\n",
    "   RF: The regional risk free-rate<br>\n",
    "  β<sub>p</sub>:  Portfolio beta, or exposure, to the broad market portfolio B\n",
    "\n",
    "## Calculating Beta Using Co-Variance\n",
    "Beta is an essential component of many financial models, and is a measure of systematic risk, or exposure to the broad market. In the CAPM model, beta is one of two essential factors.Historical beta can be estimated in a number of ways. you will use the following simple formula involving co-variance and variance to a benchmark market portfolio:\n",
    "To calculate historical beta using co-variance:<br>\n",
    "<img src = \"https://github.com/iqbalamo93/Datasets/blob/master/Pyfin/Images/betafo.JPG?raw=true\">\n",
    "\n",
    "* β <sub>p</sub>: Portfolio beta\n",
    "* Cov(R<sub>P</sub>,R<sub>B</sub>) :The co-variance between the portfolio (P) and the benchmark market index (B)\n",
    "* Var(R<sub>B</sub>) : The variance of the benchmark market index\n",
    "\n",
    "Note: It might be bit errie, for stats students to see thsi similar formula:<br>\n",
    "      Beta is slope of the linear regression fit:<br>\n",
    "      <img src=\"https://github.com/iqbalamo93/Datasets/blob/master/Pyfin/Images/slopeforJPG.JPG?raw=true\">\n",
    "* filling  the formula of r , we have square of standard dev of x i.e var of x\n",
    "\n",
    "* Practically, we use linear equatio to solve for coeficients lib such as Sklearn, Scipy\n",
    "\n",
    "### R-Squared vs Adjusted R-Squared\n",
    "\n",
    "* R<sup>2</sup> : represents the proportion of the variance for a dependent variable that's explained by an independent variable or variables in a regression model<br>\n",
    "100% R<sup>2</sup> is the symptom of overfitting!\n",
    "\n",
    "* Adj. R<sup>2</sup>: penalize the R<sup>2</sup> for independent variables.\n",
    "\n",
    "\n"
   ]
  },
  {
   "cell_type": "code",
   "execution_count": null,
   "metadata": {
    "colab": {},
    "colab_type": "code",
    "id": "3RPEmbrESMQo"
   },
   "outputs": [],
   "source": [
    "url=\"https://raw.githubusercontent.com/iqbalamo93/Datasets/master/Finance/FamaFrenchFactors.csv\""
   ]
  },
  {
   "cell_type": "code",
   "execution_count": null,
   "metadata": {
    "colab": {},
    "colab_type": "code",
    "id": "99E_2A2mSYq7"
   },
   "outputs": [],
   "source": [
    "FamaFrenchData =pd.read_csv(url)"
   ]
  },
  {
   "cell_type": "code",
   "execution_count": null,
   "metadata": {
    "colab": {
     "base_uri": "https://localhost:8080/",
     "height": 202
    },
    "colab_type": "code",
    "id": "hnrirO3QMumV",
    "outputId": "7f14a41a-8e1c-4a09-f11f-1560eb9b3acd"
   },
   "outputs": [],
   "source": [
    "FamaFrenchData.head()"
   ]
  },
  {
   "cell_type": "code",
   "execution_count": null,
   "metadata": {
    "colab": {},
    "colab_type": "code",
    "id": "3NGuxch7XUzC"
   },
   "outputs": [],
   "source": [
    "# Calculate excess portfolio returns\n",
    "FamaFrenchData['Portfolio_Excess'] = FamaFrenchData['Portfolio']-FamaFrenchData['RF']\n",
    "CumulativeReturns = ((1+FamaFrenchData[['Portfolio','Portfolio_Excess']]).cumprod()-1)"
   ]
  },
  {
   "cell_type": "code",
   "execution_count": null,
   "metadata": {
    "colab": {
     "base_uri": "https://localhost:8080/",
     "height": 300
    },
    "colab_type": "code",
    "id": "ZFb32lwfXvDy",
    "outputId": "8e404ca7-3ec9-4e6b-8402-bb1bc0b081e9"
   },
   "outputs": [],
   "source": [
    "figure =plt.figure(figsize=(10,6))\n",
    "CumulativeReturns.plot()"
   ]
  },
  {
   "cell_type": "markdown",
   "metadata": {
    "colab_type": "text",
    "id": "t29t96bKYQC0"
   },
   "source": [
    "Great! Notice how the excess return is only slightly less? That's because the risk free rate has been so low!"
   ]
  },
  {
   "cell_type": "markdown",
   "metadata": {
    "colab_type": "text",
    "id": "lsj3xUY1aVVx"
   },
   "source": []
  },
  {
   "cell_type": "code",
   "execution_count": null,
   "metadata": {
    "colab": {
     "base_uri": "https://localhost:8080/",
     "height": 69
    },
    "colab_type": "code",
    "id": "EKDXIJ_SX18g",
    "outputId": "e91bf2ae-6c15-4c05-b80e-f9b6eb215ac0"
   },
   "outputs": [],
   "source": [
    "# Calculate the co-variance matrix between Portfolio_Excess and Market_Excess\n",
    "covariance_matrix = FamaFrenchData[['Portfolio_Excess', 'Market_Excess']].cov()\n",
    "\n",
    "# Extract the co-variance co-efficient\n",
    "covariance_coefficient = covariance_matrix.iloc[0, 1]\n",
    "print(covariance_coefficient)\n",
    "\n",
    "# Calculate the benchmark variance\n",
    "benchmark_variance = FamaFrenchData['Market_Excess'].var()\n",
    "print(benchmark_variance)\n",
    "\n",
    "# Calculating the portfolio market beta\n",
    "portfolio_beta = covariance_coefficient/benchmark_variance\n",
    "print(portfolio_beta)"
   ]
  },
  {
   "cell_type": "markdown",
   "metadata": {
    "colab_type": "text",
    "id": "Ag0A3cgIcFOy"
   },
   "source": [
    "Nice! Your portfolio beta is 0.9738. You can think of market beta as a measure of your exposure to the broad stock market. For every 1.0% rise (or fall) in the market, you can expect your portfolio to rise (fall) roughly 0.97%"
   ]
  },
  {
   "cell_type": "code",
   "execution_count": null,
   "metadata": {
    "colab": {
     "base_uri": "https://localhost:8080/",
     "height": 52
    },
    "colab_type": "code",
    "id": "7FNJW-gdYFxH",
    "outputId": "382fd310-accc-449a-9be2-d8e3d19e53b3"
   },
   "outputs": [],
   "source": [
    "#Using statsmodel\n",
    "import statsmodels.formula.api as smf \n",
    "\n",
    "# Define the regression formula\n",
    "CAPM_model = smf.ols(formula='Portfolio_Excess ~ Market_Excess', data=FamaFrenchData)\n",
    "\n",
    "# Print adjusted r-squared of the fitted regression\n",
    "CAPM_fit = CAPM_model.fit()\n",
    "print(CAPM_fit.rsquared_adj)\n",
    "\n",
    "# Extract the beta\n",
    "regression_beta = CAPM_fit.params[\"Market_Excess\"]\n",
    "print(regression_beta)"
   ]
  },
  {
   "cell_type": "code",
   "execution_count": null,
   "metadata": {
    "colab": {
     "base_uri": "https://localhost:8080/",
     "height": 441
    },
    "colab_type": "code",
    "id": "Cc1SQA9ebNuX",
    "outputId": "126002f4-a641-4952-e20f-c14db59328a0"
   },
   "outputs": [],
   "source": [
    "CAPM_fit.summary()"
   ]
  },
  {
   "cell_type": "markdown",
   "metadata": {
    "colab_type": "text",
    "id": "12eIeOiJe7PE"
   },
   "source": [
    "Very good! Your portfolio beta is once again 0.9738. The adjusted r-squared is 0.7943. A high adjusted r-squared (close to 1) means that the majority of your portfolio's movements can be explained by the factors in your model."
   ]
  },
  {
   "cell_type": "markdown",
   "metadata": {
    "colab_type": "text",
    "id": "AkuiSGM8TRO_"
   },
   "source": [
    "## Alpha and Multi-Factor Models\n",
    "The Fama-French 3 Factor Model: extension to CAPM model<br>\n",
    "The Fama-French model famously adds two additional factors to the CAPM model to describe asset returns:\n",
    "\n",
    "<img src=\"https://github.com/iqbalamo93/Datasets/blob/master/Pyfin/Images/famafrench.JPG?raw=true\">\n",
    "\n",
    "### P-Values and Statistical Significance\n",
    "To test if it is statistically significant, simply examine whether or not it is less than a given threshold, normally 0.05:\n",
    "\n",
    "### Alpha and the Efficient Market Hypothesis\n",
    "\n",
    "  \n",
    "Anyting not explaned by above model is Alpha, Basically an error term!!\n",
    "- Positive alpha is now popularlaty interpreted as oytperformance due to skill,luck,or timing : Every fund with positive alpha, there is another fund with negative alpha since the weighted sum of all alpha in market must be zero , Beacsuse: The weighted sum of all investors simply equals the market portfolio.\n",
    "\n",
    "The alpha (α) left over by the regression is unexplained performance due to unknown factors. In a regression model, this is simply the coefficient of the intercept.\n",
    "\n",
    "There are two general schools of thought as to why:\n",
    "\n",
    "- The model simply needs to be expanded. When you have found all of the missing economic factors, you can explain all stock and portfolio returns. This is known as the Efficient Market Hypothesis.\n",
    "- There is a degree of unexplainable performance that no model will ever capture reliably. Perhaps it is due to skill, timing, intuition or luck, but investors should seek to maximize their alpha.\n",
    "\n",
    "## FAMA-FRENCH 5 factor model\n",
    "In 2015, Fama and French extended their previous 3-factor model, adding two\n",
    "additional factors:\n",
    "* RMW: Profitability\n",
    "* CMA: Investment<br>\n",
    "The RMW factor represents the returns of companies with high operating profitability\n",
    "versus those with low operating profitability.\n",
    "The CMA factor represents the returns of companies with aggressive investments\n",
    "versus those who are more conservative"
   ]
  },
  {
   "cell_type": "code",
   "execution_count": null,
   "metadata": {
    "colab": {
     "base_uri": "https://localhost:8080/",
     "height": 35
    },
    "colab_type": "code",
    "id": "LQkkzETQe713",
    "outputId": "142e95a6-dd0b-441a-f6f6-c5f7715d5b24"
   },
   "outputs": [],
   "source": [
    "# Import statsmodels.formula.api\n",
    "import statsmodels.formula.api as smf \n",
    "\n",
    "# Define the regression formula\n",
    "FamaFrench_model = smf.ols(formula='Portfolio_Excess ~ Market_Excess + SMB + HML', data=FamaFrenchData)\n",
    "\n",
    "# Fit the regression\n",
    "FamaFrench_fit = FamaFrench_model.fit()\n",
    "\n",
    "# Extract the adjusted r-squared\n",
    "regression_adj_rsq = FamaFrench_fit.rsquared_adj\n",
    "print(regression_adj_rsq)"
   ]
  },
  {
   "cell_type": "markdown",
   "metadata": {
    "colab_type": "text",
    "id": "6-YIIriSvWp7"
   },
   "source": [
    "Excellent! The Fama-French 3 factor model fit well, raising the adjusted r-squared from 0.7943 to 0.8194, meaning that the model explains more of your portfolio variance. But there's still room for improvement.."
   ]
  },
  {
   "cell_type": "code",
   "execution_count": null,
   "metadata": {
    "colab": {
     "base_uri": "https://localhost:8080/",
     "height": 35
    },
    "colab_type": "code",
    "id": "Pe_7R3gTWL0H",
    "outputId": "98146c41-a252-401c-d81e-d2b1181b9abf"
   },
   "outputs": [],
   "source": [
    "# Extract the p-value of the SMB factor\n",
    "smb_pval = FamaFrench_fit.pvalues['SMB']\n",
    "\n",
    "# If the p-value is significant, print significant\n",
    "if smb_pval < 0.05:\n",
    "    significant_msg = 'significant'\n",
    "else:\n",
    "    significant_msg = 'not significant'\n",
    "\n",
    "# Print the SMB coefficient\n",
    "smb_coeff = FamaFrench_fit.params['SMB']\n",
    "print(\"The SMB coefficient is \", smb_coeff, \" and is \", significant_msg)"
   ]
  },
  {
   "cell_type": "markdown",
   "metadata": {
    "colab_type": "text",
    "id": "neF9eR9Rwinf"
   },
   "source": [
    "Great! Your portfolio has a statistically significant negative exposure (-0.2621) to small-cap stocks - in other words - positive exposure to large caps!"
   ]
  },
  {
   "cell_type": "code",
   "execution_count": null,
   "metadata": {
    "colab": {
     "base_uri": "https://localhost:8080/",
     "height": 52
    },
    "colab_type": "code",
    "id": "WSQCjll2wduA",
    "outputId": "4abb31ad-a3c0-4189-eab1-1b1fc85a5e37"
   },
   "outputs": [],
   "source": [
    "# Calculate your portfolio alpha\n",
    "portfolio_alpha = FamaFrench_fit.params[\"Intercept\"]\n",
    "print(portfolio_alpha)\n",
    "\n",
    "# Annualize your portfolio alpha\n",
    "portfolio_alpha_annualized = ((1+portfolio_alpha)**252)-1\n",
    "print(portfolio_alpha_annualized)"
   ]
  },
  {
   "cell_type": "code",
   "execution_count": null,
   "metadata": {
    "colab": {
     "base_uri": "https://localhost:8080/",
     "height": 35
    },
    "colab_type": "code",
    "id": "1TI4IJz1yzTB",
    "outputId": "fad4cb0c-4fc6-46fc-a772-26203d6d58f7"
   },
   "outputs": [],
   "source": [
    "# Define the regression formula\n",
    "FamaFrench5_model = smf.ols(formula='Portfolio_Excess ~ Market_Excess + SMB + HML + RMW + CMA', data=FamaFrenchData)\n",
    "\n",
    "# Fit the regression\n",
    "FamaFrench5_fit = FamaFrench5_model.fit()\n",
    "\n",
    "# Extract the adjusted r-squared\n",
    "regression_adj_rsq = FamaFrench5_fit.rsquared_adj\n",
    "print(regression_adj_rsq)"
   ]
  },
  {
   "cell_type": "markdown",
   "metadata": {
    "colab_type": "text",
    "id": "DZ979zPtVVWZ"
   },
   "source": [
    "Nice! The adjusted r-squared is even higher at 0.8367! Could you build a better model?\n",
    "\n",
    "- The Fama-French 5 Factor model explains the most variability, so alpha is lower, Correct! But Cliff Assness says this model is not sufficient and that momentum should be taken into account.\n"
   ]
  },
  {
   "cell_type": "code",
   "execution_count": null,
   "metadata": {
    "colab": {},
    "colab_type": "code",
    "id": "Y3_9muAgVO4B"
   },
   "outputs": [],
   "source": []
  },
  {
   "cell_type": "markdown",
   "metadata": {
    "colab_type": "text",
    "id": "yrs3NJ4yN9xv"
   },
   "source": [
    "# Estimating Tail Risk"
   ]
  },
  {
   "cell_type": "markdown",
   "metadata": {
    "colab_type": "text",
    "id": "c4-WPg2_OJXl"
   },
   "source": [
    "#### Estimating Tail Risk\n",
    "Tail risk is the risk of extreme investment outcomes, most notably on the negative side of a distribution.\n",
    "* Historical Drawdown\n",
    "* Value at Risk\n",
    "* Conditional Value at Risk\n",
    "* Monte-Carlo Simulation\n",
    "\n",
    "## Historical Drawdown\n",
    "The stock market tends to rise over time, but that doesn't mean that you won't have periods of drawdown.Drawdown can be measured as the percentage loss from the highest cumulative historical point the simple formula below to calculate drawdown:\n",
    "\n",
    "\n",
    "<img src=\"https://github.com/iqbalamo93/Datasets/blob/master/Pyfin/Images/DRAWDOWN.JPG?raw=true\" >\n",
    "\n",
    "## Historical value at risk\n",
    "Drawdown is a measure of sustained losses over time, but what about simple single-day movements?\n",
    "\n",
    "Value at Risk, often referred to as VaR, is a way to estimate the risk of a single day negative price movement. VaR can be measured for any given probability, or confidence level, but the most commonly quoted tend to be VaR(95) and VaR(99). Historical VaR is the simplest method to calculate VaR, but relies on historical returns data which may not be a good assumption of the future. Historical VaR(95), for example, represents the minimum loss that your portfolio or asset has sustained in the worst 5% of cases\n",
    "\n",
    "## Historical expected shortfall\n",
    "\n",
    "Expected Shortfall, otherwise known as CVaR, or conditional value at risk, is simply the expected loss of the worst case scenarios of returns.For example, if your portfolio has a VaR(95) of -3%, then the CVaR(95) would be the average value of all losses exceeding -3%.\n",
    "\n",
    "- Empirical Assumptions\n",
    "Empirical Historical values are those that have actually occurred.\n",
    "How do you simulate the probability of a value that has never occured historically before?\n",
    ">  Sample from a probability distribution AkA Parametric Var\n",
    "## Parametric Var\n",
    "\n",
    "Value at Risk can also be computed parametrically using a method known as variance/co-variance VaR. This method allows you to simulate a range of possibilities based on historical return distribution properties rather than actual return values. You can calculate the parametric VaR(90) using:\n",
    "\n",
    "## Random Walks\n",
    "Stochastic or random movements are used in physics to represent particle and fluid movements, in mathematics to describe fractal behavior, and in finance to describe stock market movements.\n",
    "\n",
    "## Monte Carlo simulations\n",
    "Monte-Carlo simulations are used to model a wide range of possibilities.\n",
    "\n",
    "Monte-Carlos can be constructed in many different ways, but all of them involve generating a large number of random variants of a given model, allowing a wide distribution of possible paths to be analyzed. This can allow you to build a comprehensive forecast of possibilities to sample from without a large amount of historical data."
   ]
  },
  {
   "cell_type": "code",
   "execution_count": null,
   "metadata": {
    "colab": {},
    "colab_type": "code",
    "id": "zBLV3pkkODC6"
   },
   "outputs": [],
   "source": [
    "url='https://raw.githubusercontent.com/iqbalamo93/Datasets/master/Finance/USO.csv'"
   ]
  },
  {
   "cell_type": "code",
   "execution_count": null,
   "metadata": {
    "colab": {},
    "colab_type": "code",
    "id": "c91IiN4ERRxF"
   },
   "outputs": [],
   "source": [
    "USO=pd.read_csv(url,parse_dates=['Date'],usecols=['Date','Adj Close'],index_col='Date')\n",
    "USO.rename({'Adj Close':'Adjusted'},axis=1,inplace=True)\n",
    "USO['Returns'] =  USO['Adjusted'].pct_change()\n",
    "USO['Returns'].dropna(inplace=True)\n",
    "cum_rets = ((1+USO[\"Returns\"]).cumprod()-1)"
   ]
  },
  {
   "cell_type": "markdown",
   "metadata": {
    "colab_type": "text",
    "id": "dQ7Pa90LjPD8"
   },
   "source": [
    "Historical Drawdown Code !!! "
   ]
  },
  {
   "cell_type": "code",
   "execution_count": null,
   "metadata": {
    "colab": {
     "base_uri": "https://localhost:8080/",
     "height": 269
    },
    "colab_type": "code",
    "id": "cueDimVlX1_2",
    "outputId": "d9d97e76-c3b8-4ba1-ccb8-c60ae9520a9c"
   },
   "outputs": [],
   "source": [
    "# Calculate the running maximum\n",
    "running_max = np.maximum.accumulate(cum_rets)\n",
    "\n",
    "# Ensure the value never drops below 1\n",
    "running_max[running_max<1] = 1\n",
    "\n",
    "# Calculate the percentage drawdown\n",
    "drawdown = (cum_rets)/running_max - 1\n",
    "\n",
    "# Plot the results\n",
    "drawdown.plot()\n",
    "plt.show()"
   ]
  },
  {
   "cell_type": "markdown",
   "metadata": {
    "colab_type": "text",
    "id": "KnOzAqxYjXhb"
   },
   "source": [
    "Historical Var"
   ]
  },
  {
   "cell_type": "code",
   "execution_count": null,
   "metadata": {
    "colab": {
     "base_uri": "https://localhost:8080/",
     "height": 283
    },
    "colab_type": "code",
    "id": "A-i7urgOa_Qn",
    "outputId": "656e3292-c43d-4ed1-844a-c83a4919ad67"
   },
   "outputs": [],
   "source": [
    "StockReturns_perc = (USO['Returns']*100).values\n",
    "# Calculate historical VaR(95)\n",
    "Var_at= 95\n",
    "var_95 = np.percentile(StockReturns_perc, 100-Var_at)\n",
    "print(var_95)\n",
    "\n",
    "# Sort the returns for plotting\n",
    "sorted_rets = sorted(StockReturns_perc)\n",
    "\n",
    "# Plot the probability of each sorted return quantile\n",
    "plt.hist(sorted_rets, density=True)\n",
    "\n",
    "# Denote the VaR 95 quantile\n",
    "plt.axvline(x=var_95, color='r', linestyle='-', label=\"VaR 95: {0:.2f}%\".format(var_95))\n",
    "plt.show()"
   ]
  },
  {
   "cell_type": "markdown",
   "metadata": {
    "colab_type": "text",
    "id": "2qv95Wlolodt"
   },
   "source": [
    "Very good! Historical VaR(95) = -3.62%"
   ]
  },
  {
   "cell_type": "code",
   "execution_count": null,
   "metadata": {
    "colab": {
     "base_uri": "https://localhost:8080/",
     "height": 283
    },
    "colab_type": "code",
    "id": "ilOXe-qrmdHa",
    "outputId": "409c5249-9325-4f15-c586-729dfacf9e87"
   },
   "outputs": [],
   "source": [
    "sns.kdeplot(StockReturns_perc)\n",
    "plt.axvline(x=var_95, color='r')"
   ]
  },
  {
   "cell_type": "markdown",
   "metadata": {
    "colab_type": "text",
    "id": "maY8y5xJmrtL"
   },
   "source": []
  },
  {
   "cell_type": "code",
   "execution_count": null,
   "metadata": {
    "colab": {
     "base_uri": "https://localhost:8080/",
     "height": 283
    },
    "colab_type": "code",
    "id": "liTAb3yocBtj",
    "outputId": "265fde8a-4f6a-45f0-9ba3-34ddf5cd8e99"
   },
   "outputs": [],
   "source": [
    "# Historical CVaR 95\n",
    "cvar_95 = StockReturns_perc[StockReturns_perc <= var_95].mean()\n",
    "print(cvar_95)\n",
    "\n",
    "# Sort the returns for plotting\n",
    "sorted_rets = sorted(StockReturns_perc)\n",
    "\n",
    "# Plot the probability of each return quantile\n",
    "plt.hist(sorted_rets, density=True)\n",
    "\n",
    "# Denote the VaR 95 and CVaR 95 quantiles\n",
    "plt.axvline(x=var_95, color=\"r\", linestyle=\"-\", label='VaR 95: {0:.2f}%'.format(var_95))\n",
    "plt.axvline(x=cvar_95, color='b', linestyle='-', label='CVaR 95: {0:.2f}%'.format(cvar_95))\n",
    "plt.show()"
   ]
  },
  {
   "cell_type": "markdown",
   "metadata": {
    "colab_type": "text",
    "id": "izXfAW1-qDcG"
   },
   "source": [
    "Nice! Notice how the CVaR(95) of -5.05% was more extreme than the VaR(95) level?\n",
    "Changing VaR and CVaR quantiles:\n",
    "VaR quantiles often used are 90%, 95%, and 99%, corresponding to the worst 10%, 5%, and 1% of cases respectively. These same quantiles are also often used for CVaR. Note that CVaR will always be a more extreme estimate when compared with VaR for the same quantile."
   ]
  },
  {
   "cell_type": "markdown",
   "metadata": {
    "colab_type": "text",
    "id": "dpl-Ce6quAD0"
   },
   "source": [
    "<b>Parametric Var"
   ]
  },
  {
   "cell_type": "code",
   "execution_count": null,
   "metadata": {
    "colab": {
     "base_uri": "https://localhost:8080/",
     "height": 69
    },
    "colab_type": "code",
    "id": "PzCmOKMskWt9",
    "outputId": "34953c59-3789-4c32-8788-41f04b64e803"
   },
   "outputs": [],
   "source": [
    "# Import norm from scipy.stats\n",
    "from scipy.stats import norm\n",
    "\n",
    "# Estimate the average daily return\n",
    "mu = np.mean(StockReturns_perc)\n",
    "\n",
    "# Estimate the daily volatility\n",
    "vol = np.std(StockReturns_perc)\n",
    "\n",
    "# Set the VaR confidence level\n",
    "confidence_level = 0.05\n",
    "\n",
    "# Calculate Parametric VaR\n",
    "var_95 = norm.ppf(confidence_level,mu,vol)\n",
    "print('Mean: ', str(mu), '\\nVolatility: ', str(vol), '\\nVaR(95): ', str(var_95))"
   ]
  },
  {
   "cell_type": "markdown",
   "metadata": {
    "colab_type": "text",
    "id": "PYWT0iG4u9AX"
   },
   "source": [
    "The parametric VaR(95) is -3.92%."
   ]
  },
  {
   "cell_type": "markdown",
   "metadata": {
    "colab_type": "text",
    "id": "XkpK3btVICKe"
   },
   "source": [
    "<b>A random walk simulation</b>\n",
    "<br>\n",
    "Use the np.random.normal() function to model random walk movements of the USO oil ETF with a constant daily average return (mu) and average daily volatility (vol) over the course of T trading days."
   ]
  },
  {
   "cell_type": "code",
   "execution_count": null,
   "metadata": {
    "colab": {
     "base_uri": "https://localhost:8080/",
     "height": 265
    },
    "colab_type": "code",
    "id": "JDzOlD11uwPR",
    "outputId": "0c0456e4-d8e5-4a89-ddf6-b61c540f72f0"
   },
   "outputs": [],
   "source": [
    "# Set the simulation parameters\n",
    "mu = np.mean(USO['Returns'])\n",
    "vol = np.std(USO['Returns'])\n",
    "T = 252\n",
    "S0 = 10\n",
    "\n",
    "# Add one to the random returns\n",
    "rand_rets =np.random.normal(mu,vol,T)+1\n",
    "\n",
    "# Forecasted random walk\n",
    "forecasted_values = S0*(rand_rets.cumprod())\n",
    "\n",
    "# Plot the random walk\n",
    "plt.plot(range(0, T), forecasted_values)\n",
    "plt.show()"
   ]
  },
  {
   "cell_type": "markdown",
   "metadata": {
    "colab_type": "text",
    "id": "2RSI_AvRInIh"
   },
   "source": [
    "<b>Monte Carlo simulations"
   ]
  },
  {
   "cell_type": "code",
   "execution_count": null,
   "metadata": {
    "colab": {
     "base_uri": "https://localhost:8080/",
     "height": 265
    },
    "colab_type": "code",
    "id": "5fUkY5LyHPky",
    "outputId": "cef39431-ac0d-415b-f5d0-5e5aec813bb8"
   },
   "outputs": [],
   "source": [
    "# Loop through 100 simulations\n",
    "for i in range(0,100):\n",
    "\n",
    "    # Generate the random returns\n",
    "    rand_rets = np.random.normal(mu, vol, T) + 1\n",
    "    \n",
    "    # Create the Monte carlo path\n",
    "    forecasted_values = S0*(rand_rets).cumprod()\n",
    "    \n",
    "    # Plot the Monte Carlo path\n",
    "    plt.plot(range(T), forecasted_values)\n",
    "\n",
    "# Show the simulations\n",
    "plt.show()"
   ]
  },
  {
   "cell_type": "markdown",
   "metadata": {
    "colab_type": "text",
    "id": "gErdZCisumO1"
   },
   "source": [
    "Both the return values and the Monte-Carlo paths can be used for analysis of everything ranging from option pricing models and hedging to portfolio optimization and trading strategies.\n",
    "\n",
    "Aggregate the returns data at each iteration, and use the resulting values to forecast parametric VaR(99)."
   ]
  },
  {
   "cell_type": "code",
   "execution_count": null,
   "metadata": {
    "colab": {
     "base_uri": "https://localhost:8080/",
     "height": 35
    },
    "colab_type": "code",
    "id": "pDZhuRZTI_hQ",
    "outputId": "167108f6-c19c-4f5b-99f7-bb72bfc4b474"
   },
   "outputs": [],
   "source": [
    "# Aggregate the returns\n",
    "sim_returns = []\n",
    "\n",
    "# Loop through 100 simulations\n",
    "for i in range(100):\n",
    "\n",
    "    # Generate the Random Walk\n",
    "    rand_rets = np.random.normal(mu, vol, T)\n",
    "    \n",
    "    # Save the results\n",
    "    sim_returns.append(rand_rets)\n",
    "\n",
    "# Calculate the VaR(99)\n",
    "var_99 = np.percentile(sim_returns,1)\n",
    "print(\"Parametric VaR(99): \", round(100*var_99, 2),\"%\")"
   ]
  },
  {
   "cell_type": "code",
   "execution_count": null,
   "metadata": {
    "colab": {},
    "colab_type": "code",
    "id": "OejBpAnJuGex"
   },
   "outputs": [],
   "source": []
  },
  {
   "cell_type": "code",
   "execution_count": null,
   "metadata": {
    "colab": {},
    "colab_type": "code",
    "id": "Ar3wpYHauRun"
   },
   "outputs": [],
   "source": []
  }
 ],
 "metadata": {
  "colab": {
   "authorship_tag": "ABX9TyOeMFfwzpJVC/Q9N4qYDwtC",
   "include_colab_link": true,
   "name": "Portfolio_Factor Investing and Risk management .ipynb",
   "provenance": []
  },
  "kernelspec": {
   "display_name": "Python 3",
   "language": "python",
   "name": "python3"
  },
  "language_info": {
   "codemirror_mode": {
    "name": "ipython",
    "version": 3
   },
   "file_extension": ".py",
   "mimetype": "text/x-python",
   "name": "python",
   "nbconvert_exporter": "python",
   "pygments_lexer": "ipython3",
   "version": "3.9.0+"
  }
 },
 "nbformat": 4,
 "nbformat_minor": 1
}
