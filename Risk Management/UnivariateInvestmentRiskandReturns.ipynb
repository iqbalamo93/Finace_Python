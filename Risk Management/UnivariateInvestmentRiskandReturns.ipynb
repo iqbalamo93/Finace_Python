{
  "nbformat": 4,
  "nbformat_minor": 0,
  "metadata": {
    "colab": {
      "name": "UnivariateInvestmentRiskandReturns.ipynb",
      "provenance": []
    },
    "kernelspec": {
      "name": "python3",
      "display_name": "Python 3"
    }
  },
  "cells": [
    {
      "cell_type": "markdown",
      "metadata": {
        "id": "vebxSY20zJzC",
        "colab_type": "text"
      },
      "source": [
        "## Univariate Investment Risk and Returns\n"
      ]
    },
    {
      "cell_type": "markdown",
      "metadata": {
        "id": "vw35qG8yzOL8",
        "colab_type": "text"
      },
      "source": [
        "### A Tale of Two Returns\n",
        "The fundamentals of investment risk and financial return distributions.\n",
        "- Two types of return\n",
        "\n",
        "  1.   Discrete return (simple returns)\n",
        "         are the most commonly used, and represent periodic (e.g. daily, weekly and<br> represent periodic (e.g. daily, weekly monthly, etc.) price movements\n",
        "  2.   Log returns <br>\n",
        "  Are often used inacademic research and financialmodeling. They assume <b>continuous compounding.</b>\n",
        "<img src='https://raw.githubusercontent.com/iqbalamo93/Datasets/master/Pyfin/Images/DiscreteLog.png'>\n",
        "\n",
        "## Calculating Stock Returns\n",
        "\n",
        "*   Discrete returns <br>\n",
        "Discrete returns are calculated as the change in price as a percentage of the previous period’s price\n",
        "<img src=\"https://github.com/iqbalamo93/Datasets/blob/master/Pyfin/Images/DiscreateReturn.png?raw=true\" >\n",
        "\n",
        "*  Calculating Log Returns<br>\n",
        "Log returns are calculated as the difference between the log of two\n",
        "prices<br>Log returns aggregate across time, while discrete returns aggregate\n",
        "across assets\n",
        "<img src=\"https://github.com/iqbalamo93/Datasets/blob/master/Pyfin/Images/LogReturn.png?raw=true\" >\n",
        "\n",
        "\n",
        "\n",
        "\n",
        "\n",
        "\n",
        "\n",
        "\n",
        "\n",
        "\n",
        "\n",
        "\n",
        "\n",
        "\n",
        "\n",
        "\n"
      ]
    },
    {
      "cell_type": "code",
      "metadata": {
        "id": "FD5QMRypoK6Q",
        "colab_type": "code",
        "colab": {
          "base_uri": "https://localhost:8080/",
          "height": 72
        },
        "outputId": "1b37c9b1-2788-42e6-9d3e-f12ab7cf3c1e"
      },
      "source": [
        "#Calculating return of Micrsofot\n",
        "import pandas as pd\n",
        "import numpy as np\n",
        "import matplotlib.pyplot as plt\n",
        "import seaborn as sns"
      ],
      "execution_count": 1,
      "outputs": [
        {
          "output_type": "stream",
          "text": [
            "/usr/local/lib/python3.6/dist-packages/statsmodels/tools/_testing.py:19: FutureWarning: pandas.util.testing is deprecated. Use the functions in the public API at pandas.testing instead.\n",
            "  import pandas.util.testing as tm\n"
          ],
          "name": "stderr"
        }
      ]
    },
    {
      "cell_type": "code",
      "metadata": {
        "id": "cIk_uQqGzMF5",
        "colab_type": "code",
        "colab": {}
      },
      "source": [
        "MSFT_url ='https://raw.githubusercontent.com/iqbalamo93/Datasets/master/Finance/MSFTPrices.csv'"
      ],
      "execution_count": 2,
      "outputs": []
    },
    {
      "cell_type": "code",
      "metadata": {
        "id": "KZvdkwUPZOaC",
        "colab_type": "code",
        "colab": {}
      },
      "source": [
        "MSFT_prices = pd.read_csv(MSFT_url,parse_dates=True)\n",
        "MSFT_prices.sort_values(by='Date',inplace=True)"
      ],
      "execution_count": 3,
      "outputs": []
    },
    {
      "cell_type": "code",
      "metadata": {
        "id": "tF6vI4oFZYZL",
        "colab_type": "code",
        "colab": {
          "base_uri": "https://localhost:8080/",
          "height": 202
        },
        "outputId": "deb2cf9b-244a-4618-92d5-9b75790bcd63"
      },
      "source": [
        "MSFT_prices.head()"
      ],
      "execution_count": 4,
      "outputs": [
        {
          "output_type": "execute_result",
          "data": {
            "text/html": [
              "<div>\n",
              "<style scoped>\n",
              "    .dataframe tbody tr th:only-of-type {\n",
              "        vertical-align: middle;\n",
              "    }\n",
              "\n",
              "    .dataframe tbody tr th {\n",
              "        vertical-align: top;\n",
              "    }\n",
              "\n",
              "    .dataframe thead th {\n",
              "        text-align: right;\n",
              "    }\n",
              "</style>\n",
              "<table border=\"1\" class=\"dataframe\">\n",
              "  <thead>\n",
              "    <tr style=\"text-align: right;\">\n",
              "      <th></th>\n",
              "      <th>Date</th>\n",
              "      <th>Open</th>\n",
              "      <th>High</th>\n",
              "      <th>Low</th>\n",
              "      <th>Close</th>\n",
              "      <th>Volume</th>\n",
              "      <th>Adjusted</th>\n",
              "    </tr>\n",
              "  </thead>\n",
              "  <tbody>\n",
              "    <tr>\n",
              "      <th>0</th>\n",
              "      <td>2000-01-03</td>\n",
              "      <td>88.777</td>\n",
              "      <td>89.722</td>\n",
              "      <td>84.712</td>\n",
              "      <td>58.28125</td>\n",
              "      <td>53228400</td>\n",
              "      <td>38.527809</td>\n",
              "    </tr>\n",
              "    <tr>\n",
              "      <th>1</th>\n",
              "      <td>2000-01-04</td>\n",
              "      <td>85.893</td>\n",
              "      <td>88.588</td>\n",
              "      <td>84.901</td>\n",
              "      <td>56.31250</td>\n",
              "      <td>54119000</td>\n",
              "      <td>37.226345</td>\n",
              "    </tr>\n",
              "    <tr>\n",
              "      <th>2</th>\n",
              "      <td>2000-01-05</td>\n",
              "      <td>84.050</td>\n",
              "      <td>88.021</td>\n",
              "      <td>82.726</td>\n",
              "      <td>56.90625</td>\n",
              "      <td>64059600</td>\n",
              "      <td>37.618851</td>\n",
              "    </tr>\n",
              "    <tr>\n",
              "      <th>3</th>\n",
              "      <td>2000-01-06</td>\n",
              "      <td>84.853</td>\n",
              "      <td>86.130</td>\n",
              "      <td>81.970</td>\n",
              "      <td>55.00000</td>\n",
              "      <td>54976600</td>\n",
              "      <td>36.358688</td>\n",
              "    </tr>\n",
              "    <tr>\n",
              "      <th>4</th>\n",
              "      <td>2000-01-07</td>\n",
              "      <td>82.159</td>\n",
              "      <td>84.901</td>\n",
              "      <td>81.166</td>\n",
              "      <td>55.71875</td>\n",
              "      <td>62013600</td>\n",
              "      <td>36.833828</td>\n",
              "    </tr>\n",
              "  </tbody>\n",
              "</table>\n",
              "</div>"
            ],
            "text/plain": [
              "         Date    Open    High     Low     Close    Volume   Adjusted\n",
              "0  2000-01-03  88.777  89.722  84.712  58.28125  53228400  38.527809\n",
              "1  2000-01-04  85.893  88.588  84.901  56.31250  54119000  37.226345\n",
              "2  2000-01-05  84.050  88.021  82.726  56.90625  64059600  37.618851\n",
              "3  2000-01-06  84.853  86.130  81.970  55.00000  54976600  36.358688\n",
              "4  2000-01-07  82.159  84.901  81.166  55.71875  62013600  36.833828"
            ]
          },
          "metadata": {
            "tags": []
          },
          "execution_count": 4
        }
      ]
    },
    {
      "cell_type": "code",
      "metadata": {
        "id": "ANSvhYntZbD8",
        "colab_type": "code",
        "colab": {
          "base_uri": "https://localhost:8080/",
          "height": 121
        },
        "outputId": "a8b2a28f-ff90-444d-9616-90f2b71670cd"
      },
      "source": [
        "MSFT_prices['return']= MSFT_prices['Adjusted'].pct_change()\n",
        "print(MSFT_prices.head())"
      ],
      "execution_count": 5,
      "outputs": [
        {
          "output_type": "stream",
          "text": [
            "         Date    Open    High     Low     Close    Volume   Adjusted    return\n",
            "0  2000-01-03  88.777  89.722  84.712  58.28125  53228400  38.527809       NaN\n",
            "1  2000-01-04  85.893  88.588  84.901  56.31250  54119000  37.226345 -0.033780\n",
            "2  2000-01-05  84.050  88.021  82.726  56.90625  64059600  37.618851  0.010544\n",
            "3  2000-01-06  84.853  86.130  81.970  55.00000  54976600  36.358688 -0.033498\n",
            "4  2000-01-07  82.159  84.901  81.166  55.71875  62013600  36.833828  0.013068\n"
          ],
          "name": "stdout"
        }
      ]
    },
    {
      "cell_type": "markdown",
      "metadata": {
        "id": "0cc5WrpzfYoN",
        "colab_type": "text"
      },
      "source": [
        "###Return distributions\n",
        "In order to analyze the probability of outliers in returns, it is helpful to visualize the historical returns of a stock using a histogram.\n",
        "\n",
        "<p>You can use the histogram to show the historical density or frequency of a given range of returns. Note the outliers on the left tail of the return distribution are what you often want to avoid, as they represent large negative daily returns. Outliers on the right hand side of the distribution are normally particularly good events for the stock such as a positive earnings surprise."
      ]
    },
    {
      "cell_type": "code",
      "metadata": {
        "id": "padNVKCbZ0fH",
        "colab_type": "code",
        "colab": {
          "base_uri": "https://localhost:8080/",
          "height": 609
        },
        "outputId": "5d4aa12c-7481-4076-bfa2-f1625d650d9a"
      },
      "source": [
        "Figure = plt.figure(figsize=(10,10))\n",
        "ax1 = Figure.add_subplot(2,1,1)\n",
        "sns.distplot(a=MSFT_prices['return'],ax=ax1)\n",
        "ax2 = Figure.add_subplot(2,1,2)\n",
        "MSFT_prices['return'].plot(ax=ax2)##sns.lineplot(x='Date',y='return',data=MSFT_prices,ax=ax2)"
      ],
      "execution_count": 6,
      "outputs": [
        {
          "output_type": "execute_result",
          "data": {
            "text/plain": [
              "<matplotlib.axes._subplots.AxesSubplot at 0x7f66a32b8780>"
            ]
          },
          "metadata": {
            "tags": []
          },
          "execution_count": 6
        },
        {
          "output_type": "display_data",
          "data": {
            "image/png": "[encoded data removed]",
            "text/plain": [
              "<Figure size 720x720 with 2 Axes>"
            ]
          },
          "metadata": {
            "tags": [],
            "needs_background": "light"
          }
        }
      ]
    },
    {
      "cell_type": "code",
      "metadata": {
        "id": "8aCRQbVta9m5",
        "colab_type": "code",
        "colab": {}
      },
      "source": [
        ""
      ],
      "execution_count": 6,
      "outputs": []
    },
    {
      "cell_type": "code",
      "metadata": {
        "id": "kntVjPSdhqG5",
        "colab_type": "code",
        "colab": {}
      },
      "source": [
        ""
      ],
      "execution_count": 6,
      "outputs": []
    },
    {
      "cell_type": "markdown",
      "metadata": {
        "id": "WV3tEmRaz_Rc",
        "colab_type": "text"
      },
      "source": [
        "**Moments of Distributions**\n",
        "\n",
        "\n",
        "1. Mean (μ)\n",
        "2. Variance (σ <sup>2</sup>)\n",
        "3. Skewness : Tilt of the distribution\n",
        "4. Kurtosis : Measure  Fatness of the tail\n",
        "\n",
        "### The Normal Distribution\n",
        "\n",
        "There are many types of distributions.\n",
        "Some are normal and some are nonnormal. A random variable with a\n",
        "Gaussian distribution is said to be\n",
        "normally distributed. Normal Distributions have the following\n",
        "properties:\n",
        "1. Mean (μ)\n",
        "2. Variance (σ <sup>2</sup>)\n",
        "3. Skewness : Tilt of the distribution = 0\n",
        "4. Kurtosis : Measure  Fatness of the tail = 3<br>\n",
        "<img src=\"https://github.com/iqbalamo93/Datasets/blob/master/Pyfin/Images/NormalDistribution.JPG?raw=true\">\n",
        "\n",
        " \n",
        "\n",
        "*  The Standard Normal Distribution\n",
        "  *   The Standard Normal is a special case of the Normal Distribution when:\n",
        "      * σ = 1\n",
        "      * μ = 0\n",
        "    \n",
        "### Comparing Against a Normal Distribution\n",
        "* Normal distributions have a skewness near 0 and a kurtosis near 3\n",
        "* Financial returns tend not to be normally distributed\n",
        "* Financial returns can have high kurtosis.\n",
        "\n",
        "<img src =\"https://github.com/iqbalamo93/Datasets/blob/master/Pyfin/Images/IBM_NormalComparision.JPG?raw=true\">\n",
        "\n",
        "- Test of normality can also be used, like Shapiro–Wilk test and Jarque-Bera test <a href='https://www.ncbi.nlm.nih.gov/pmc/articles/PMC3693611/'> read more here</a> Anyway, High Kurtosis and or large skewness is symbol or non-normal distribution.\n",
        "\n",
        "### First moment: Mu\n",
        "When you are calculating the average daily return of a stock, you are essentially estimating the first moment ( μ ) of the historical returns distribution.But what use are daily return estimates to a long-term investor? You can use the formula below to estimate the average annual return of a stock given the average daily return and the number of trading days in a year (typically there are roughly 252 trading days in a year):\n",
        "\n",
        "* Average Annualized Return=((1+μ)<sup>252</sup>)−1\n",
        "\n",
        "### Standard Deviation and Variance:(Second moment: Variance)\n",
        "* Variance = σ\n",
        "* Often represented in mathematical notation as σ, or referred to as volatility\n",
        "An investment with higher σ is viewedas a higher risk investment Measures the dispersion of returns<br>\n",
        "\n",
        "Just like you estimated the first moment of the returns distribution in the last exercise, you can can also estimate the second moment, or variance of a return distribution using numpy.In this case, you will first need to calculate the daily standard deviation ( σ ), or volatility of the returns using np.std(). The variance is simply σ<sup>2</sup>.\n",
        "\n",
        "\n",
        "<img src=\"https://github.com/iqbalamo93/Datasets/blob/master/Pyfin/Images/SDn%20Normal.JPG?raw=true\">\n",
        "\n",
        "### Scaling Volatility\n",
        "* Volatility scales with the square root of time\n",
        "* You can normally assume 252 trading days in a given year, and 21 trading days in a given month\n",
        "\n",
        "<img src=\"https://github.com/iqbalamo93/Datasets/blob/master/Pyfin/Images/vol_for.JPG?raw=true\">\n",
        "\n",
        "\n"
      ]
    },
    {
      "cell_type": "code",
      "metadata": {
        "id": "GwZNIOEjcAH_",
        "colab_type": "code",
        "colab": {
          "base_uri": "https://localhost:8080/",
          "height": 52
        },
        "outputId": "79936d7c-6dc1-4a3d-f88c-155c6d4045e4"
      },
      "source": [
        "# Calculate the average daily return of the stock\n",
        "mean_return_daily = np.mean(MSFT_prices['return'])\n",
        "print(mean_return_daily)\n",
        "\n",
        "# Calculate the implied annualized average return\n",
        "mean_return_annualized = ((1+mean_return_daily)**252)-1\n",
        "print(mean_return_annualized)"
      ],
      "execution_count": 7,
      "outputs": [
        {
          "output_type": "stream",
          "text": [
            "0.00037777546435757725\n",
            "0.09985839482858783\n"
          ],
          "name": "stdout"
        }
      ]
    },
    {
      "cell_type": "markdown",
      "metadata": {
        "id": "T3q-Fhwq3h1E",
        "colab_type": "text"
      },
      "source": [
        "Nice! The average daily return of the stock (mu) is 0.04% per day. This works out to an annualized return of 9.99% per year."
      ]
    },
    {
      "cell_type": "code",
      "metadata": {
        "id": "tTvetdDlcRue",
        "colab_type": "code",
        "colab": {
          "base_uri": "https://localhost:8080/",
          "height": 52
        },
        "outputId": "eda39fee-f02d-45f2-9243-f1652ec92d6a"
      },
      "source": [
        "# Calculate the standard deviation of daily return of the stock\n",
        "sigma_daily = np.std(MSFT_prices['return'])\n",
        "print(sigma_daily)\n",
        "\n",
        "# Calculate the daily variance\n",
        "variance_daily = sigma_daily**2\n",
        "print(variance_daily)"
      ],
      "execution_count": 10,
      "outputs": [
        {
          "output_type": "stream",
          "text": [
            "0.019341100408708328\n",
            "0.0003740781650197374\n"
          ],
          "name": "stdout"
        }
      ]
    },
    {
      "cell_type": "markdown",
      "metadata": {
        "id": "9V9b-cMHVjbg",
        "colab_type": "text"
      },
      "source": [
        "Good! The average daily volatility of the stock (sigma) is 1.93% per day. The average daily variance of the stock (the second moment) is 0.04%."
      ]
    },
    {
      "cell_type": "code",
      "metadata": {
        "id": "mpJA0or5VVtX",
        "colab_type": "code",
        "colab": {
          "base_uri": "https://localhost:8080/",
          "height": 52
        },
        "outputId": "08d18936-9bcb-462b-fab9-2c0cabac008d"
      },
      "source": [
        "# Annualize the standard deviation\n",
        "sigma_annualized = sigma_daily*np.sqrt(252)\n",
        "print(sigma_annualized)\n",
        "\n",
        "# Calculate the annualized variance\n",
        "variance_annualized = sigma_annualized**2\n",
        "print(variance_annualized)"
      ],
      "execution_count": 11,
      "outputs": [
        {
          "output_type": "stream",
          "text": [
            "0.3070304505826317\n",
            "0.09426769758497383\n"
          ],
          "name": "stdout"
        }
      ]
    },
    {
      "cell_type": "markdown",
      "metadata": {
        "id": "u_gFrYCmV-zt",
        "colab_type": "text"
      },
      "source": [
        "Awesome! This works out to an annualized volatility (sigma) of 30.7% per year. And an annualized variance of 9.43% per year"
      ]
    },
    {
      "cell_type": "markdown",
      "metadata": {
        "id": "bWiFvEIaWVlr",
        "colab_type": "text"
      },
      "source": [
        "### Skewness : Skewness is the third moment of a distribution.\n",
        "* Negative Skew: The mass of the distribution is concentrated on the right. Usually a right-leaning curve\n",
        "* Positive Skew: The mass of the distribution is concentrated on the left.\n",
        "Usually a left-leaning curve\n",
        "* In finance, you would tend to want\n",
        "positive skewness\n",
        "\n",
        "<img src =\"https://github.com/iqbalamo93/Datasets/blob/master/Pyfin/Images/Skewness.JPG?raw=true\">\n",
        "\n",
        "- Note that the skewness is higher than 0 in this example, suggesting non-normality\n",
        "\n",
        "### Kurtosis: Kurtosis is a measure of the thickness of the tails of a distribution\n",
        "* Most financial returns are leptokurtic\n",
        "* Leptokurtic distributions are distributions with kurtosis larger than that of a normal distribution. A normal distribution has kurtosis of three.\n",
        "* Excess Kurtosis: Subtract 3 from the sample kurtosis to calculate “Excess\n",
        "Kurtosis”\n",
        "\n",
        "- can be used as proxy for probability of outliers.\n",
        "<img src =\"https://github.com/iqbalamo93/Datasets/blob/master/Pyfin/Images/Kurtosis.JPG?raw=true\">\n",
        "\n",
        "- Note the <b>excess kurtosis</b> greater than 0 in this example, suggesting non-normality.\n",
        "\n",
        "- high kurtosis distributions are thick tails\n",
        "\n",
        "PS: If we use -from scipy.stats import kurtosis\n",
        "In Fisher’s definiton, the kurtosis of the normal distribution is zero. In the following example, the kurtosis is close to zero, because it was calculated from the dataset, not from the continuous distribution. Add +3 to get sample kurtosis.\n"
      ]
    },
    {
      "cell_type": "markdown",
      "metadata": {
        "id": "pSV8gfHa4trZ",
        "colab_type": "text"
      },
      "source": [
        "### Test of normality\n",
        "- If skweness is not equal to zero and excess kurtosis is also not zero, we can say distribution is not normal.\n",
        "- what if values are close to zero but not equal to?\n",
        "\n",
        "- Here comes- Shapiro-Wilk test.\n",
        "\n",
        "The null hypothesis of the Shapiro-Wilk test is that the data are normally\n",
        "distributed. Example done below:\n",
        "\n"
      ]
    },
    {
      "cell_type": "code",
      "metadata": {
        "id": "UyRH906W7jXs",
        "colab_type": "code",
        "colab": {
          "base_uri": "https://localhost:8080/",
          "height": 35
        },
        "outputId": "fa27cf14-b5d3-40a7-84fe-3ad3be6b9a8d"
      },
      "source": [
        "# Import skew from scipy.stats\n",
        "from scipy.stats import skew\n",
        "\n",
        "# Drop the missing values\n",
        "clean_returns = MSFT_prices['return'].dropna()\n",
        "\n",
        "# Calculate the third moment (skewness) of the returns distribution\n",
        "returns_skewness = skew(clean_returns)\n",
        "print(returns_skewness)"
      ],
      "execution_count": 17,
      "outputs": [
        {
          "output_type": "stream",
          "text": [
            "0.21935459193067852\n"
          ],
          "name": "stdout"
        }
      ]
    },
    {
      "cell_type": "markdown",
      "metadata": {
        "id": "J24F5p7B8JD-",
        "colab_type": "text"
      },
      "source": [
        "The third moment (skewness) of the stock returns is 0.22. A normal distribution would have a skewness much closer to 0."
      ]
    },
    {
      "cell_type": "code",
      "metadata": {
        "id": "xbWpdRTM8EQR",
        "colab_type": "code",
        "colab": {
          "base_uri": "https://localhost:8080/",
          "height": 52
        },
        "outputId": "e3c77eac-72f0-408a-988b-7997dd49a17d"
      },
      "source": [
        "# Import kurtosis from scipy.stats\n",
        "from scipy.stats import kurtosis\n",
        "\n",
        "# Calculate the excess kurtosis of the returns distribution\n",
        "excess_kurtosis = kurtosis(clean_returns)\n",
        "print(excess_kurtosis)\n",
        "\n",
        "# Derive the true fourth moment of the returns distribution\n",
        "fourth_moment = excess_kurtosis+3\n",
        "print(fourth_moment)"
      ],
      "execution_count": 18,
      "outputs": [
        {
          "output_type": "stream",
          "text": [
            "10.31457261802553\n",
            "13.31457261802553\n"
          ],
          "name": "stdout"
        }
      ]
    },
    {
      "cell_type": "markdown",
      "metadata": {
        "id": "9ojBqmh48gnC",
        "colab_type": "text"
      },
      "source": [
        " The fourth moment (kurtosis) of the stock returns is 13.31 with an excess kurtosis of 10.31. A normal distribution would tend to have a kurtosis of 3, and an excess kurtosis of 0"
      ]
    },
    {
      "cell_type": "code",
      "metadata": {
        "id": "bOd0mZcW8b9q",
        "colab_type": "code",
        "colab": {
          "base_uri": "https://localhost:8080/",
          "height": 52
        },
        "outputId": "940bade4-ba76-4231-8888-5981d9896eae"
      },
      "source": [
        "# Import shapiro from scipy.stats\n",
        "from scipy.stats import shapiro\n",
        "\n",
        "# Run the Shapiro-Wilk test on the stock returns\n",
        "shapiro_results = shapiro(clean_returns)\n",
        "print(\"Shapiro results:\", shapiro_results)\n",
        "\n",
        "# Extract the p-value from the shapiro_results\n",
        "p_value = shapiro_results[1]\n",
        "print(\"P-value: \", p_value)"
      ],
      "execution_count": 19,
      "outputs": [
        {
          "output_type": "stream",
          "text": [
            "Shapiro results: (0.9003633260726929, 0.0)\n",
            "P-value:  0.0\n"
          ],
          "name": "stdout"
        }
      ]
    },
    {
      "cell_type": "markdown",
      "metadata": {
        "id": "1GxPVVJu9rG-",
        "colab_type": "text"
      },
      "source": [
        " The p-value is 0, so null hypothesis of normality is rejected. The data are non-normal."
      ]
    },
    {
      "cell_type": "code",
      "metadata": {
        "id": "JcO6ldTG9mE3",
        "colab_type": "code",
        "colab": {}
      },
      "source": [
        ""
      ],
      "execution_count": null,
      "outputs": []
    }
  ]
}