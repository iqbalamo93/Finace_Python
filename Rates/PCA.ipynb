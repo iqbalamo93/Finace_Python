{
 "cells": [
  {
   "cell_type": "markdown",
   "metadata": {},
   "source": [
    "Daily Treasury Yield Curve Rates\n",
    "\n",
    "Treasury Yield Curve Rates: These rates are commonly referred to as \"Constant Maturity Treasury\" rates, or CMTs. Yields are interpolated by the Treasury from the daily yield curve. This curve, which relates the yield on a security to its time to maturity is based on the closing market bid yields on actively traded Treasury securities in the over-the-counter market. These market yields are calculated from composites of indicative, bid-side market quotations (not actual transactions) obtained by the Federal Reserve Bank of New York at or near 3:30 PM each trading day. The CMT yield values are read from the yield curve at fixed maturities, currently 1, 2, 3 and 6 months and 1, 2, 3, 5, 7, 10, 20, and 30 years. This method provides a yield for a 10 year maturity, for example, even if no outstanding security has exactly 10 years remaining to maturity.\n",
    "\n",
    " <a href='https://www.treasury.gov/resource-center/data-chart-center/interest-rates/Pages/TextView.aspx?data=yield'>Source</a>"
   ]
  },
  {
   "cell_type": "code",
   "execution_count": 99,
   "metadata": {},
   "outputs": [],
   "source": [
    "url = 'https://www.treasury.gov/resource-center/data-chart-center/interest-rates/pages/TextView.aspx?data=yieldYear&year=2021'"
   ]
  },
  {
   "cell_type": "code",
   "execution_count": 100,
   "metadata": {},
   "outputs": [],
   "source": [
    "import pandas as pd\n",
    "import seaborn as sns\n",
    "import numpy as np\n",
    "import matplotlib.pyplot as plt"
   ]
  },
  {
   "cell_type": "code",
   "execution_count": 101,
   "metadata": {},
   "outputs": [],
   "source": [
    "df = pd.read_html(url)[1]\n",
    "df.set_index('Date',inplace=True)"
   ]
  },
  {
   "cell_type": "code",
   "execution_count": 102,
   "metadata": {},
   "outputs": [
    {
     "data": {
      "text/html": [
       "<div>\n",
       "<style scoped>\n",
       "    .dataframe tbody tr th:only-of-type {\n",
       "        vertical-align: middle;\n",
       "    }\n",
       "\n",
       "    .dataframe tbody tr th {\n",
       "        vertical-align: top;\n",
       "    }\n",
       "\n",
       "    .dataframe thead th {\n",
       "        text-align: right;\n",
       "    }\n",
       "</style>\n",
       "<table border=\"1\" class=\"dataframe\">\n",
       "  <thead>\n",
       "    <tr style=\"text-align: right;\">\n",
       "      <th></th>\n",
       "      <th>1 mo</th>\n",
       "      <th>2 mo</th>\n",
       "      <th>3 mo</th>\n",
       "      <th>6 mo</th>\n",
       "      <th>1 yr</th>\n",
       "      <th>2 yr</th>\n",
       "      <th>3 yr</th>\n",
       "      <th>5 yr</th>\n",
       "      <th>7 yr</th>\n",
       "      <th>10 yr</th>\n",
       "      <th>20 yr</th>\n",
       "      <th>30 yr</th>\n",
       "    </tr>\n",
       "    <tr>\n",
       "      <th>Date</th>\n",
       "      <th></th>\n",
       "      <th></th>\n",
       "      <th></th>\n",
       "      <th></th>\n",
       "      <th></th>\n",
       "      <th></th>\n",
       "      <th></th>\n",
       "      <th></th>\n",
       "      <th></th>\n",
       "      <th></th>\n",
       "      <th></th>\n",
       "      <th></th>\n",
       "    </tr>\n",
       "  </thead>\n",
       "  <tbody>\n",
       "    <tr>\n",
       "      <th>01/04/21</th>\n",
       "      <td>0.09</td>\n",
       "      <td>0.09</td>\n",
       "      <td>0.09</td>\n",
       "      <td>0.09</td>\n",
       "      <td>0.10</td>\n",
       "      <td>0.11</td>\n",
       "      <td>0.16</td>\n",
       "      <td>0.36</td>\n",
       "      <td>0.64</td>\n",
       "      <td>0.93</td>\n",
       "      <td>1.46</td>\n",
       "      <td>1.66</td>\n",
       "    </tr>\n",
       "    <tr>\n",
       "      <th>01/05/21</th>\n",
       "      <td>0.08</td>\n",
       "      <td>0.09</td>\n",
       "      <td>0.09</td>\n",
       "      <td>0.09</td>\n",
       "      <td>0.10</td>\n",
       "      <td>0.13</td>\n",
       "      <td>0.17</td>\n",
       "      <td>0.38</td>\n",
       "      <td>0.66</td>\n",
       "      <td>0.96</td>\n",
       "      <td>1.49</td>\n",
       "      <td>1.70</td>\n",
       "    </tr>\n",
       "    <tr>\n",
       "      <th>01/06/21</th>\n",
       "      <td>0.09</td>\n",
       "      <td>0.09</td>\n",
       "      <td>0.09</td>\n",
       "      <td>0.09</td>\n",
       "      <td>0.11</td>\n",
       "      <td>0.14</td>\n",
       "      <td>0.20</td>\n",
       "      <td>0.43</td>\n",
       "      <td>0.74</td>\n",
       "      <td>1.04</td>\n",
       "      <td>1.60</td>\n",
       "      <td>1.81</td>\n",
       "    </tr>\n",
       "    <tr>\n",
       "      <th>01/07/21</th>\n",
       "      <td>0.09</td>\n",
       "      <td>0.09</td>\n",
       "      <td>0.09</td>\n",
       "      <td>0.09</td>\n",
       "      <td>0.11</td>\n",
       "      <td>0.14</td>\n",
       "      <td>0.22</td>\n",
       "      <td>0.46</td>\n",
       "      <td>0.78</td>\n",
       "      <td>1.08</td>\n",
       "      <td>1.64</td>\n",
       "      <td>1.85</td>\n",
       "    </tr>\n",
       "    <tr>\n",
       "      <th>01/08/21</th>\n",
       "      <td>0.08</td>\n",
       "      <td>0.08</td>\n",
       "      <td>0.08</td>\n",
       "      <td>0.09</td>\n",
       "      <td>0.10</td>\n",
       "      <td>0.14</td>\n",
       "      <td>0.24</td>\n",
       "      <td>0.49</td>\n",
       "      <td>0.81</td>\n",
       "      <td>1.13</td>\n",
       "      <td>1.67</td>\n",
       "      <td>1.87</td>\n",
       "    </tr>\n",
       "  </tbody>\n",
       "</table>\n",
       "</div>"
      ],
      "text/plain": [
       "          1 mo  2 mo  3 mo  6 mo  1 yr  2 yr  3 yr  5 yr  7 yr  10 yr  20 yr  \\\n",
       "Date                                                                           \n",
       "01/04/21  0.09  0.09  0.09  0.09  0.10  0.11  0.16  0.36  0.64   0.93   1.46   \n",
       "01/05/21  0.08  0.09  0.09  0.09  0.10  0.13  0.17  0.38  0.66   0.96   1.49   \n",
       "01/06/21  0.09  0.09  0.09  0.09  0.11  0.14  0.20  0.43  0.74   1.04   1.60   \n",
       "01/07/21  0.09  0.09  0.09  0.09  0.11  0.14  0.22  0.46  0.78   1.08   1.64   \n",
       "01/08/21  0.08  0.08  0.08  0.09  0.10  0.14  0.24  0.49  0.81   1.13   1.67   \n",
       "\n",
       "          30 yr  \n",
       "Date             \n",
       "01/04/21   1.66  \n",
       "01/05/21   1.70  \n",
       "01/06/21   1.81  \n",
       "01/07/21   1.85  \n",
       "01/08/21   1.87  "
      ]
     },
     "execution_count": 102,
     "metadata": {},
     "output_type": "execute_result"
    }
   ],
   "source": [
    "df.head()"
   ]
  },
  {
   "cell_type": "code",
   "execution_count": 103,
   "metadata": {},
   "outputs": [],
   "source": [
    "df_chg = df.pct_change().dropna()"
   ]
  },
  {
   "cell_type": "code",
   "execution_count": 104,
   "metadata": {},
   "outputs": [
    {
     "data": {
      "text/html": [
       "<div>\n",
       "<style scoped>\n",
       "    .dataframe tbody tr th:only-of-type {\n",
       "        vertical-align: middle;\n",
       "    }\n",
       "\n",
       "    .dataframe tbody tr th {\n",
       "        vertical-align: top;\n",
       "    }\n",
       "\n",
       "    .dataframe thead th {\n",
       "        text-align: right;\n",
       "    }\n",
       "</style>\n",
       "<table border=\"1\" class=\"dataframe\">\n",
       "  <thead>\n",
       "    <tr style=\"text-align: right;\">\n",
       "      <th></th>\n",
       "      <th>1 mo</th>\n",
       "      <th>2 mo</th>\n",
       "      <th>3 mo</th>\n",
       "      <th>6 mo</th>\n",
       "      <th>1 yr</th>\n",
       "      <th>2 yr</th>\n",
       "      <th>3 yr</th>\n",
       "      <th>5 yr</th>\n",
       "      <th>7 yr</th>\n",
       "      <th>10 yr</th>\n",
       "      <th>20 yr</th>\n",
       "      <th>30 yr</th>\n",
       "    </tr>\n",
       "    <tr>\n",
       "      <th>Date</th>\n",
       "      <th></th>\n",
       "      <th></th>\n",
       "      <th></th>\n",
       "      <th></th>\n",
       "      <th></th>\n",
       "      <th></th>\n",
       "      <th></th>\n",
       "      <th></th>\n",
       "      <th></th>\n",
       "      <th></th>\n",
       "      <th></th>\n",
       "      <th></th>\n",
       "    </tr>\n",
       "  </thead>\n",
       "  <tbody>\n",
       "    <tr>\n",
       "      <th>01/05/21</th>\n",
       "      <td>-0.111111</td>\n",
       "      <td>0.000000</td>\n",
       "      <td>0.000000</td>\n",
       "      <td>0.000000</td>\n",
       "      <td>0.000000</td>\n",
       "      <td>0.181818</td>\n",
       "      <td>0.062500</td>\n",
       "      <td>0.055556</td>\n",
       "      <td>0.031250</td>\n",
       "      <td>0.032258</td>\n",
       "      <td>0.020548</td>\n",
       "      <td>0.024096</td>\n",
       "    </tr>\n",
       "    <tr>\n",
       "      <th>01/06/21</th>\n",
       "      <td>0.125000</td>\n",
       "      <td>0.000000</td>\n",
       "      <td>0.000000</td>\n",
       "      <td>0.000000</td>\n",
       "      <td>0.100000</td>\n",
       "      <td>0.076923</td>\n",
       "      <td>0.176471</td>\n",
       "      <td>0.131579</td>\n",
       "      <td>0.121212</td>\n",
       "      <td>0.083333</td>\n",
       "      <td>0.073826</td>\n",
       "      <td>0.064706</td>\n",
       "    </tr>\n",
       "    <tr>\n",
       "      <th>01/07/21</th>\n",
       "      <td>0.000000</td>\n",
       "      <td>0.000000</td>\n",
       "      <td>0.000000</td>\n",
       "      <td>0.000000</td>\n",
       "      <td>0.000000</td>\n",
       "      <td>0.000000</td>\n",
       "      <td>0.100000</td>\n",
       "      <td>0.069767</td>\n",
       "      <td>0.054054</td>\n",
       "      <td>0.038462</td>\n",
       "      <td>0.025000</td>\n",
       "      <td>0.022099</td>\n",
       "    </tr>\n",
       "    <tr>\n",
       "      <th>01/08/21</th>\n",
       "      <td>-0.111111</td>\n",
       "      <td>-0.111111</td>\n",
       "      <td>-0.111111</td>\n",
       "      <td>0.000000</td>\n",
       "      <td>-0.090909</td>\n",
       "      <td>0.000000</td>\n",
       "      <td>0.090909</td>\n",
       "      <td>0.065217</td>\n",
       "      <td>0.038462</td>\n",
       "      <td>0.046296</td>\n",
       "      <td>0.018293</td>\n",
       "      <td>0.010811</td>\n",
       "    </tr>\n",
       "    <tr>\n",
       "      <th>01/11/21</th>\n",
       "      <td>0.125000</td>\n",
       "      <td>0.000000</td>\n",
       "      <td>0.000000</td>\n",
       "      <td>0.111111</td>\n",
       "      <td>0.000000</td>\n",
       "      <td>0.000000</td>\n",
       "      <td>-0.083333</td>\n",
       "      <td>0.020408</td>\n",
       "      <td>0.037037</td>\n",
       "      <td>0.017699</td>\n",
       "      <td>0.005988</td>\n",
       "      <td>0.005348</td>\n",
       "    </tr>\n",
       "  </tbody>\n",
       "</table>\n",
       "</div>"
      ],
      "text/plain": [
       "              1 mo      2 mo      3 mo      6 mo      1 yr      2 yr  \\\n",
       "Date                                                                   \n",
       "01/05/21 -0.111111  0.000000  0.000000  0.000000  0.000000  0.181818   \n",
       "01/06/21  0.125000  0.000000  0.000000  0.000000  0.100000  0.076923   \n",
       "01/07/21  0.000000  0.000000  0.000000  0.000000  0.000000  0.000000   \n",
       "01/08/21 -0.111111 -0.111111 -0.111111  0.000000 -0.090909  0.000000   \n",
       "01/11/21  0.125000  0.000000  0.000000  0.111111  0.000000  0.000000   \n",
       "\n",
       "              3 yr      5 yr      7 yr     10 yr     20 yr     30 yr  \n",
       "Date                                                                  \n",
       "01/05/21  0.062500  0.055556  0.031250  0.032258  0.020548  0.024096  \n",
       "01/06/21  0.176471  0.131579  0.121212  0.083333  0.073826  0.064706  \n",
       "01/07/21  0.100000  0.069767  0.054054  0.038462  0.025000  0.022099  \n",
       "01/08/21  0.090909  0.065217  0.038462  0.046296  0.018293  0.010811  \n",
       "01/11/21 -0.083333  0.020408  0.037037  0.017699  0.005988  0.005348  "
      ]
     },
     "execution_count": 104,
     "metadata": {},
     "output_type": "execute_result"
    }
   ],
   "source": [
    "df_chg.head()"
   ]
  },
  {
   "cell_type": "code",
   "execution_count": 105,
   "metadata": {},
   "outputs": [
    {
     "data": {
      "text/plain": [
       "<AxesSubplot:>"
      ]
     },
     "execution_count": 105,
     "metadata": {},
     "output_type": "execute_result"
    },
    {
     "data": {
      "image/png": "[encoded data removed]",
      "text/plain": [
       "<Figure size 1440x720 with 2 Axes>"
      ]
     },
     "metadata": {
      "needs_background": "light"
     },
     "output_type": "display_data"
    }
   ],
   "source": [
    "corr = df_chg.corr()\n",
    "plt.figure(figsize=(20,10))\n",
    "sns.heatmap(corr,annot = True)"
   ]
  },
  {
   "cell_type": "code",
   "execution_count": 106,
   "metadata": {},
   "outputs": [
    {
     "data": {
      "application/vnd.plotly.v1+json": {
       "config": {
        "plotlyServerURL": "https://plot.ly"
       },
       "data": [
        {
         "hovertemplate": "variable=1 mo<br>Date=%{x}<br>value=%{y}<extra></extra>",
         "legendgroup": "1 mo",
         "line": {
          "color": "#636efa",
          "dash": "solid"
         },
         "mode": "lines",
         "name": "1 mo",
         "orientation": "v",
         "showlegend": true,
         "type": "scatter",
         "x": [
          "01/05/21",
          "01/06/21",
          "01/07/21",
          "01/08/21",
          "01/11/21",
          "01/12/21",
          "01/13/21",
          "01/14/21",
          "01/15/21",
          "01/19/21",
          "01/20/21",
          "01/21/21",
          "01/22/21",
          "01/25/21",
          "01/26/21",
          "01/27/21",
          "01/28/21",
          "01/29/21",
          "02/01/21",
          "02/02/21",
          "02/03/21",
          "02/04/21",
          "02/05/21",
          "02/08/21",
          "02/09/21",
          "02/10/21",
          "02/11/21",
          "02/12/21",
          "02/16/21",
          "02/17/21",
          "02/18/21",
          "02/19/21",
          "02/22/21",
          "02/23/21",
          "02/24/21",
          "02/25/21",
          "02/26/21",
          "03/01/21",
          "03/02/21",
          "03/03/21",
          "03/04/21",
          "03/05/21",
          "03/08/21",
          "03/09/21",
          "03/10/21",
          "03/11/21",
          "03/12/21",
          "03/15/21",
          "03/16/21",
          "03/17/21",
          "03/18/21",
          "03/19/21",
          "03/22/21",
          "03/23/21",
          "03/24/21",
          "03/25/21",
          "03/26/21"
         ],
         "xaxis": "x",
         "y": [
          -0.11111111111111105,
          0.125,
          0,
          -0.11111111111111105,
          0.125,
          0,
          0,
          0,
          -0.11111111111111105,
          -0.12499999999999989,
          0.1428571428571428,
          -0.12499999999999989,
          0,
          0,
          -0.2857142857142857,
          0,
          0,
          0.40000000000000013,
          -0.14285714285714302,
          -0.33333333333333326,
          -0.25,
          0,
          -0.33333333333333326,
          1,
          0,
          0.25,
          0,
          -0.4,
          0,
          0,
          0,
          0,
          0,
          0,
          0,
          0.3333333333333335,
          0,
          -0.25,
          0.3333333333333335,
          0,
          -0.25,
          0.3333333333333335,
          0,
          0,
          -0.25,
          0.3333333333333335,
          -0.25,
          -0.33333333333333326,
          -0.5,
          0,
          0,
          0,
          1,
          0,
          0,
          0,
          0
         ],
         "yaxis": "y"
        },
        {
         "hovertemplate": "variable=2 mo<br>Date=%{x}<br>value=%{y}<extra></extra>",
         "legendgroup": "2 mo",
         "line": {
          "color": "#EF553B",
          "dash": "solid"
         },
         "mode": "lines",
         "name": "2 mo",
         "orientation": "v",
         "showlegend": true,
         "type": "scatter",
         "x": [
          "01/05/21",
          "01/06/21",
          "01/07/21",
          "01/08/21",
          "01/11/21",
          "01/12/21",
          "01/13/21",
          "01/14/21",
          "01/15/21",
          "01/19/21",
          "01/20/21",
          "01/21/21",
          "01/22/21",
          "01/25/21",
          "01/26/21",
          "01/27/21",
          "01/28/21",
          "01/29/21",
          "02/01/21",
          "02/02/21",
          "02/03/21",
          "02/04/21",
          "02/05/21",
          "02/08/21",
          "02/09/21",
          "02/10/21",
          "02/11/21",
          "02/12/21",
          "02/16/21",
          "02/17/21",
          "02/18/21",
          "02/19/21",
          "02/22/21",
          "02/23/21",
          "02/24/21",
          "02/25/21",
          "02/26/21",
          "03/01/21",
          "03/02/21",
          "03/03/21",
          "03/04/21",
          "03/05/21",
          "03/08/21",
          "03/09/21",
          "03/10/21",
          "03/11/21",
          "03/12/21",
          "03/15/21",
          "03/16/21",
          "03/17/21",
          "03/18/21",
          "03/19/21",
          "03/22/21",
          "03/23/21",
          "03/24/21",
          "03/25/21",
          "03/26/21"
         ],
         "xaxis": "x",
         "y": [
          0,
          0,
          0,
          -0.11111111111111105,
          0,
          0,
          0,
          0.125,
          0,
          0,
          -0.11111111111111105,
          0.125,
          -0.11111111111111105,
          0,
          -0.12499999999999989,
          -0.14285714285714302,
          0,
          0.16666666666666674,
          0,
          -0.2857142857142857,
          -0.20000000000000007,
          0,
          -0.25,
          0,
          0.3333333333333335,
          0,
          0.25,
          -0.20000000000000007,
          0,
          0,
          -0.25,
          0,
          -0.33333333333333326,
          0,
          0.5,
          0,
          0.3333333333333335,
          -0.25,
          0.3333333333333335,
          0,
          0.25,
          -0.20000000000000007,
          0,
          0,
          -0.25,
          0.3333333333333335,
          -0.25,
          -0.33333333333333326,
          0,
          0,
          -0.5,
          0,
          1,
          0,
          0,
          0.5,
          -0.33333333333333326
         ],
         "yaxis": "y"
        },
        {
         "hovertemplate": "variable=3 mo<br>Date=%{x}<br>value=%{y}<extra></extra>",
         "legendgroup": "3 mo",
         "line": {
          "color": "#00cc96",
          "dash": "solid"
         },
         "mode": "lines",
         "name": "3 mo",
         "orientation": "v",
         "showlegend": true,
         "type": "scatter",
         "x": [
          "01/05/21",
          "01/06/21",
          "01/07/21",
          "01/08/21",
          "01/11/21",
          "01/12/21",
          "01/13/21",
          "01/14/21",
          "01/15/21",
          "01/19/21",
          "01/20/21",
          "01/21/21",
          "01/22/21",
          "01/25/21",
          "01/26/21",
          "01/27/21",
          "01/28/21",
          "01/29/21",
          "02/01/21",
          "02/02/21",
          "02/03/21",
          "02/04/21",
          "02/05/21",
          "02/08/21",
          "02/09/21",
          "02/10/21",
          "02/11/21",
          "02/12/21",
          "02/16/21",
          "02/17/21",
          "02/18/21",
          "02/19/21",
          "02/22/21",
          "02/23/21",
          "02/24/21",
          "02/25/21",
          "02/26/21",
          "03/01/21",
          "03/02/21",
          "03/03/21",
          "03/04/21",
          "03/05/21",
          "03/08/21",
          "03/09/21",
          "03/10/21",
          "03/11/21",
          "03/12/21",
          "03/15/21",
          "03/16/21",
          "03/17/21",
          "03/18/21",
          "03/19/21",
          "03/22/21",
          "03/23/21",
          "03/24/21",
          "03/25/21",
          "03/26/21"
         ],
         "xaxis": "x",
         "y": [
          0,
          0,
          0,
          -0.11111111111111105,
          0,
          0.125,
          0,
          0,
          0,
          0,
          -0.11111111111111105,
          0.125,
          -0.11111111111111105,
          0.125,
          -0.2222222222222221,
          0.1428571428571428,
          -0.12499999999999989,
          -0.14285714285714302,
          0.16666666666666674,
          0,
          -0.4285714285714286,
          0,
          -0.25,
          0.6666666666666667,
          -0.20000000000000007,
          0.25,
          0,
          -0.20000000000000007,
          0,
          0,
          -0.25,
          0.3333333333333335,
          -0.25,
          0.3333333333333335,
          -0.25,
          0.3333333333333335,
          0,
          0.25,
          -0.20000000000000007,
          0.25,
          -0.20000000000000007,
          0,
          0.25,
          0,
          -0.20000000000000007,
          0,
          0,
          0,
          -0.5,
          0,
          -0.5,
          0,
          2,
          -0.6666666666666666,
          1,
          0,
          0
         ],
         "yaxis": "y"
        },
        {
         "hovertemplate": "variable=6 mo<br>Date=%{x}<br>value=%{y}<extra></extra>",
         "legendgroup": "6 mo",
         "line": {
          "color": "#ab63fa",
          "dash": "solid"
         },
         "mode": "lines",
         "name": "6 mo",
         "orientation": "v",
         "showlegend": true,
         "type": "scatter",
         "x": [
          "01/05/21",
          "01/06/21",
          "01/07/21",
          "01/08/21",
          "01/11/21",
          "01/12/21",
          "01/13/21",
          "01/14/21",
          "01/15/21",
          "01/19/21",
          "01/20/21",
          "01/21/21",
          "01/22/21",
          "01/25/21",
          "01/26/21",
          "01/27/21",
          "01/28/21",
          "01/29/21",
          "02/01/21",
          "02/02/21",
          "02/03/21",
          "02/04/21",
          "02/05/21",
          "02/08/21",
          "02/09/21",
          "02/10/21",
          "02/11/21",
          "02/12/21",
          "02/16/21",
          "02/17/21",
          "02/18/21",
          "02/19/21",
          "02/22/21",
          "02/23/21",
          "02/24/21",
          "02/25/21",
          "02/26/21",
          "03/01/21",
          "03/02/21",
          "03/03/21",
          "03/04/21",
          "03/05/21",
          "03/08/21",
          "03/09/21",
          "03/10/21",
          "03/11/21",
          "03/12/21",
          "03/15/21",
          "03/16/21",
          "03/17/21",
          "03/18/21",
          "03/19/21",
          "03/22/21",
          "03/23/21",
          "03/24/21",
          "03/25/21",
          "03/26/21"
         ],
         "xaxis": "x",
         "y": [
          0,
          0,
          0,
          0,
          0.11111111111111116,
          -0.10000000000000009,
          0.11111111111111116,
          -0.10000000000000009,
          0.11111111111111116,
          0.09999999999999987,
          -0.09090909090909083,
          -0.10000000000000009,
          0.11111111111111116,
          -0.10000000000000009,
          0,
          0,
          -0.11111111111111105,
          -0.12499999999999989,
          0.1428571428571428,
          0,
          -0.25,
          0,
          -0.16666666666666663,
          0,
          0.19999999999999996,
          0,
          0,
          -0.16666666666666663,
          0.19999999999999996,
          0,
          -0.33333333333333326,
          0.5,
          -0.33333333333333326,
          0.25,
          0,
          0.19999999999999996,
          -0.16666666666666663,
          0.40000000000000013,
          -0.14285714285714302,
          0.16666666666666674,
          0,
          0,
          -0.14285714285714302,
          0.16666666666666674,
          -0.14285714285714302,
          -0.16666666666666663,
          0.19999999999999996,
          0,
          0,
          -0.16666666666666663,
          -0.4,
          0,
          0.6666666666666667,
          -0.20000000000000007,
          0,
          0,
          0
         ],
         "yaxis": "y"
        },
        {
         "hovertemplate": "variable=1 yr<br>Date=%{x}<br>value=%{y}<extra></extra>",
         "legendgroup": "1 yr",
         "line": {
          "color": "#FFA15A",
          "dash": "solid"
         },
         "mode": "lines",
         "name": "1 yr",
         "orientation": "v",
         "showlegend": true,
         "type": "scatter",
         "x": [
          "01/05/21",
          "01/06/21",
          "01/07/21",
          "01/08/21",
          "01/11/21",
          "01/12/21",
          "01/13/21",
          "01/14/21",
          "01/15/21",
          "01/19/21",
          "01/20/21",
          "01/21/21",
          "01/22/21",
          "01/25/21",
          "01/26/21",
          "01/27/21",
          "01/28/21",
          "01/29/21",
          "02/01/21",
          "02/02/21",
          "02/03/21",
          "02/04/21",
          "02/05/21",
          "02/08/21",
          "02/09/21",
          "02/10/21",
          "02/11/21",
          "02/12/21",
          "02/16/21",
          "02/17/21",
          "02/18/21",
          "02/19/21",
          "02/22/21",
          "02/23/21",
          "02/24/21",
          "02/25/21",
          "02/26/21",
          "03/01/21",
          "03/02/21",
          "03/03/21",
          "03/04/21",
          "03/05/21",
          "03/08/21",
          "03/09/21",
          "03/10/21",
          "03/11/21",
          "03/12/21",
          "03/15/21",
          "03/16/21",
          "03/17/21",
          "03/18/21",
          "03/19/21",
          "03/22/21",
          "03/23/21",
          "03/24/21",
          "03/25/21",
          "03/26/21"
         ],
         "xaxis": "x",
         "y": [
          0,
          0.09999999999999987,
          0,
          -0.09090909090909083,
          0,
          0.09999999999999987,
          0.09090909090909083,
          -0.16666666666666663,
          0,
          0,
          0,
          0,
          0,
          0,
          -0.10000000000000009,
          0,
          -0.11111111111111105,
          0.25,
          -0.20000000000000007,
          0,
          0,
          -0.12499999999999989,
          -0.14285714285714302,
          0.16666666666666674,
          0,
          0,
          0,
          -0.14285714285714302,
          0.3333333333333335,
          -0.12499999999999989,
          -0.14285714285714302,
          0.16666666666666674,
          -0.14285714285714302,
          0.3333333333333335,
          0,
          0.125,
          -0.11111111111111105,
          0,
          0,
          0,
          0,
          0,
          0.125,
          0.11111111111111116,
          -0.20000000000000007,
          0,
          0.125,
          -0.11111111111111105,
          -0.12499999999999989,
          0,
          0.1428571428571428,
          -0.12499999999999989,
          -0.14285714285714302,
          0.3333333333333335,
          -0.12499999999999989,
          0,
          -0.14285714285714302
         ],
         "yaxis": "y"
        },
        {
         "hovertemplate": "variable=2 yr<br>Date=%{x}<br>value=%{y}<extra></extra>",
         "legendgroup": "2 yr",
         "line": {
          "color": "#19d3f3",
          "dash": "solid"
         },
         "mode": "lines",
         "name": "2 yr",
         "orientation": "v",
         "showlegend": true,
         "type": "scatter",
         "x": [
          "01/05/21",
          "01/06/21",
          "01/07/21",
          "01/08/21",
          "01/11/21",
          "01/12/21",
          "01/13/21",
          "01/14/21",
          "01/15/21",
          "01/19/21",
          "01/20/21",
          "01/21/21",
          "01/22/21",
          "01/25/21",
          "01/26/21",
          "01/27/21",
          "01/28/21",
          "01/29/21",
          "02/01/21",
          "02/02/21",
          "02/03/21",
          "02/04/21",
          "02/05/21",
          "02/08/21",
          "02/09/21",
          "02/10/21",
          "02/11/21",
          "02/12/21",
          "02/16/21",
          "02/17/21",
          "02/18/21",
          "02/19/21",
          "02/22/21",
          "02/23/21",
          "02/24/21",
          "02/25/21",
          "02/26/21",
          "03/01/21",
          "03/02/21",
          "03/03/21",
          "03/04/21",
          "03/05/21",
          "03/08/21",
          "03/09/21",
          "03/10/21",
          "03/11/21",
          "03/12/21",
          "03/15/21",
          "03/16/21",
          "03/17/21",
          "03/18/21",
          "03/19/21",
          "03/22/21",
          "03/23/21",
          "03/24/21",
          "03/25/21",
          "03/26/21"
         ],
         "xaxis": "x",
         "y": [
          0.18181818181818188,
          0.0769230769230771,
          0,
          0,
          0,
          0,
          0,
          0.1428571428571428,
          -0.1875,
          0.0769230769230771,
          -0.07142857142857151,
          0,
          0,
          0,
          -0.15384615384615385,
          0.09090909090909083,
          0,
          -0.08333333333333326,
          0,
          0,
          0,
          0,
          -0.18181818181818188,
          0.22222222222222232,
          0,
          0,
          0,
          0,
          0.18181818181818188,
          -0.15384615384615385,
          0,
          0,
          0,
          0,
          0.09090909090909083,
          0.41666666666666674,
          -0.17647058823529405,
          -0.07142857142857151,
          0,
          0.0769230769230771,
          0,
          0,
          0.2142857142857142,
          0,
          -0.05882352941176472,
          -0.12499999999999989,
          0,
          0,
          0.0714285714285714,
          -0.1333333333333333,
          0.23076923076923084,
          0,
          -0.0625,
          0,
          -0.06666666666666654,
          0,
          0
         ],
         "yaxis": "y"
        },
        {
         "hovertemplate": "variable=3 yr<br>Date=%{x}<br>value=%{y}<extra></extra>",
         "legendgroup": "3 yr",
         "line": {
          "color": "#FF6692",
          "dash": "solid"
         },
         "mode": "lines",
         "name": "3 yr",
         "orientation": "v",
         "showlegend": true,
         "type": "scatter",
         "x": [
          "01/05/21",
          "01/06/21",
          "01/07/21",
          "01/08/21",
          "01/11/21",
          "01/12/21",
          "01/13/21",
          "01/14/21",
          "01/15/21",
          "01/19/21",
          "01/20/21",
          "01/21/21",
          "01/22/21",
          "01/25/21",
          "01/26/21",
          "01/27/21",
          "01/28/21",
          "01/29/21",
          "02/01/21",
          "02/02/21",
          "02/03/21",
          "02/04/21",
          "02/05/21",
          "02/08/21",
          "02/09/21",
          "02/10/21",
          "02/11/21",
          "02/12/21",
          "02/16/21",
          "02/17/21",
          "02/18/21",
          "02/19/21",
          "02/22/21",
          "02/23/21",
          "02/24/21",
          "02/25/21",
          "02/26/21",
          "03/01/21",
          "03/02/21",
          "03/03/21",
          "03/04/21",
          "03/05/21",
          "03/08/21",
          "03/09/21",
          "03/10/21",
          "03/11/21",
          "03/12/21",
          "03/15/21",
          "03/16/21",
          "03/17/21",
          "03/18/21",
          "03/19/21",
          "03/22/21",
          "03/23/21",
          "03/24/21",
          "03/25/21",
          "03/26/21"
         ],
         "xaxis": "x",
         "y": [
          0.0625,
          0.17647058823529416,
          0.09999999999999987,
          0.09090909090909083,
          -0.08333333333333326,
          0.045454545454545414,
          -0.0434782608695653,
          0.045454545454545414,
          -0.13043478260869568,
          0.04999999999999982,
          -0.09523809523809523,
          0,
          0,
          -0.10526315789473684,
          0.0588235294117645,
          0,
          0,
          0.05555555555555558,
          -0.10526315789473684,
          0.0588235294117645,
          0.05555555555555558,
          -0.052631578947368474,
          0.05555555555555558,
          0.05263157894736836,
          -0.050000000000000044,
          0,
          0,
          0.05263157894736836,
          0.1499999999999999,
          -0.08695652173913049,
          0,
          0.04761904761904767,
          0,
          0,
          0.09090909090909083,
          0.41666666666666674,
          -0.11764705882352955,
          -0.09999999999999987,
          -0.03703703703703709,
          0.1153846153846152,
          0.10344827586206917,
          0,
          0.0625,
          0.02941176470588225,
          -0.08571428571428563,
          -0.03125,
          0.09677419354838723,
          -0.02941176470588236,
          0,
          -0.12121212121212133,
          0.13793103448275867,
          0,
          -0.030303030303030276,
          -0.03125,
          0,
          -0.032258064516129115,
          0.03333333333333344
         ],
         "yaxis": "y"
        },
        {
         "hovertemplate": "variable=5 yr<br>Date=%{x}<br>value=%{y}<extra></extra>",
         "legendgroup": "5 yr",
         "line": {
          "color": "#B6E880",
          "dash": "solid"
         },
         "mode": "lines",
         "name": "5 yr",
         "orientation": "v",
         "showlegend": true,
         "type": "scatter",
         "x": [
          "01/05/21",
          "01/06/21",
          "01/07/21",
          "01/08/21",
          "01/11/21",
          "01/12/21",
          "01/13/21",
          "01/14/21",
          "01/15/21",
          "01/19/21",
          "01/20/21",
          "01/21/21",
          "01/22/21",
          "01/25/21",
          "01/26/21",
          "01/27/21",
          "01/28/21",
          "01/29/21",
          "02/01/21",
          "02/02/21",
          "02/03/21",
          "02/04/21",
          "02/05/21",
          "02/08/21",
          "02/09/21",
          "02/10/21",
          "02/11/21",
          "02/12/21",
          "02/16/21",
          "02/17/21",
          "02/18/21",
          "02/19/21",
          "02/22/21",
          "02/23/21",
          "02/24/21",
          "02/25/21",
          "02/26/21",
          "03/01/21",
          "03/02/21",
          "03/03/21",
          "03/04/21",
          "03/05/21",
          "03/08/21",
          "03/09/21",
          "03/10/21",
          "03/11/21",
          "03/12/21",
          "03/15/21",
          "03/16/21",
          "03/17/21",
          "03/18/21",
          "03/19/21",
          "03/22/21",
          "03/23/21",
          "03/24/21",
          "03/25/21",
          "03/26/21"
         ],
         "xaxis": "x",
         "y": [
          0.05555555555555558,
          0.13157894736842102,
          0.06976744186046524,
          0.06521739130434767,
          0.020408163265306145,
          0,
          -0.040000000000000036,
          0.02083333333333326,
          -0.061224489795918324,
          -0.021739130434782594,
          0,
          0,
          -0.022222222222222254,
          -0.045454545454545525,
          0,
          -0.023809523809523836,
          0.024390243902439046,
          0.0714285714285714,
          -0.06666666666666676,
          0.0714285714285714,
          0.022222222222222143,
          0,
          0.021739130434782483,
          0.02127659574468077,
          0,
          -0.04166666666666663,
          0,
          0.08695652173913038,
          0.1399999999999999,
          0,
          -0.01754385964912264,
          0.05357142857142838,
          0.033898305084745894,
          -0.032786885245901676,
          0.05084745762711873,
          0.306451612903226,
          -0.07407407407407418,
          -0.053333333333333344,
          -0.05633802816901401,
          0.08955223880596996,
          0.0547945205479452,
          0.025974025974025983,
          0.08860759493670889,
          -0.03488372093023262,
          -0.036144578313252906,
          -0.025000000000000022,
          0.08974358974358965,
          -0.0117647058823529,
          -0.011904761904761862,
          -0.036144578313252906,
          0.07499999999999996,
          0.04651162790697683,
          -0.033333333333333326,
          -0.04597701149425293,
          0,
          -0.012048192771084376,
          0.03658536585365857
         ],
         "yaxis": "y"
        },
        {
         "hovertemplate": "variable=7 yr<br>Date=%{x}<br>value=%{y}<extra></extra>",
         "legendgroup": "7 yr",
         "line": {
          "color": "#FF97FF",
          "dash": "solid"
         },
         "mode": "lines",
         "name": "7 yr",
         "orientation": "v",
         "showlegend": true,
         "type": "scatter",
         "x": [
          "01/05/21",
          "01/06/21",
          "01/07/21",
          "01/08/21",
          "01/11/21",
          "01/12/21",
          "01/13/21",
          "01/14/21",
          "01/15/21",
          "01/19/21",
          "01/20/21",
          "01/21/21",
          "01/22/21",
          "01/25/21",
          "01/26/21",
          "01/27/21",
          "01/28/21",
          "01/29/21",
          "02/01/21",
          "02/02/21",
          "02/03/21",
          "02/04/21",
          "02/05/21",
          "02/08/21",
          "02/09/21",
          "02/10/21",
          "02/11/21",
          "02/12/21",
          "02/16/21",
          "02/17/21",
          "02/18/21",
          "02/19/21",
          "02/22/21",
          "02/23/21",
          "02/24/21",
          "02/25/21",
          "02/26/21",
          "03/01/21",
          "03/02/21",
          "03/03/21",
          "03/04/21",
          "03/05/21",
          "03/08/21",
          "03/09/21",
          "03/10/21",
          "03/11/21",
          "03/12/21",
          "03/15/21",
          "03/16/21",
          "03/17/21",
          "03/18/21",
          "03/19/21",
          "03/22/21",
          "03/23/21",
          "03/24/21",
          "03/25/21",
          "03/26/21"
         ],
         "xaxis": "x",
         "y": [
          0.03125,
          0.1212121212121211,
          0.05405405405405417,
          0.03846153846153855,
          0.03703703703703698,
          -0.011904761904761862,
          -0.036144578313252906,
          0.02499999999999991,
          -0.04878048780487798,
          0,
          0,
          0.012820512820512775,
          -0.025316455696202556,
          -0.051948051948051965,
          0.013698630136986356,
          -0.027027027027027084,
          0.04166666666666674,
          0.053333333333333455,
          -0.03797468354430378,
          0.03947368421052633,
          0.025316455696202445,
          0,
          0.024691358024691246,
          0,
          0,
          -0.036144578313252906,
          0.012499999999999956,
          0.04938271604938271,
          0.10588235294117654,
          0,
          0,
          0.042553191489361764,
          0.020408163265306145,
          0,
          0.020000000000000018,
          0.2058823529411764,
          -0.06504065040650409,
          -0.02608695652173898,
          -0.0357142857142857,
          0.05555555555555536,
          0.06140350877192979,
          0.016528925619834656,
          0.04065040650406515,
          -0.0390625,
          -0.024390243902439046,
          0,
          0.08333333333333348,
          -0.015384615384615441,
          0,
          -0.0078125,
          0.06299212598425208,
          0.022222222222222143,
          -0.02898550724637672,
          -0.03731343283582089,
          -0.015503875968992276,
          0.015748031496062964,
          0.023255813953488413
         ],
         "yaxis": "y"
        },
        {
         "hovertemplate": "variable=10 yr<br>Date=%{x}<br>value=%{y}<extra></extra>",
         "legendgroup": "10 yr",
         "line": {
          "color": "#FECB52",
          "dash": "solid"
         },
         "mode": "lines",
         "name": "10 yr",
         "orientation": "v",
         "showlegend": true,
         "type": "scatter",
         "x": [
          "01/05/21",
          "01/06/21",
          "01/07/21",
          "01/08/21",
          "01/11/21",
          "01/12/21",
          "01/13/21",
          "01/14/21",
          "01/15/21",
          "01/19/21",
          "01/20/21",
          "01/21/21",
          "01/22/21",
          "01/25/21",
          "01/26/21",
          "01/27/21",
          "01/28/21",
          "01/29/21",
          "02/01/21",
          "02/02/21",
          "02/03/21",
          "02/04/21",
          "02/05/21",
          "02/08/21",
          "02/09/21",
          "02/10/21",
          "02/11/21",
          "02/12/21",
          "02/16/21",
          "02/17/21",
          "02/18/21",
          "02/19/21",
          "02/22/21",
          "02/23/21",
          "02/24/21",
          "02/25/21",
          "02/26/21",
          "03/01/21",
          "03/02/21",
          "03/03/21",
          "03/04/21",
          "03/05/21",
          "03/08/21",
          "03/09/21",
          "03/10/21",
          "03/11/21",
          "03/12/21",
          "03/15/21",
          "03/16/21",
          "03/17/21",
          "03/18/21",
          "03/19/21",
          "03/22/21",
          "03/23/21",
          "03/24/21",
          "03/25/21",
          "03/26/21"
         ],
         "xaxis": "x",
         "y": [
          0.032258064516129004,
          0.08333333333333348,
          0.03846153846153855,
          0.04629629629629606,
          0.017699115044247815,
          0,
          -0.04347826086956508,
          0.04545454545454519,
          -0.03478260869565197,
          -0.009009009009009028,
          0,
          0.0181818181818183,
          -0.017857142857142905,
          -0.045454545454545525,
          0,
          -0.00952380952380949,
          0.028846153846153966,
          0.03738317757009346,
          -0.018018018018018056,
          0.02752293577981657,
          0.02678571428571419,
          0,
          0.034782608695652195,
          0,
          -0.008403361344537785,
          -0.025423728813559365,
          0.008695652173912993,
          0.034482758620689724,
          0.08333333333333348,
          -0.007692307692307665,
          0,
          0.03875968992248069,
          0.02238805970149249,
          0,
          0.007299270072992581,
          0.11594202898550732,
          -0.06493506493506496,
          0.00694444444444442,
          -0.020689655172413834,
          0.035211267605633756,
          0.04761904761904767,
          0.012987012987013102,
          0.019230769230769162,
          -0.02515723270440251,
          -0.012903225806451646,
          0.006535947712418277,
          0.06493506493506485,
          -0.012195121951219412,
          0,
          0.006172839506172645,
          0.04907975460122693,
          0.01754385964912286,
          -0.028735632183908066,
          -0.03550295857988173,
          -0.006134969325153228,
          0.006172839506172645,
          0.024539877300613577
         ],
         "yaxis": "y"
        },
        {
         "hovertemplate": "variable=20 yr<br>Date=%{x}<br>value=%{y}<extra></extra>",
         "legendgroup": "20 yr",
         "line": {
          "color": "#636efa",
          "dash": "solid"
         },
         "mode": "lines",
         "name": "20 yr",
         "orientation": "v",
         "showlegend": true,
         "type": "scatter",
         "x": [
          "01/05/21",
          "01/06/21",
          "01/07/21",
          "01/08/21",
          "01/11/21",
          "01/12/21",
          "01/13/21",
          "01/14/21",
          "01/15/21",
          "01/19/21",
          "01/20/21",
          "01/21/21",
          "01/22/21",
          "01/25/21",
          "01/26/21",
          "01/27/21",
          "01/28/21",
          "01/29/21",
          "02/01/21",
          "02/02/21",
          "02/03/21",
          "02/04/21",
          "02/05/21",
          "02/08/21",
          "02/09/21",
          "02/10/21",
          "02/11/21",
          "02/12/21",
          "02/16/21",
          "02/17/21",
          "02/18/21",
          "02/19/21",
          "02/22/21",
          "02/23/21",
          "02/24/21",
          "02/25/21",
          "02/26/21",
          "03/01/21",
          "03/02/21",
          "03/03/21",
          "03/04/21",
          "03/05/21",
          "03/08/21",
          "03/09/21",
          "03/10/21",
          "03/11/21",
          "03/12/21",
          "03/15/21",
          "03/16/21",
          "03/17/21",
          "03/18/21",
          "03/19/21",
          "03/22/21",
          "03/23/21",
          "03/24/21",
          "03/25/21",
          "03/26/21"
         ],
         "xaxis": "x",
         "y": [
          0.020547945205479534,
          0.0738255033557047,
          0.02499999999999991,
          0.018292682926829285,
          0.0059880239520957446,
          0,
          -0.029761904761904767,
          0.036809815950920255,
          -0.017751479289940808,
          -0.0060240963855421326,
          0,
          0.0181818181818183,
          -0.011904761904761862,
          -0.030120481927710774,
          0,
          -0.006211180124223614,
          0.018749999999999822,
          0.030674846625766916,
          -0.011904761904761862,
          0.01807228915662651,
          0.02366863905325456,
          0.011560693641618602,
          0.02285714285714291,
          -0.005586592178770999,
          0,
          -0.016853932584269704,
          0.011428571428571344,
          0.033898305084745894,
          0.04918032786885229,
          0,
          -0.00520833333333337,
          0.03664921465968596,
          0.02020202020202011,
          0.004950495049504955,
          0.019704433497536922,
          0.0869565217391306,
          -0.07555555555555549,
          0.014423076923076872,
          -0.009478672985781977,
          0.014354066985646119,
          0.028301886792452935,
          0,
          0.00917431192660545,
          -0.018181818181818188,
          -0.004629629629629761,
          0.013953488372093092,
          0.059633027522935755,
          -0.017316017316017285,
          0.013215859030836885,
          0.008695652173912993,
          0.01724137931034475,
          0,
          -0.029661016949152463,
          -0.02183406113537112,
          -0.013392857142857206,
          0.013574660633484337,
          0.013392857142856984
         ],
         "yaxis": "y"
        },
        {
         "hovertemplate": "variable=30 yr<br>Date=%{x}<br>value=%{y}<extra></extra>",
         "legendgroup": "30 yr",
         "line": {
          "color": "#EF553B",
          "dash": "solid"
         },
         "mode": "lines",
         "name": "30 yr",
         "orientation": "v",
         "showlegend": true,
         "type": "scatter",
         "x": [
          "01/05/21",
          "01/06/21",
          "01/07/21",
          "01/08/21",
          "01/11/21",
          "01/12/21",
          "01/13/21",
          "01/14/21",
          "01/15/21",
          "01/19/21",
          "01/20/21",
          "01/21/21",
          "01/22/21",
          "01/25/21",
          "01/26/21",
          "01/27/21",
          "01/28/21",
          "01/29/21",
          "02/01/21",
          "02/02/21",
          "02/03/21",
          "02/04/21",
          "02/05/21",
          "02/08/21",
          "02/09/21",
          "02/10/21",
          "02/11/21",
          "02/12/21",
          "02/16/21",
          "02/17/21",
          "02/18/21",
          "02/19/21",
          "02/22/21",
          "02/23/21",
          "02/24/21",
          "02/25/21",
          "02/26/21",
          "03/01/21",
          "03/02/21",
          "03/03/21",
          "03/04/21",
          "03/05/21",
          "03/08/21",
          "03/09/21",
          "03/10/21",
          "03/11/21",
          "03/12/21",
          "03/15/21",
          "03/16/21",
          "03/17/21",
          "03/18/21",
          "03/19/21",
          "03/22/21",
          "03/23/21",
          "03/24/21",
          "03/25/21",
          "03/26/21"
         ],
         "xaxis": "x",
         "y": [
          0.024096385542168752,
          0.06470588235294117,
          0.022099447513812098,
          0.010810810810810922,
          0.0053475935828875,
          0,
          -0.031914893617021156,
          0.03296703296703285,
          -0.015957446808510523,
          -0.005405405405405461,
          0,
          0.016304347826086918,
          -0.010695187165775444,
          -0.027027027027027084,
          0,
          -0.005555555555555536,
          0.011173184357541999,
          0.03314917127071837,
          -0.016042780748663166,
          0.016304347826086918,
          0.026737967914438387,
          0.005208333333333259,
          0.020725388601036343,
          -0.005076142131979711,
          -0.005102040816326481,
          -0.015384615384615441,
          0.01041666666666674,
          0.036082474226803996,
          0.034825870646766344,
          -0.009615384615384581,
          0.009708737864077666,
          0.028846153846153966,
          0.023364485981308247,
          0.009132420091324311,
          0.013574660633484337,
          0.0401785714285714,
          -0.06866952789699576,
          0.02764976958525356,
          -0.008968609865470878,
          0.018099547511312153,
          0.022222222222222143,
          -0.008695652173913104,
          0.013157894736842257,
          -0.0216450216450218,
          -0.008849557522123686,
          0.02232142857142838,
          0.048034934497816595,
          -0.012499999999999956,
          0.00421940928270037,
          0.01680672268907557,
          0.012396694214876103,
          0,
          -0.028571428571428692,
          -0.01680672268907568,
          -0.012820512820512775,
          0.01298701298701288,
          0.012820512820512997
         ],
         "yaxis": "y"
        }
       ],
       "layout": {
        "legend": {
         "title": {
          "text": "variable"
         },
         "tracegroupgap": 0
        },
        "template": {
         "data": {
          "bar": [
           {
            "error_x": {
             "color": "#2a3f5f"
            },
            "error_y": {
             "color": "#2a3f5f"
            },
            "marker": {
             "line": {
              "color": "#E5ECF6",
              "width": 0.5
             }
            },
            "type": "bar"
           }
          ],
          "barpolar": [
           {
            "marker": {
             "line": {
              "color": "#E5ECF6",
              "width": 0.5
             }
            },
            "type": "barpolar"
           }
          ],
          "carpet": [
           {
            "aaxis": {
             "endlinecolor": "#2a3f5f",
             "gridcolor": "white",
             "linecolor": "white",
             "minorgridcolor": "white",
             "startlinecolor": "#2a3f5f"
            },
            "baxis": {
             "endlinecolor": "#2a3f5f",
             "gridcolor": "white",
             "linecolor": "white",
             "minorgridcolor": "white",
             "startlinecolor": "#2a3f5f"
            },
            "type": "carpet"
           }
          ],
          "choropleth": [
           {
            "colorbar": {
             "outlinewidth": 0,
             "ticks": ""
            },
            "type": "choropleth"
           }
          ],
          "contour": [
           {
            "colorbar": {
             "outlinewidth": 0,
             "ticks": ""
            },
            "colorscale": [
             [
              0,
              "#0d0887"
             ],
             [
              0.1111111111111111,
              "#46039f"
             ],
             [
              0.2222222222222222,
              "#7201a8"
             ],
             [
              0.3333333333333333,
              "#9c179e"
             ],
             [
              0.4444444444444444,
              "#bd3786"
             ],
             [
              0.5555555555555556,
              "#d8576b"
             ],
             [
              0.6666666666666666,
              "#ed7953"
             ],
             [
              0.7777777777777778,
              "#fb9f3a"
             ],
             [
              0.8888888888888888,
              "#fdca26"
             ],
             [
              1,
              "#f0f921"
             ]
            ],
            "type": "contour"
           }
          ],
          "contourcarpet": [
           {
            "colorbar": {
             "outlinewidth": 0,
             "ticks": ""
            },
            "type": "contourcarpet"
           }
          ],
          "heatmap": [
           {
            "colorbar": {
             "outlinewidth": 0,
             "ticks": ""
            },
            "colorscale": [
             [
              0,
              "#0d0887"
             ],
             [
              0.1111111111111111,
              "#46039f"
             ],
             [
              0.2222222222222222,
              "#7201a8"
             ],
             [
              0.3333333333333333,
              "#9c179e"
             ],
             [
              0.4444444444444444,
              "#bd3786"
             ],
             [
              0.5555555555555556,
              "#d8576b"
             ],
             [
              0.6666666666666666,
              "#ed7953"
             ],
             [
              0.7777777777777778,
              "#fb9f3a"
             ],
             [
              0.8888888888888888,
              "#fdca26"
             ],
             [
              1,
              "#f0f921"
             ]
            ],
            "type": "heatmap"
           }
          ],
          "heatmapgl": [
           {
            "colorbar": {
             "outlinewidth": 0,
             "ticks": ""
            },
            "colorscale": [
             [
              0,
              "#0d0887"
             ],
             [
              0.1111111111111111,
              "#46039f"
             ],
             [
              0.2222222222222222,
              "#7201a8"
             ],
             [
              0.3333333333333333,
              "#9c179e"
             ],
             [
              0.4444444444444444,
              "#bd3786"
             ],
             [
              0.5555555555555556,
              "#d8576b"
             ],
             [
              0.6666666666666666,
              "#ed7953"
             ],
             [
              0.7777777777777778,
              "#fb9f3a"
             ],
             [
              0.8888888888888888,
              "#fdca26"
             ],
             [
              1,
              "#f0f921"
             ]
            ],
            "type": "heatmapgl"
           }
          ],
          "histogram": [
           {
            "marker": {
             "colorbar": {
              "outlinewidth": 0,
              "ticks": ""
             }
            },
            "type": "histogram"
           }
          ],
          "histogram2d": [
           {
            "colorbar": {
             "outlinewidth": 0,
             "ticks": ""
            },
            "colorscale": [
             [
              0,
              "#0d0887"
             ],
             [
              0.1111111111111111,
              "#46039f"
             ],
             [
              0.2222222222222222,
              "#7201a8"
             ],
             [
              0.3333333333333333,
              "#9c179e"
             ],
             [
              0.4444444444444444,
              "#bd3786"
             ],
             [
              0.5555555555555556,
              "#d8576b"
             ],
             [
              0.6666666666666666,
              "#ed7953"
             ],
             [
              0.7777777777777778,
              "#fb9f3a"
             ],
             [
              0.8888888888888888,
              "#fdca26"
             ],
             [
              1,
              "#f0f921"
             ]
            ],
            "type": "histogram2d"
           }
          ],
          "histogram2dcontour": [
           {
            "colorbar": {
             "outlinewidth": 0,
             "ticks": ""
            },
            "colorscale": [
             [
              0,
              "#0d0887"
             ],
             [
              0.1111111111111111,
              "#46039f"
             ],
             [
              0.2222222222222222,
              "#7201a8"
             ],
             [
              0.3333333333333333,
              "#9c179e"
             ],
             [
              0.4444444444444444,
              "#bd3786"
             ],
             [
              0.5555555555555556,
              "#d8576b"
             ],
             [
              0.6666666666666666,
              "#ed7953"
             ],
             [
              0.7777777777777778,
              "#fb9f3a"
             ],
             [
              0.8888888888888888,
              "#fdca26"
             ],
             [
              1,
              "#f0f921"
             ]
            ],
            "type": "histogram2dcontour"
           }
          ],
          "mesh3d": [
           {
            "colorbar": {
             "outlinewidth": 0,
             "ticks": ""
            },
            "type": "mesh3d"
           }
          ],
          "parcoords": [
           {
            "line": {
             "colorbar": {
              "outlinewidth": 0,
              "ticks": ""
             }
            },
            "type": "parcoords"
           }
          ],
          "pie": [
           {
            "automargin": true,
            "type": "pie"
           }
          ],
          "scatter": [
           {
            "marker": {
             "colorbar": {
              "outlinewidth": 0,
              "ticks": ""
             }
            },
            "type": "scatter"
           }
          ],
          "scatter3d": [
           {
            "line": {
             "colorbar": {
              "outlinewidth": 0,
              "ticks": ""
             }
            },
            "marker": {
             "colorbar": {
              "outlinewidth": 0,
              "ticks": ""
             }
            },
            "type": "scatter3d"
           }
          ],
          "scattercarpet": [
           {
            "marker": {
             "colorbar": {
              "outlinewidth": 0,
              "ticks": ""
             }
            },
            "type": "scattercarpet"
           }
          ],
          "scattergeo": [
           {
            "marker": {
             "colorbar": {
              "outlinewidth": 0,
              "ticks": ""
             }
            },
            "type": "scattergeo"
           }
          ],
          "scattergl": [
           {
            "marker": {
             "colorbar": {
              "outlinewidth": 0,
              "ticks": ""
             }
            },
            "type": "scattergl"
           }
          ],
          "scattermapbox": [
           {
            "marker": {
             "colorbar": {
              "outlinewidth": 0,
              "ticks": ""
             }
            },
            "type": "scattermapbox"
           }
          ],
          "scatterpolar": [
           {
            "marker": {
             "colorbar": {
              "outlinewidth": 0,
              "ticks": ""
             }
            },
            "type": "scatterpolar"
           }
          ],
          "scatterpolargl": [
           {
            "marker": {
             "colorbar": {
              "outlinewidth": 0,
              "ticks": ""
             }
            },
            "type": "scatterpolargl"
           }
          ],
          "scatterternary": [
           {
            "marker": {
             "colorbar": {
              "outlinewidth": 0,
              "ticks": ""
             }
            },
            "type": "scatterternary"
           }
          ],
          "surface": [
           {
            "colorbar": {
             "outlinewidth": 0,
             "ticks": ""
            },
            "colorscale": [
             [
              0,
              "#0d0887"
             ],
             [
              0.1111111111111111,
              "#46039f"
             ],
             [
              0.2222222222222222,
              "#7201a8"
             ],
             [
              0.3333333333333333,
              "#9c179e"
             ],
             [
              0.4444444444444444,
              "#bd3786"
             ],
             [
              0.5555555555555556,
              "#d8576b"
             ],
             [
              0.6666666666666666,
              "#ed7953"
             ],
             [
              0.7777777777777778,
              "#fb9f3a"
             ],
             [
              0.8888888888888888,
              "#fdca26"
             ],
             [
              1,
              "#f0f921"
             ]
            ],
            "type": "surface"
           }
          ],
          "table": [
           {
            "cells": {
             "fill": {
              "color": "#EBF0F8"
             },
             "line": {
              "color": "white"
             }
            },
            "header": {
             "fill": {
              "color": "#C8D4E3"
             },
             "line": {
              "color": "white"
             }
            },
            "type": "table"
           }
          ]
         },
         "layout": {
          "annotationdefaults": {
           "arrowcolor": "#2a3f5f",
           "arrowhead": 0,
           "arrowwidth": 1
          },
          "coloraxis": {
           "colorbar": {
            "outlinewidth": 0,
            "ticks": ""
           }
          },
          "colorscale": {
           "diverging": [
            [
             0,
             "#8e0152"
            ],
            [
             0.1,
             "#c51b7d"
            ],
            [
             0.2,
             "#de77ae"
            ],
            [
             0.3,
             "#f1b6da"
            ],
            [
             0.4,
             "#fde0ef"
            ],
            [
             0.5,
             "#f7f7f7"
            ],
            [
             0.6,
             "#e6f5d0"
            ],
            [
             0.7,
             "#b8e186"
            ],
            [
             0.8,
             "#7fbc41"
            ],
            [
             0.9,
             "#4d9221"
            ],
            [
             1,
             "#276419"
            ]
           ],
           "sequential": [
            [
             0,
             "#0d0887"
            ],
            [
             0.1111111111111111,
             "#46039f"
            ],
            [
             0.2222222222222222,
             "#7201a8"
            ],
            [
             0.3333333333333333,
             "#9c179e"
            ],
            [
             0.4444444444444444,
             "#bd3786"
            ],
            [
             0.5555555555555556,
             "#d8576b"
            ],
            [
             0.6666666666666666,
             "#ed7953"
            ],
            [
             0.7777777777777778,
             "#fb9f3a"
            ],
            [
             0.8888888888888888,
             "#fdca26"
            ],
            [
             1,
             "#f0f921"
            ]
           ],
           "sequentialminus": [
            [
             0,
             "#0d0887"
            ],
            [
             0.1111111111111111,
             "#46039f"
            ],
            [
             0.2222222222222222,
             "#7201a8"
            ],
            [
             0.3333333333333333,
             "#9c179e"
            ],
            [
             0.4444444444444444,
             "#bd3786"
            ],
            [
             0.5555555555555556,
             "#d8576b"
            ],
            [
             0.6666666666666666,
             "#ed7953"
            ],
            [
             0.7777777777777778,
             "#fb9f3a"
            ],
            [
             0.8888888888888888,
             "#fdca26"
            ],
            [
             1,
             "#f0f921"
            ]
           ]
          },
          "colorway": [
           "#636efa",
           "#EF553B",
           "#00cc96",
           "#ab63fa",
           "#FFA15A",
           "#19d3f3",
           "#FF6692",
           "#B6E880",
           "#FF97FF",
           "#FECB52"
          ],
          "font": {
           "color": "#2a3f5f"
          },
          "geo": {
           "bgcolor": "white",
           "lakecolor": "white",
           "landcolor": "#E5ECF6",
           "showlakes": true,
           "showland": true,
           "subunitcolor": "white"
          },
          "hoverlabel": {
           "align": "left"
          },
          "hovermode": "closest",
          "mapbox": {
           "style": "light"
          },
          "paper_bgcolor": "white",
          "plot_bgcolor": "#E5ECF6",
          "polar": {
           "angularaxis": {
            "gridcolor": "white",
            "linecolor": "white",
            "ticks": ""
           },
           "bgcolor": "#E5ECF6",
           "radialaxis": {
            "gridcolor": "white",
            "linecolor": "white",
            "ticks": ""
           }
          },
          "scene": {
           "xaxis": {
            "backgroundcolor": "#E5ECF6",
            "gridcolor": "white",
            "gridwidth": 2,
            "linecolor": "white",
            "showbackground": true,
            "ticks": "",
            "zerolinecolor": "white"
           },
           "yaxis": {
            "backgroundcolor": "#E5ECF6",
            "gridcolor": "white",
            "gridwidth": 2,
            "linecolor": "white",
            "showbackground": true,
            "ticks": "",
            "zerolinecolor": "white"
           },
           "zaxis": {
            "backgroundcolor": "#E5ECF6",
            "gridcolor": "white",
            "gridwidth": 2,
            "linecolor": "white",
            "showbackground": true,
            "ticks": "",
            "zerolinecolor": "white"
           }
          },
          "shapedefaults": {
           "line": {
            "color": "#2a3f5f"
           }
          },
          "ternary": {
           "aaxis": {
            "gridcolor": "white",
            "linecolor": "white",
            "ticks": ""
           },
           "baxis": {
            "gridcolor": "white",
            "linecolor": "white",
            "ticks": ""
           },
           "bgcolor": "#E5ECF6",
           "caxis": {
            "gridcolor": "white",
            "linecolor": "white",
            "ticks": ""
           }
          },
          "title": {
           "x": 0.05
          },
          "xaxis": {
           "automargin": true,
           "gridcolor": "white",
           "linecolor": "white",
           "ticks": "",
           "title": {
            "standoff": 15
           },
           "zerolinecolor": "white",
           "zerolinewidth": 2
          },
          "yaxis": {
           "automargin": true,
           "gridcolor": "white",
           "linecolor": "white",
           "ticks": "",
           "title": {
            "standoff": 15
           },
           "zerolinecolor": "white",
           "zerolinewidth": 2
          }
         }
        },
        "title": {
         "text": "Rates"
        },
        "xaxis": {
         "anchor": "y",
         "domain": [
          0,
          1
         ],
         "title": {
          "text": "Date"
         }
        },
        "yaxis": {
         "anchor": "x",
         "domain": [
          0,
          1
         ],
         "title": {
          "text": "value"
         }
        }
       }
      },
      "text/html": [
       "<div>                            <div id=\"5ebfa861-ba57-4106-928a-acf01e40b1ef\" class=\"plotly-graph-div\" style=\"height:525px; width:100%;\"></div>            <script type=\"text/javascript\">                require([\"plotly\"], function(Plotly) {                    window.PLOTLYENV=window.PLOTLYENV || {};                                    if (document.getElementById(\"5ebfa861-ba57-4106-928a-acf01e40b1ef\")) {                    Plotly.newPlot(                        \"5ebfa861-ba57-4106-928a-acf01e40b1ef\",                        [{\"hovertemplate\": \"variable=1 mo<br>Date=%{x}<br>value=%{y}<extra></extra>\", \"legendgroup\": \"1 mo\", \"line\": {\"color\": \"#636efa\", \"dash\": \"solid\"}, \"mode\": \"lines\", \"name\": \"1 mo\", \"orientation\": \"v\", \"showlegend\": true, \"type\": \"scatter\", \"x\": [\"01/05/21\", \"01/06/21\", \"01/07/21\", \"01/08/21\", \"01/11/21\", \"01/12/21\", \"01/13/21\", \"01/14/21\", \"01/15/21\", \"01/19/21\", \"01/20/21\", \"01/21/21\", \"01/22/21\", \"01/25/21\", \"01/26/21\", \"01/27/21\", \"01/28/21\", \"01/29/21\", \"02/01/21\", \"02/02/21\", \"02/03/21\", \"02/04/21\", \"02/05/21\", \"02/08/21\", \"02/09/21\", \"02/10/21\", \"02/11/21\", \"02/12/21\", \"02/16/21\", \"02/17/21\", \"02/18/21\", \"02/19/21\", \"02/22/21\", \"02/23/21\", \"02/24/21\", \"02/25/21\", \"02/26/21\", \"03/01/21\", \"03/02/21\", \"03/03/21\", \"03/04/21\", \"03/05/21\", \"03/08/21\", \"03/09/21\", \"03/10/21\", \"03/11/21\", \"03/12/21\", \"03/15/21\", \"03/16/21\", \"03/17/21\", \"03/18/21\", \"03/19/21\", \"03/22/21\", \"03/23/21\", \"03/24/21\", \"03/25/21\", \"03/26/21\"], \"xaxis\": \"x\", \"y\": [-0.11111111111111105, 0.125, 0.0, -0.11111111111111105, 0.125, 0.0, 0.0, 0.0, -0.11111111111111105, -0.12499999999999989, 0.1428571428571428, -0.12499999999999989, 0.0, 0.0, -0.2857142857142857, 0.0, 0.0, 0.40000000000000013, -0.14285714285714302, -0.33333333333333326, -0.25, 0.0, -0.33333333333333326, 1.0, 0.0, 0.25, 0.0, -0.4, 0.0, 0.0, 0.0, 0.0, 0.0, 0.0, 0.0, 0.3333333333333335, 0.0, -0.25, 0.3333333333333335, 0.0, -0.25, 0.3333333333333335, 0.0, 0.0, -0.25, 0.3333333333333335, -0.25, -0.33333333333333326, -0.5, 0.0, 0.0, 0.0, 1.0, 0.0, 0.0, 0.0, 0.0], \"yaxis\": \"y\"}, {\"hovertemplate\": \"variable=2 mo<br>Date=%{x}<br>value=%{y}<extra></extra>\", \"legendgroup\": \"2 mo\", \"line\": {\"color\": \"#EF553B\", \"dash\": \"solid\"}, \"mode\": \"lines\", \"name\": \"2 mo\", \"orientation\": \"v\", \"showlegend\": true, \"type\": \"scatter\", \"x\": [\"01/05/21\", \"01/06/21\", \"01/07/21\", \"01/08/21\", \"01/11/21\", \"01/12/21\", \"01/13/21\", \"01/14/21\", \"01/15/21\", \"01/19/21\", \"01/20/21\", \"01/21/21\", \"01/22/21\", \"01/25/21\", \"01/26/21\", \"01/27/21\", \"01/28/21\", \"01/29/21\", \"02/01/21\", \"02/02/21\", \"02/03/21\", \"02/04/21\", \"02/05/21\", \"02/08/21\", \"02/09/21\", \"02/10/21\", \"02/11/21\", \"02/12/21\", \"02/16/21\", \"02/17/21\", \"02/18/21\", \"02/19/21\", \"02/22/21\", \"02/23/21\", \"02/24/21\", \"02/25/21\", \"02/26/21\", \"03/01/21\", \"03/02/21\", \"03/03/21\", \"03/04/21\", \"03/05/21\", \"03/08/21\", \"03/09/21\", \"03/10/21\", \"03/11/21\", \"03/12/21\", \"03/15/21\", \"03/16/21\", \"03/17/21\", \"03/18/21\", \"03/19/21\", \"03/22/21\", \"03/23/21\", \"03/24/21\", \"03/25/21\", \"03/26/21\"], \"xaxis\": \"x\", \"y\": [0.0, 0.0, 0.0, -0.11111111111111105, 0.0, 0.0, 0.0, 0.125, 0.0, 0.0, -0.11111111111111105, 0.125, -0.11111111111111105, 0.0, -0.12499999999999989, -0.14285714285714302, 0.0, 0.16666666666666674, 0.0, -0.2857142857142857, -0.20000000000000007, 0.0, -0.25, 0.0, 0.3333333333333335, 0.0, 0.25, -0.20000000000000007, 0.0, 0.0, -0.25, 0.0, -0.33333333333333326, 0.0, 0.5, 0.0, 0.3333333333333335, -0.25, 0.3333333333333335, 0.0, 0.25, -0.20000000000000007, 0.0, 0.0, -0.25, 0.3333333333333335, -0.25, -0.33333333333333326, 0.0, 0.0, -0.5, 0.0, 1.0, 0.0, 0.0, 0.5, -0.33333333333333326], \"yaxis\": \"y\"}, {\"hovertemplate\": \"variable=3 mo<br>Date=%{x}<br>value=%{y}<extra></extra>\", \"legendgroup\": \"3 mo\", \"line\": {\"color\": \"#00cc96\", \"dash\": \"solid\"}, \"mode\": \"lines\", \"name\": \"3 mo\", \"orientation\": \"v\", \"showlegend\": true, \"type\": \"scatter\", \"x\": [\"01/05/21\", \"01/06/21\", \"01/07/21\", \"01/08/21\", \"01/11/21\", \"01/12/21\", \"01/13/21\", \"01/14/21\", \"01/15/21\", \"01/19/21\", \"01/20/21\", \"01/21/21\", \"01/22/21\", \"01/25/21\", \"01/26/21\", \"01/27/21\", \"01/28/21\", \"01/29/21\", \"02/01/21\", \"02/02/21\", \"02/03/21\", \"02/04/21\", \"02/05/21\", \"02/08/21\", \"02/09/21\", \"02/10/21\", \"02/11/21\", \"02/12/21\", \"02/16/21\", \"02/17/21\", \"02/18/21\", \"02/19/21\", \"02/22/21\", \"02/23/21\", \"02/24/21\", \"02/25/21\", \"02/26/21\", \"03/01/21\", \"03/02/21\", \"03/03/21\", \"03/04/21\", \"03/05/21\", \"03/08/21\", \"03/09/21\", \"03/10/21\", \"03/11/21\", \"03/12/21\", \"03/15/21\", \"03/16/21\", \"03/17/21\", \"03/18/21\", \"03/19/21\", \"03/22/21\", \"03/23/21\", \"03/24/21\", \"03/25/21\", \"03/26/21\"], \"xaxis\": \"x\", \"y\": [0.0, 0.0, 0.0, -0.11111111111111105, 0.0, 0.125, 0.0, 0.0, 0.0, 0.0, -0.11111111111111105, 0.125, -0.11111111111111105, 0.125, -0.2222222222222221, 0.1428571428571428, -0.12499999999999989, -0.14285714285714302, 0.16666666666666674, 0.0, -0.4285714285714286, 0.0, -0.25, 0.6666666666666667, -0.20000000000000007, 0.25, 0.0, -0.20000000000000007, 0.0, 0.0, -0.25, 0.3333333333333335, -0.25, 0.3333333333333335, -0.25, 0.3333333333333335, 0.0, 0.25, -0.20000000000000007, 0.25, -0.20000000000000007, 0.0, 0.25, 0.0, -0.20000000000000007, 0.0, 0.0, 0.0, -0.5, 0.0, -0.5, 0.0, 2.0, -0.6666666666666666, 1.0, 0.0, 0.0], \"yaxis\": \"y\"}, {\"hovertemplate\": \"variable=6 mo<br>Date=%{x}<br>value=%{y}<extra></extra>\", \"legendgroup\": \"6 mo\", \"line\": {\"color\": \"#ab63fa\", \"dash\": \"solid\"}, \"mode\": \"lines\", \"name\": \"6 mo\", \"orientation\": \"v\", \"showlegend\": true, \"type\": \"scatter\", \"x\": [\"01/05/21\", \"01/06/21\", \"01/07/21\", \"01/08/21\", \"01/11/21\", \"01/12/21\", \"01/13/21\", \"01/14/21\", \"01/15/21\", \"01/19/21\", \"01/20/21\", \"01/21/21\", \"01/22/21\", \"01/25/21\", \"01/26/21\", \"01/27/21\", \"01/28/21\", \"01/29/21\", \"02/01/21\", \"02/02/21\", \"02/03/21\", \"02/04/21\", \"02/05/21\", \"02/08/21\", \"02/09/21\", \"02/10/21\", \"02/11/21\", \"02/12/21\", \"02/16/21\", \"02/17/21\", \"02/18/21\", \"02/19/21\", \"02/22/21\", \"02/23/21\", \"02/24/21\", \"02/25/21\", \"02/26/21\", \"03/01/21\", \"03/02/21\", \"03/03/21\", \"03/04/21\", \"03/05/21\", \"03/08/21\", \"03/09/21\", \"03/10/21\", \"03/11/21\", \"03/12/21\", \"03/15/21\", \"03/16/21\", \"03/17/21\", \"03/18/21\", \"03/19/21\", \"03/22/21\", \"03/23/21\", \"03/24/21\", \"03/25/21\", \"03/26/21\"], \"xaxis\": \"x\", \"y\": [0.0, 0.0, 0.0, 0.0, 0.11111111111111116, -0.10000000000000009, 0.11111111111111116, -0.10000000000000009, 0.11111111111111116, 0.09999999999999987, -0.09090909090909083, -0.10000000000000009, 0.11111111111111116, -0.10000000000000009, 0.0, 0.0, -0.11111111111111105, -0.12499999999999989, 0.1428571428571428, 0.0, -0.25, 0.0, -0.16666666666666663, 0.0, 0.19999999999999996, 0.0, 0.0, -0.16666666666666663, 0.19999999999999996, 0.0, -0.33333333333333326, 0.5, -0.33333333333333326, 0.25, 0.0, 0.19999999999999996, -0.16666666666666663, 0.40000000000000013, -0.14285714285714302, 0.16666666666666674, 0.0, 0.0, -0.14285714285714302, 0.16666666666666674, -0.14285714285714302, -0.16666666666666663, 0.19999999999999996, 0.0, 0.0, -0.16666666666666663, -0.4, 0.0, 0.6666666666666667, -0.20000000000000007, 0.0, 0.0, 0.0], \"yaxis\": \"y\"}, {\"hovertemplate\": \"variable=1 yr<br>Date=%{x}<br>value=%{y}<extra></extra>\", \"legendgroup\": \"1 yr\", \"line\": {\"color\": \"#FFA15A\", \"dash\": \"solid\"}, \"mode\": \"lines\", \"name\": \"1 yr\", \"orientation\": \"v\", \"showlegend\": true, \"type\": \"scatter\", \"x\": [\"01/05/21\", \"01/06/21\", \"01/07/21\", \"01/08/21\", \"01/11/21\", \"01/12/21\", \"01/13/21\", \"01/14/21\", \"01/15/21\", \"01/19/21\", \"01/20/21\", \"01/21/21\", \"01/22/21\", \"01/25/21\", \"01/26/21\", \"01/27/21\", \"01/28/21\", \"01/29/21\", \"02/01/21\", \"02/02/21\", \"02/03/21\", \"02/04/21\", \"02/05/21\", \"02/08/21\", \"02/09/21\", \"02/10/21\", \"02/11/21\", \"02/12/21\", \"02/16/21\", \"02/17/21\", \"02/18/21\", \"02/19/21\", \"02/22/21\", \"02/23/21\", \"02/24/21\", \"02/25/21\", \"02/26/21\", \"03/01/21\", \"03/02/21\", \"03/03/21\", \"03/04/21\", \"03/05/21\", \"03/08/21\", \"03/09/21\", \"03/10/21\", \"03/11/21\", \"03/12/21\", \"03/15/21\", \"03/16/21\", \"03/17/21\", \"03/18/21\", \"03/19/21\", \"03/22/21\", \"03/23/21\", \"03/24/21\", \"03/25/21\", \"03/26/21\"], \"xaxis\": \"x\", \"y\": [0.0, 0.09999999999999987, 0.0, -0.09090909090909083, 0.0, 0.09999999999999987, 0.09090909090909083, -0.16666666666666663, 0.0, 0.0, 0.0, 0.0, 0.0, 0.0, -0.10000000000000009, 0.0, -0.11111111111111105, 0.25, -0.20000000000000007, 0.0, 0.0, -0.12499999999999989, -0.14285714285714302, 0.16666666666666674, 0.0, 0.0, 0.0, -0.14285714285714302, 0.3333333333333335, -0.12499999999999989, -0.14285714285714302, 0.16666666666666674, -0.14285714285714302, 0.3333333333333335, 0.0, 0.125, -0.11111111111111105, 0.0, 0.0, 0.0, 0.0, 0.0, 0.125, 0.11111111111111116, -0.20000000000000007, 0.0, 0.125, -0.11111111111111105, -0.12499999999999989, 0.0, 0.1428571428571428, -0.12499999999999989, -0.14285714285714302, 0.3333333333333335, -0.12499999999999989, 0.0, -0.14285714285714302], \"yaxis\": \"y\"}, {\"hovertemplate\": \"variable=2 yr<br>Date=%{x}<br>value=%{y}<extra></extra>\", \"legendgroup\": \"2 yr\", \"line\": {\"color\": \"#19d3f3\", \"dash\": \"solid\"}, \"mode\": \"lines\", \"name\": \"2 yr\", \"orientation\": \"v\", \"showlegend\": true, \"type\": \"scatter\", \"x\": [\"01/05/21\", \"01/06/21\", \"01/07/21\", \"01/08/21\", \"01/11/21\", \"01/12/21\", \"01/13/21\", \"01/14/21\", \"01/15/21\", \"01/19/21\", \"01/20/21\", \"01/21/21\", \"01/22/21\", \"01/25/21\", \"01/26/21\", \"01/27/21\", \"01/28/21\", \"01/29/21\", \"02/01/21\", \"02/02/21\", \"02/03/21\", \"02/04/21\", \"02/05/21\", \"02/08/21\", \"02/09/21\", \"02/10/21\", \"02/11/21\", \"02/12/21\", \"02/16/21\", \"02/17/21\", \"02/18/21\", \"02/19/21\", \"02/22/21\", \"02/23/21\", \"02/24/21\", \"02/25/21\", \"02/26/21\", \"03/01/21\", \"03/02/21\", \"03/03/21\", \"03/04/21\", \"03/05/21\", \"03/08/21\", \"03/09/21\", \"03/10/21\", \"03/11/21\", \"03/12/21\", \"03/15/21\", \"03/16/21\", \"03/17/21\", \"03/18/21\", \"03/19/21\", \"03/22/21\", \"03/23/21\", \"03/24/21\", \"03/25/21\", \"03/26/21\"], \"xaxis\": \"x\", \"y\": [0.18181818181818188, 0.0769230769230771, 0.0, 0.0, 0.0, 0.0, 0.0, 0.1428571428571428, -0.1875, 0.0769230769230771, -0.07142857142857151, 0.0, 0.0, 0.0, -0.15384615384615385, 0.09090909090909083, 0.0, -0.08333333333333326, 0.0, 0.0, 0.0, 0.0, -0.18181818181818188, 0.22222222222222232, 0.0, 0.0, 0.0, 0.0, 0.18181818181818188, -0.15384615384615385, 0.0, 0.0, 0.0, 0.0, 0.09090909090909083, 0.41666666666666674, -0.17647058823529405, -0.07142857142857151, 0.0, 0.0769230769230771, 0.0, 0.0, 0.2142857142857142, 0.0, -0.05882352941176472, -0.12499999999999989, 0.0, 0.0, 0.0714285714285714, -0.1333333333333333, 0.23076923076923084, 0.0, -0.0625, 0.0, -0.06666666666666654, 0.0, 0.0], \"yaxis\": \"y\"}, {\"hovertemplate\": \"variable=3 yr<br>Date=%{x}<br>value=%{y}<extra></extra>\", \"legendgroup\": \"3 yr\", \"line\": {\"color\": \"#FF6692\", \"dash\": \"solid\"}, \"mode\": \"lines\", \"name\": \"3 yr\", \"orientation\": \"v\", \"showlegend\": true, \"type\": \"scatter\", \"x\": [\"01/05/21\", \"01/06/21\", \"01/07/21\", \"01/08/21\", \"01/11/21\", \"01/12/21\", \"01/13/21\", \"01/14/21\", \"01/15/21\", \"01/19/21\", \"01/20/21\", \"01/21/21\", \"01/22/21\", \"01/25/21\", \"01/26/21\", \"01/27/21\", \"01/28/21\", \"01/29/21\", \"02/01/21\", \"02/02/21\", \"02/03/21\", \"02/04/21\", \"02/05/21\", \"02/08/21\", \"02/09/21\", \"02/10/21\", \"02/11/21\", \"02/12/21\", \"02/16/21\", \"02/17/21\", \"02/18/21\", \"02/19/21\", \"02/22/21\", \"02/23/21\", \"02/24/21\", \"02/25/21\", \"02/26/21\", \"03/01/21\", \"03/02/21\", \"03/03/21\", \"03/04/21\", \"03/05/21\", \"03/08/21\", \"03/09/21\", \"03/10/21\", \"03/11/21\", \"03/12/21\", \"03/15/21\", \"03/16/21\", \"03/17/21\", \"03/18/21\", \"03/19/21\", \"03/22/21\", \"03/23/21\", \"03/24/21\", \"03/25/21\", \"03/26/21\"], \"xaxis\": \"x\", \"y\": [0.0625, 0.17647058823529416, 0.09999999999999987, 0.09090909090909083, -0.08333333333333326, 0.045454545454545414, -0.0434782608695653, 0.045454545454545414, -0.13043478260869568, 0.04999999999999982, -0.09523809523809523, 0.0, 0.0, -0.10526315789473684, 0.0588235294117645, 0.0, 0.0, 0.05555555555555558, -0.10526315789473684, 0.0588235294117645, 0.05555555555555558, -0.052631578947368474, 0.05555555555555558, 0.05263157894736836, -0.050000000000000044, 0.0, 0.0, 0.05263157894736836, 0.1499999999999999, -0.08695652173913049, 0.0, 0.04761904761904767, 0.0, 0.0, 0.09090909090909083, 0.41666666666666674, -0.11764705882352955, -0.09999999999999987, -0.03703703703703709, 0.1153846153846152, 0.10344827586206917, 0.0, 0.0625, 0.02941176470588225, -0.08571428571428563, -0.03125, 0.09677419354838723, -0.02941176470588236, 0.0, -0.12121212121212133, 0.13793103448275867, 0.0, -0.030303030303030276, -0.03125, 0.0, -0.032258064516129115, 0.03333333333333344], \"yaxis\": \"y\"}, {\"hovertemplate\": \"variable=5 yr<br>Date=%{x}<br>value=%{y}<extra></extra>\", \"legendgroup\": \"5 yr\", \"line\": {\"color\": \"#B6E880\", \"dash\": \"solid\"}, \"mode\": \"lines\", \"name\": \"5 yr\", \"orientation\": \"v\", \"showlegend\": true, \"type\": \"scatter\", \"x\": [\"01/05/21\", \"01/06/21\", \"01/07/21\", \"01/08/21\", \"01/11/21\", \"01/12/21\", \"01/13/21\", \"01/14/21\", \"01/15/21\", \"01/19/21\", \"01/20/21\", \"01/21/21\", \"01/22/21\", \"01/25/21\", \"01/26/21\", \"01/27/21\", \"01/28/21\", \"01/29/21\", \"02/01/21\", \"02/02/21\", \"02/03/21\", \"02/04/21\", \"02/05/21\", \"02/08/21\", \"02/09/21\", \"02/10/21\", \"02/11/21\", \"02/12/21\", \"02/16/21\", \"02/17/21\", \"02/18/21\", \"02/19/21\", \"02/22/21\", \"02/23/21\", \"02/24/21\", \"02/25/21\", \"02/26/21\", \"03/01/21\", \"03/02/21\", \"03/03/21\", \"03/04/21\", \"03/05/21\", \"03/08/21\", \"03/09/21\", \"03/10/21\", \"03/11/21\", \"03/12/21\", \"03/15/21\", \"03/16/21\", \"03/17/21\", \"03/18/21\", \"03/19/21\", \"03/22/21\", \"03/23/21\", \"03/24/21\", \"03/25/21\", \"03/26/21\"], \"xaxis\": \"x\", \"y\": [0.05555555555555558, 0.13157894736842102, 0.06976744186046524, 0.06521739130434767, 0.020408163265306145, 0.0, -0.040000000000000036, 0.02083333333333326, -0.061224489795918324, -0.021739130434782594, 0.0, 0.0, -0.022222222222222254, -0.045454545454545525, 0.0, -0.023809523809523836, 0.024390243902439046, 0.0714285714285714, -0.06666666666666676, 0.0714285714285714, 0.022222222222222143, 0.0, 0.021739130434782483, 0.02127659574468077, 0.0, -0.04166666666666663, 0.0, 0.08695652173913038, 0.1399999999999999, 0.0, -0.01754385964912264, 0.05357142857142838, 0.033898305084745894, -0.032786885245901676, 0.05084745762711873, 0.306451612903226, -0.07407407407407418, -0.053333333333333344, -0.05633802816901401, 0.08955223880596996, 0.0547945205479452, 0.025974025974025983, 0.08860759493670889, -0.03488372093023262, -0.036144578313252906, -0.025000000000000022, 0.08974358974358965, -0.0117647058823529, -0.011904761904761862, -0.036144578313252906, 0.07499999999999996, 0.04651162790697683, -0.033333333333333326, -0.04597701149425293, 0.0, -0.012048192771084376, 0.03658536585365857], \"yaxis\": \"y\"}, {\"hovertemplate\": \"variable=7 yr<br>Date=%{x}<br>value=%{y}<extra></extra>\", \"legendgroup\": \"7 yr\", \"line\": {\"color\": \"#FF97FF\", \"dash\": \"solid\"}, \"mode\": \"lines\", \"name\": \"7 yr\", \"orientation\": \"v\", \"showlegend\": true, \"type\": \"scatter\", \"x\": [\"01/05/21\", \"01/06/21\", \"01/07/21\", \"01/08/21\", \"01/11/21\", \"01/12/21\", \"01/13/21\", \"01/14/21\", \"01/15/21\", \"01/19/21\", \"01/20/21\", \"01/21/21\", \"01/22/21\", \"01/25/21\", \"01/26/21\", \"01/27/21\", \"01/28/21\", \"01/29/21\", \"02/01/21\", \"02/02/21\", \"02/03/21\", \"02/04/21\", \"02/05/21\", \"02/08/21\", \"02/09/21\", \"02/10/21\", \"02/11/21\", \"02/12/21\", \"02/16/21\", \"02/17/21\", \"02/18/21\", \"02/19/21\", \"02/22/21\", \"02/23/21\", \"02/24/21\", \"02/25/21\", \"02/26/21\", \"03/01/21\", \"03/02/21\", \"03/03/21\", \"03/04/21\", \"03/05/21\", \"03/08/21\", \"03/09/21\", \"03/10/21\", \"03/11/21\", \"03/12/21\", \"03/15/21\", \"03/16/21\", \"03/17/21\", \"03/18/21\", \"03/19/21\", \"03/22/21\", \"03/23/21\", \"03/24/21\", \"03/25/21\", \"03/26/21\"], \"xaxis\": \"x\", \"y\": [0.03125, 0.1212121212121211, 0.05405405405405417, 0.03846153846153855, 0.03703703703703698, -0.011904761904761862, -0.036144578313252906, 0.02499999999999991, -0.04878048780487798, 0.0, 0.0, 0.012820512820512775, -0.025316455696202556, -0.051948051948051965, 0.013698630136986356, -0.027027027027027084, 0.04166666666666674, 0.053333333333333455, -0.03797468354430378, 0.03947368421052633, 0.025316455696202445, 0.0, 0.024691358024691246, 0.0, 0.0, -0.036144578313252906, 0.012499999999999956, 0.04938271604938271, 0.10588235294117654, 0.0, 0.0, 0.042553191489361764, 0.020408163265306145, 0.0, 0.020000000000000018, 0.2058823529411764, -0.06504065040650409, -0.02608695652173898, -0.0357142857142857, 0.05555555555555536, 0.06140350877192979, 0.016528925619834656, 0.04065040650406515, -0.0390625, -0.024390243902439046, 0.0, 0.08333333333333348, -0.015384615384615441, 0.0, -0.0078125, 0.06299212598425208, 0.022222222222222143, -0.02898550724637672, -0.03731343283582089, -0.015503875968992276, 0.015748031496062964, 0.023255813953488413], \"yaxis\": \"y\"}, {\"hovertemplate\": \"variable=10 yr<br>Date=%{x}<br>value=%{y}<extra></extra>\", \"legendgroup\": \"10 yr\", \"line\": {\"color\": \"#FECB52\", \"dash\": \"solid\"}, \"mode\": \"lines\", \"name\": \"10 yr\", \"orientation\": \"v\", \"showlegend\": true, \"type\": \"scatter\", \"x\": [\"01/05/21\", \"01/06/21\", \"01/07/21\", \"01/08/21\", \"01/11/21\", \"01/12/21\", \"01/13/21\", \"01/14/21\", \"01/15/21\", \"01/19/21\", \"01/20/21\", \"01/21/21\", \"01/22/21\", \"01/25/21\", \"01/26/21\", \"01/27/21\", \"01/28/21\", \"01/29/21\", \"02/01/21\", \"02/02/21\", \"02/03/21\", \"02/04/21\", \"02/05/21\", \"02/08/21\", \"02/09/21\", \"02/10/21\", \"02/11/21\", \"02/12/21\", \"02/16/21\", \"02/17/21\", \"02/18/21\", \"02/19/21\", \"02/22/21\", \"02/23/21\", \"02/24/21\", \"02/25/21\", \"02/26/21\", \"03/01/21\", \"03/02/21\", \"03/03/21\", \"03/04/21\", \"03/05/21\", \"03/08/21\", \"03/09/21\", \"03/10/21\", \"03/11/21\", \"03/12/21\", \"03/15/21\", \"03/16/21\", \"03/17/21\", \"03/18/21\", \"03/19/21\", \"03/22/21\", \"03/23/21\", \"03/24/21\", \"03/25/21\", \"03/26/21\"], \"xaxis\": \"x\", \"y\": [0.032258064516129004, 0.08333333333333348, 0.03846153846153855, 0.04629629629629606, 0.017699115044247815, 0.0, -0.04347826086956508, 0.04545454545454519, -0.03478260869565197, -0.009009009009009028, 0.0, 0.0181818181818183, -0.017857142857142905, -0.045454545454545525, 0.0, -0.00952380952380949, 0.028846153846153966, 0.03738317757009346, -0.018018018018018056, 0.02752293577981657, 0.02678571428571419, 0.0, 0.034782608695652195, 0.0, -0.008403361344537785, -0.025423728813559365, 0.008695652173912993, 0.034482758620689724, 0.08333333333333348, -0.007692307692307665, 0.0, 0.03875968992248069, 0.02238805970149249, 0.0, 0.007299270072992581, 0.11594202898550732, -0.06493506493506496, 0.00694444444444442, -0.020689655172413834, 0.035211267605633756, 0.04761904761904767, 0.012987012987013102, 0.019230769230769162, -0.02515723270440251, -0.012903225806451646, 0.006535947712418277, 0.06493506493506485, -0.012195121951219412, 0.0, 0.006172839506172645, 0.04907975460122693, 0.01754385964912286, -0.028735632183908066, -0.03550295857988173, -0.006134969325153228, 0.006172839506172645, 0.024539877300613577], \"yaxis\": \"y\"}, {\"hovertemplate\": \"variable=20 yr<br>Date=%{x}<br>value=%{y}<extra></extra>\", \"legendgroup\": \"20 yr\", \"line\": {\"color\": \"#636efa\", \"dash\": \"solid\"}, \"mode\": \"lines\", \"name\": \"20 yr\", \"orientation\": \"v\", \"showlegend\": true, \"type\": \"scatter\", \"x\": [\"01/05/21\", \"01/06/21\", \"01/07/21\", \"01/08/21\", \"01/11/21\", \"01/12/21\", \"01/13/21\", \"01/14/21\", \"01/15/21\", \"01/19/21\", \"01/20/21\", \"01/21/21\", \"01/22/21\", \"01/25/21\", \"01/26/21\", \"01/27/21\", \"01/28/21\", \"01/29/21\", \"02/01/21\", \"02/02/21\", \"02/03/21\", \"02/04/21\", \"02/05/21\", \"02/08/21\", \"02/09/21\", \"02/10/21\", \"02/11/21\", \"02/12/21\", \"02/16/21\", \"02/17/21\", \"02/18/21\", \"02/19/21\", \"02/22/21\", \"02/23/21\", \"02/24/21\", \"02/25/21\", \"02/26/21\", \"03/01/21\", \"03/02/21\", \"03/03/21\", \"03/04/21\", \"03/05/21\", \"03/08/21\", \"03/09/21\", \"03/10/21\", \"03/11/21\", \"03/12/21\", \"03/15/21\", \"03/16/21\", \"03/17/21\", \"03/18/21\", \"03/19/21\", \"03/22/21\", \"03/23/21\", \"03/24/21\", \"03/25/21\", \"03/26/21\"], \"xaxis\": \"x\", \"y\": [0.020547945205479534, 0.0738255033557047, 0.02499999999999991, 0.018292682926829285, 0.0059880239520957446, 0.0, -0.029761904761904767, 0.036809815950920255, -0.017751479289940808, -0.0060240963855421326, 0.0, 0.0181818181818183, -0.011904761904761862, -0.030120481927710774, 0.0, -0.006211180124223614, 0.018749999999999822, 0.030674846625766916, -0.011904761904761862, 0.01807228915662651, 0.02366863905325456, 0.011560693641618602, 0.02285714285714291, -0.005586592178770999, 0.0, -0.016853932584269704, 0.011428571428571344, 0.033898305084745894, 0.04918032786885229, 0.0, -0.00520833333333337, 0.03664921465968596, 0.02020202020202011, 0.004950495049504955, 0.019704433497536922, 0.0869565217391306, -0.07555555555555549, 0.014423076923076872, -0.009478672985781977, 0.014354066985646119, 0.028301886792452935, 0.0, 0.00917431192660545, -0.018181818181818188, -0.004629629629629761, 0.013953488372093092, 0.059633027522935755, -0.017316017316017285, 0.013215859030836885, 0.008695652173912993, 0.01724137931034475, 0.0, -0.029661016949152463, -0.02183406113537112, -0.013392857142857206, 0.013574660633484337, 0.013392857142856984], \"yaxis\": \"y\"}, {\"hovertemplate\": \"variable=30 yr<br>Date=%{x}<br>value=%{y}<extra></extra>\", \"legendgroup\": \"30 yr\", \"line\": {\"color\": \"#EF553B\", \"dash\": \"solid\"}, \"mode\": \"lines\", \"name\": \"30 yr\", \"orientation\": \"v\", \"showlegend\": true, \"type\": \"scatter\", \"x\": [\"01/05/21\", \"01/06/21\", \"01/07/21\", \"01/08/21\", \"01/11/21\", \"01/12/21\", \"01/13/21\", \"01/14/21\", \"01/15/21\", \"01/19/21\", \"01/20/21\", \"01/21/21\", \"01/22/21\", \"01/25/21\", \"01/26/21\", \"01/27/21\", \"01/28/21\", \"01/29/21\", \"02/01/21\", \"02/02/21\", \"02/03/21\", \"02/04/21\", \"02/05/21\", \"02/08/21\", \"02/09/21\", \"02/10/21\", \"02/11/21\", \"02/12/21\", \"02/16/21\", \"02/17/21\", \"02/18/21\", \"02/19/21\", \"02/22/21\", \"02/23/21\", \"02/24/21\", \"02/25/21\", \"02/26/21\", \"03/01/21\", \"03/02/21\", \"03/03/21\", \"03/04/21\", \"03/05/21\", \"03/08/21\", \"03/09/21\", \"03/10/21\", \"03/11/21\", \"03/12/21\", \"03/15/21\", \"03/16/21\", \"03/17/21\", \"03/18/21\", \"03/19/21\", \"03/22/21\", \"03/23/21\", \"03/24/21\", \"03/25/21\", \"03/26/21\"], \"xaxis\": \"x\", \"y\": [0.024096385542168752, 0.06470588235294117, 0.022099447513812098, 0.010810810810810922, 0.0053475935828875, 0.0, -0.031914893617021156, 0.03296703296703285, -0.015957446808510523, -0.005405405405405461, 0.0, 0.016304347826086918, -0.010695187165775444, -0.027027027027027084, 0.0, -0.005555555555555536, 0.011173184357541999, 0.03314917127071837, -0.016042780748663166, 0.016304347826086918, 0.026737967914438387, 0.005208333333333259, 0.020725388601036343, -0.005076142131979711, -0.005102040816326481, -0.015384615384615441, 0.01041666666666674, 0.036082474226803996, 0.034825870646766344, -0.009615384615384581, 0.009708737864077666, 0.028846153846153966, 0.023364485981308247, 0.009132420091324311, 0.013574660633484337, 0.0401785714285714, -0.06866952789699576, 0.02764976958525356, -0.008968609865470878, 0.018099547511312153, 0.022222222222222143, -0.008695652173913104, 0.013157894736842257, -0.0216450216450218, -0.008849557522123686, 0.02232142857142838, 0.048034934497816595, -0.012499999999999956, 0.00421940928270037, 0.01680672268907557, 0.012396694214876103, 0.0, -0.028571428571428692, -0.01680672268907568, -0.012820512820512775, 0.01298701298701288, 0.012820512820512997], \"yaxis\": \"y\"}],                        {\"legend\": {\"title\": {\"text\": \"variable\"}, \"tracegroupgap\": 0}, \"template\": {\"data\": {\"bar\": [{\"error_x\": {\"color\": \"#2a3f5f\"}, \"error_y\": {\"color\": \"#2a3f5f\"}, \"marker\": {\"line\": {\"color\": \"#E5ECF6\", \"width\": 0.5}}, \"type\": \"bar\"}], \"barpolar\": [{\"marker\": {\"line\": {\"color\": \"#E5ECF6\", \"width\": 0.5}}, \"type\": \"barpolar\"}], \"carpet\": [{\"aaxis\": {\"endlinecolor\": \"#2a3f5f\", \"gridcolor\": \"white\", \"linecolor\": \"white\", \"minorgridcolor\": \"white\", \"startlinecolor\": \"#2a3f5f\"}, \"baxis\": {\"endlinecolor\": \"#2a3f5f\", \"gridcolor\": \"white\", \"linecolor\": \"white\", \"minorgridcolor\": \"white\", \"startlinecolor\": \"#2a3f5f\"}, \"type\": \"carpet\"}], \"choropleth\": [{\"colorbar\": {\"outlinewidth\": 0, \"ticks\": \"\"}, \"type\": \"choropleth\"}], \"contour\": [{\"colorbar\": {\"outlinewidth\": 0, \"ticks\": \"\"}, \"colorscale\": [[0.0, \"#0d0887\"], [0.1111111111111111, \"#46039f\"], [0.2222222222222222, \"#7201a8\"], [0.3333333333333333, \"#9c179e\"], [0.4444444444444444, \"#bd3786\"], [0.5555555555555556, \"#d8576b\"], [0.6666666666666666, \"#ed7953\"], [0.7777777777777778, \"#fb9f3a\"], [0.8888888888888888, \"#fdca26\"], [1.0, \"#f0f921\"]], \"type\": \"contour\"}], \"contourcarpet\": [{\"colorbar\": {\"outlinewidth\": 0, \"ticks\": \"\"}, \"type\": \"contourcarpet\"}], \"heatmap\": [{\"colorbar\": {\"outlinewidth\": 0, \"ticks\": \"\"}, \"colorscale\": [[0.0, \"#0d0887\"], [0.1111111111111111, \"#46039f\"], [0.2222222222222222, \"#7201a8\"], [0.3333333333333333, \"#9c179e\"], [0.4444444444444444, \"#bd3786\"], [0.5555555555555556, \"#d8576b\"], [0.6666666666666666, \"#ed7953\"], [0.7777777777777778, \"#fb9f3a\"], [0.8888888888888888, \"#fdca26\"], [1.0, \"#f0f921\"]], \"type\": \"heatmap\"}], \"heatmapgl\": [{\"colorbar\": {\"outlinewidth\": 0, \"ticks\": \"\"}, \"colorscale\": [[0.0, \"#0d0887\"], [0.1111111111111111, \"#46039f\"], [0.2222222222222222, \"#7201a8\"], [0.3333333333333333, \"#9c179e\"], [0.4444444444444444, \"#bd3786\"], [0.5555555555555556, \"#d8576b\"], [0.6666666666666666, \"#ed7953\"], [0.7777777777777778, \"#fb9f3a\"], [0.8888888888888888, \"#fdca26\"], [1.0, \"#f0f921\"]], \"type\": \"heatmapgl\"}], \"histogram\": [{\"marker\": {\"colorbar\": {\"outlinewidth\": 0, \"ticks\": \"\"}}, \"type\": \"histogram\"}], \"histogram2d\": [{\"colorbar\": {\"outlinewidth\": 0, \"ticks\": \"\"}, \"colorscale\": [[0.0, \"#0d0887\"], [0.1111111111111111, \"#46039f\"], [0.2222222222222222, \"#7201a8\"], [0.3333333333333333, \"#9c179e\"], [0.4444444444444444, \"#bd3786\"], [0.5555555555555556, \"#d8576b\"], [0.6666666666666666, \"#ed7953\"], [0.7777777777777778, \"#fb9f3a\"], [0.8888888888888888, \"#fdca26\"], [1.0, \"#f0f921\"]], \"type\": \"histogram2d\"}], \"histogram2dcontour\": [{\"colorbar\": {\"outlinewidth\": 0, \"ticks\": \"\"}, \"colorscale\": [[0.0, \"#0d0887\"], [0.1111111111111111, \"#46039f\"], [0.2222222222222222, \"#7201a8\"], [0.3333333333333333, \"#9c179e\"], [0.4444444444444444, \"#bd3786\"], [0.5555555555555556, \"#d8576b\"], [0.6666666666666666, \"#ed7953\"], [0.7777777777777778, \"#fb9f3a\"], [0.8888888888888888, \"#fdca26\"], [1.0, \"#f0f921\"]], \"type\": \"histogram2dcontour\"}], \"mesh3d\": [{\"colorbar\": {\"outlinewidth\": 0, \"ticks\": \"\"}, \"type\": \"mesh3d\"}], \"parcoords\": [{\"line\": {\"colorbar\": {\"outlinewidth\": 0, \"ticks\": \"\"}}, \"type\": \"parcoords\"}], \"pie\": [{\"automargin\": true, \"type\": \"pie\"}], \"scatter\": [{\"marker\": {\"colorbar\": {\"outlinewidth\": 0, \"ticks\": \"\"}}, \"type\": \"scatter\"}], \"scatter3d\": [{\"line\": {\"colorbar\": {\"outlinewidth\": 0, \"ticks\": \"\"}}, \"marker\": {\"colorbar\": {\"outlinewidth\": 0, \"ticks\": \"\"}}, \"type\": \"scatter3d\"}], \"scattercarpet\": [{\"marker\": {\"colorbar\": {\"outlinewidth\": 0, \"ticks\": \"\"}}, \"type\": \"scattercarpet\"}], \"scattergeo\": [{\"marker\": {\"colorbar\": {\"outlinewidth\": 0, \"ticks\": \"\"}}, \"type\": \"scattergeo\"}], \"scattergl\": [{\"marker\": {\"colorbar\": {\"outlinewidth\": 0, \"ticks\": \"\"}}, \"type\": \"scattergl\"}], \"scattermapbox\": [{\"marker\": {\"colorbar\": {\"outlinewidth\": 0, \"ticks\": \"\"}}, \"type\": \"scattermapbox\"}], \"scatterpolar\": [{\"marker\": {\"colorbar\": {\"outlinewidth\": 0, \"ticks\": \"\"}}, \"type\": \"scatterpolar\"}], \"scatterpolargl\": [{\"marker\": {\"colorbar\": {\"outlinewidth\": 0, \"ticks\": \"\"}}, \"type\": \"scatterpolargl\"}], \"scatterternary\": [{\"marker\": {\"colorbar\": {\"outlinewidth\": 0, \"ticks\": \"\"}}, \"type\": \"scatterternary\"}], \"surface\": [{\"colorbar\": {\"outlinewidth\": 0, \"ticks\": \"\"}, \"colorscale\": [[0.0, \"#0d0887\"], [0.1111111111111111, \"#46039f\"], [0.2222222222222222, \"#7201a8\"], [0.3333333333333333, \"#9c179e\"], [0.4444444444444444, \"#bd3786\"], [0.5555555555555556, \"#d8576b\"], [0.6666666666666666, \"#ed7953\"], [0.7777777777777778, \"#fb9f3a\"], [0.8888888888888888, \"#fdca26\"], [1.0, \"#f0f921\"]], \"type\": \"surface\"}], \"table\": [{\"cells\": {\"fill\": {\"color\": \"#EBF0F8\"}, \"line\": {\"color\": \"white\"}}, \"header\": {\"fill\": {\"color\": \"#C8D4E3\"}, \"line\": {\"color\": \"white\"}}, \"type\": \"table\"}]}, \"layout\": {\"annotationdefaults\": {\"arrowcolor\": \"#2a3f5f\", \"arrowhead\": 0, \"arrowwidth\": 1}, \"coloraxis\": {\"colorbar\": {\"outlinewidth\": 0, \"ticks\": \"\"}}, \"colorscale\": {\"diverging\": [[0, \"#8e0152\"], [0.1, \"#c51b7d\"], [0.2, \"#de77ae\"], [0.3, \"#f1b6da\"], [0.4, \"#fde0ef\"], [0.5, \"#f7f7f7\"], [0.6, \"#e6f5d0\"], [0.7, \"#b8e186\"], [0.8, \"#7fbc41\"], [0.9, \"#4d9221\"], [1, \"#276419\"]], \"sequential\": [[0.0, \"#0d0887\"], [0.1111111111111111, \"#46039f\"], [0.2222222222222222, \"#7201a8\"], [0.3333333333333333, \"#9c179e\"], [0.4444444444444444, \"#bd3786\"], [0.5555555555555556, \"#d8576b\"], [0.6666666666666666, \"#ed7953\"], [0.7777777777777778, \"#fb9f3a\"], [0.8888888888888888, \"#fdca26\"], [1.0, \"#f0f921\"]], \"sequentialminus\": [[0.0, \"#0d0887\"], [0.1111111111111111, \"#46039f\"], [0.2222222222222222, \"#7201a8\"], [0.3333333333333333, \"#9c179e\"], [0.4444444444444444, \"#bd3786\"], [0.5555555555555556, \"#d8576b\"], [0.6666666666666666, \"#ed7953\"], [0.7777777777777778, \"#fb9f3a\"], [0.8888888888888888, \"#fdca26\"], [1.0, \"#f0f921\"]]}, \"colorway\": [\"#636efa\", \"#EF553B\", \"#00cc96\", \"#ab63fa\", \"#FFA15A\", \"#19d3f3\", \"#FF6692\", \"#B6E880\", \"#FF97FF\", \"#FECB52\"], \"font\": {\"color\": \"#2a3f5f\"}, \"geo\": {\"bgcolor\": \"white\", \"lakecolor\": \"white\", \"landcolor\": \"#E5ECF6\", \"showlakes\": true, \"showland\": true, \"subunitcolor\": \"white\"}, \"hoverlabel\": {\"align\": \"left\"}, \"hovermode\": \"closest\", \"mapbox\": {\"style\": \"light\"}, \"paper_bgcolor\": \"white\", \"plot_bgcolor\": \"#E5ECF6\", \"polar\": {\"angularaxis\": {\"gridcolor\": \"white\", \"linecolor\": \"white\", \"ticks\": \"\"}, \"bgcolor\": \"#E5ECF6\", \"radialaxis\": {\"gridcolor\": \"white\", \"linecolor\": \"white\", \"ticks\": \"\"}}, \"scene\": {\"xaxis\": {\"backgroundcolor\": \"#E5ECF6\", \"gridcolor\": \"white\", \"gridwidth\": 2, \"linecolor\": \"white\", \"showbackground\": true, \"ticks\": \"\", \"zerolinecolor\": \"white\"}, \"yaxis\": {\"backgroundcolor\": \"#E5ECF6\", \"gridcolor\": \"white\", \"gridwidth\": 2, \"linecolor\": \"white\", \"showbackground\": true, \"ticks\": \"\", \"zerolinecolor\": \"white\"}, \"zaxis\": {\"backgroundcolor\": \"#E5ECF6\", \"gridcolor\": \"white\", \"gridwidth\": 2, \"linecolor\": \"white\", \"showbackground\": true, \"ticks\": \"\", \"zerolinecolor\": \"white\"}}, \"shapedefaults\": {\"line\": {\"color\": \"#2a3f5f\"}}, \"ternary\": {\"aaxis\": {\"gridcolor\": \"white\", \"linecolor\": \"white\", \"ticks\": \"\"}, \"baxis\": {\"gridcolor\": \"white\", \"linecolor\": \"white\", \"ticks\": \"\"}, \"bgcolor\": \"#E5ECF6\", \"caxis\": {\"gridcolor\": \"white\", \"linecolor\": \"white\", \"ticks\": \"\"}}, \"title\": {\"x\": 0.05}, \"xaxis\": {\"automargin\": true, \"gridcolor\": \"white\", \"linecolor\": \"white\", \"ticks\": \"\", \"title\": {\"standoff\": 15}, \"zerolinecolor\": \"white\", \"zerolinewidth\": 2}, \"yaxis\": {\"automargin\": true, \"gridcolor\": \"white\", \"linecolor\": \"white\", \"ticks\": \"\", \"title\": {\"standoff\": 15}, \"zerolinecolor\": \"white\", \"zerolinewidth\": 2}}}, \"title\": {\"text\": \"Rates\"}, \"xaxis\": {\"anchor\": \"y\", \"domain\": [0.0, 1.0], \"title\": {\"text\": \"Date\"}}, \"yaxis\": {\"anchor\": \"x\", \"domain\": [0.0, 1.0], \"title\": {\"text\": \"value\"}}},                        {\"responsive\": true}                    ).then(function(){\n",
       "                            \n",
       "var gd = document.getElementById('5ebfa861-ba57-4106-928a-acf01e40b1ef');\n",
       "var x = new MutationObserver(function (mutations, observer) {{\n",
       "        var display = window.getComputedStyle(gd).display;\n",
       "        if (!display || display === 'none') {{\n",
       "            console.log([gd, 'removed!']);\n",
       "            Plotly.purge(gd);\n",
       "            observer.disconnect();\n",
       "        }}\n",
       "}});\n",
       "\n",
       "// Listen for the removal of the full notebook cells\n",
       "var notebookContainer = gd.closest('#notebook-container');\n",
       "if (notebookContainer) {{\n",
       "    x.observe(notebookContainer, {childList: true});\n",
       "}}\n",
       "\n",
       "// Listen for the clearing of the current output cell\n",
       "var outputEl = gd.closest('.output');\n",
       "if (outputEl) {{\n",
       "    x.observe(outputEl, {childList: true});\n",
       "}}\n",
       "\n",
       "                        })                };                });            </script>        </div>"
      ]
     },
     "metadata": {},
     "output_type": "display_data"
    }
   ],
   "source": [
    "import plotly.express as px\n",
    "fig = px.line(df_chg, x=df_chg.index, y=df_chg.columns,\n",
    "              \n",
    "              title='Rates')\n",
    "fig.show()"
   ]
  },
  {
   "cell_type": "code",
   "execution_count": 107,
   "metadata": {},
   "outputs": [],
   "source": [
    "from sklearn.decomposition import PCA\n",
    "from sklearn.preprocessing import StandardScaler"
   ]
  },
  {
   "cell_type": "code",
   "execution_count": 135,
   "metadata": {},
   "outputs": [
    {
     "data": {
      "text/plain": [
       "array([0.48108096, 0.68748449, 0.77776783, 0.84492685, 0.9034033 ,\n",
       "       0.94430063, 0.96961034, 0.98425089, 0.99386987, 0.99703231,\n",
       "       0.9987403 , 1.        ])"
      ]
     },
     "execution_count": 135,
     "metadata": {},
     "output_type": "execute_result"
    }
   ],
   "source": [
    "scaler = StandardScaler()\n",
    "x = scaler.fit_transform(df_chg.values)\n",
    "pca = PCA(whiten=True)\n",
    "\n",
    "pca.fit_transform(x)\n",
    "\n",
    "pca.explained_variance_ratio_.cumsum()"
   ]
  },
  {
   "cell_type": "code",
   "execution_count": 136,
   "metadata": {},
   "outputs": [
    {
     "data": {
      "text/plain": [
       "array([0.76240558, 0.95717336, 0.97091433, 0.98216402, 0.99039247,\n",
       "       0.99392497, 0.99641285, 0.99860541, 0.99971189, 0.99990489,\n",
       "       0.99996701, 1.        ])"
      ]
     },
     "execution_count": 136,
     "metadata": {},
     "output_type": "execute_result"
    }
   ],
   "source": [
    "scaler = StandardScaler()\n",
    "x = scaler.fit_transform(df.values)\n",
    "pca = PCA(whiten=True)\n",
    "\n",
    "pca.fit_transform(x)\n",
    "\n",
    "pca.explained_variance_ratio_.cumsum()"
   ]
  },
  {
   "cell_type": "code",
   "execution_count": 155,
   "metadata": {},
   "outputs": [
    {
     "data": {
      "text/plain": [
       "<AxesSubplot:>"
      ]
     },
     "execution_count": 155,
     "metadata": {},
     "output_type": "execute_result"
    },
    {
     "data": {
      "image/png": "[encoded data removed]",
      "text/plain": [
       "<Figure size 1440x720 with 2 Axes>"
      ]
     },
     "metadata": {
      "needs_background": "light"
     },
     "output_type": "display_data"
    }
   ],
   "source": [
    "plt.figure(figsize=(20,10))\n",
    "sns.heatmap(df.corr(),annot=True)"
   ]
  },
  {
   "cell_type": "markdown",
   "metadata": {},
   "source": [
    "### Change matrix of Yield matrix??\n",
    "\n",
    "When taking daily yields, These are explained by 3 components for 97% of variance.\n",
    "As, Compared to 7 components on change matrix"
   ]
  },
  {
   "cell_type": "code",
   "execution_count": 164,
   "metadata": {},
   "outputs": [
    {
     "name": "stdout",
     "output_type": "stream",
     "text": [
      "[[-5.16408872  0.17695924  0.1540732 ]\n",
      " [-4.65213213 -0.46200874  0.40562766]\n",
      " [-4.08931698 -1.59774867  0.54296747]\n",
      " [-3.72166844 -1.82667666  0.40495015]\n",
      " [-2.89597301 -1.4410608   0.1921067 ]\n",
      " [-3.13095581 -1.63156654 -0.0771165 ]\n",
      " [-3.22279622 -1.94309773  0.27500789]\n",
      " [-3.84378201 -2.21587462  0.13092386]\n",
      " [-3.07323779 -2.31949737  0.65072462]\n",
      " [-3.70250197 -1.15724186 -0.40208943]\n",
      " [-3.65950107 -1.51815951 -0.64068258]\n",
      " [-3.56894855 -0.89345336 -0.25976664]\n",
      " [-3.43310008 -0.87552062 -0.1755691 ]\n",
      " [-3.45756922 -0.77269976 -0.38146057]\n",
      " [-3.8307583  -0.49907026  0.04616315]\n",
      " [-3.1790601   0.85026085 -0.5658689 ]\n",
      " [-3.19394146  0.58663443 -0.36840606]\n",
      " [-2.62716508  1.05184843 -0.06604788]\n",
      " [-2.71979442  0.47197243  0.39423705]\n",
      " [-2.86381196  1.16858306 -0.24187873]\n",
      " [-2.12528194  1.41544258 -0.55007527]\n",
      " [-0.99706325  2.03075367  0.2418429 ]\n",
      " [-0.86444008  2.38267021  0.15231788]\n",
      " [-0.12031681  3.59446039 -0.14924552]\n",
      " [-0.5516427   2.21663098  0.45785292]\n",
      " [-0.76290512  2.14445275  0.18840115]\n",
      " [-1.20069752  2.0317612   0.30324165]\n",
      " [-1.23897551  1.91111467  0.24902089]\n",
      " [-0.08030978  2.55068288  0.2341838 ]\n",
      " [ 0.39181383  0.75219198  0.21439506]\n",
      " [ 0.24885203  1.79214722 -0.29325719]\n",
      " [ 0.90266903  2.56515294  0.46171669]\n",
      " [ 0.76472566  1.69340993 -0.44289473]\n",
      " [ 1.64659284  2.36713131  0.21453277]\n",
      " [ 1.1093367   1.53463822 -0.08625409]\n",
      " [ 1.46794901  1.03771634  0.11671054]\n",
      " [ 3.00768797 -2.26012545  0.42646399]\n",
      " [ 1.96083606 -0.46075697  0.39090493]\n",
      " [ 1.60614175 -0.12432791 -0.75896351]\n",
      " [ 1.35580449  0.06958843 -0.10039089]\n",
      " [ 1.67170001 -0.80041736 -0.49879346]\n",
      " [ 2.34689551 -1.03944815 -0.75385733]\n",
      " [ 2.41261782 -1.09955172 -0.63693767]\n",
      " [ 2.91037205 -2.54780726  0.28273323]\n",
      " [ 2.37836474 -2.91413756  0.11333297]\n",
      " [ 2.77410456 -1.31827438  0.16863401]\n",
      " [ 2.56495577 -0.73053361  0.13314985]\n",
      " [ 3.38782628 -1.44770373 -0.59913791]\n",
      " [ 3.55289658 -0.81899698 -0.6979659 ]\n",
      " [ 4.15932602 -0.52495824 -0.50648155]\n",
      " [ 3.98494147  0.45270229 -0.58491844]\n",
      " [ 5.19334351 -0.73911691  0.82259954]\n",
      " [ 5.49226312 -0.51991203  0.68493458]\n",
      " [ 4.39551651 -0.35926341 -0.26715766]\n",
      " [ 4.09807382 -0.44700816  0.59529041]\n",
      " [ 3.92437989  0.11828535  0.24640403]\n",
      " [ 3.86071645  0.04868948  0.19101175]\n",
      " [ 4.40103256  0.29013507  0.01876022]]\n"
     ]
    }
   ],
   "source": [
    "pca = PCA(n_components=3)\n",
    "pca_recon = pca.fit_transform(x)\n",
    "print(pca_recon)"
   ]
  },
  {
   "cell_type": "code",
   "execution_count": 166,
   "metadata": {},
   "outputs": [
    {
     "name": "stdout",
     "output_type": "stream",
     "text": [
      "[9.30937336 2.3782171  0.16778446]\n"
     ]
    }
   ],
   "source": [
    "eigenvalues = pca.explained_variance_\n",
    "print(eigenvalues)"
   ]
  },
  {
   "cell_type": "code",
   "execution_count": 167,
   "metadata": {},
   "outputs": [
    {
     "data": {
      "text/plain": [
       "array([0.76240558, 0.95717336, 0.97091433])"
      ]
     },
     "execution_count": 167,
     "metadata": {},
     "output_type": "execute_result"
    }
   ],
   "source": [
    "pca.explained_variance_ratio_.cumsum()"
   ]
  },
  {
   "cell_type": "code",
   "execution_count": 168,
   "metadata": {},
   "outputs": [
    {
     "name": "stdout",
     "output_type": "stream",
     "text": [
      "[[-0.28937175 -0.30102161 -0.30253324 -0.2795678  -0.21153835  0.1363616\n",
      "   0.2838812   0.31182798  0.31715046  0.32194986  0.32469016  0.32424908]\n",
      " [-0.26656958 -0.23309361 -0.23090078 -0.27679534 -0.46091929 -0.56505215\n",
      "  -0.32202655 -0.20873153 -0.17454209 -0.13517281 -0.09754027 -0.08617415]\n",
      " [ 0.29509742 -0.0421789  -0.22383572 -0.7464885   0.12168     0.43470723\n",
      "  -0.07018502 -0.10102676 -0.12331355 -0.12320954 -0.17102872 -0.15888534]]\n"
     ]
    },
    {
     "data": {
      "text/html": [
       "<div>\n",
       "<style scoped>\n",
       "    .dataframe tbody tr th:only-of-type {\n",
       "        vertical-align: middle;\n",
       "    }\n",
       "\n",
       "    .dataframe tbody tr th {\n",
       "        vertical-align: top;\n",
       "    }\n",
       "\n",
       "    .dataframe thead th {\n",
       "        text-align: right;\n",
       "    }\n",
       "</style>\n",
       "<table border=\"1\" class=\"dataframe\">\n",
       "  <thead>\n",
       "    <tr style=\"text-align: right;\">\n",
       "      <th></th>\n",
       "      <th>1 mo</th>\n",
       "      <th>2 mo</th>\n",
       "      <th>3 mo</th>\n",
       "      <th>6 mo</th>\n",
       "      <th>1 yr</th>\n",
       "      <th>2 yr</th>\n",
       "      <th>3 yr</th>\n",
       "      <th>5 yr</th>\n",
       "      <th>7 yr</th>\n",
       "      <th>10 yr</th>\n",
       "      <th>20 yr</th>\n",
       "      <th>30 yr</th>\n",
       "    </tr>\n",
       "  </thead>\n",
       "  <tbody>\n",
       "    <tr>\n",
       "      <th>0</th>\n",
       "      <td>-0.289372</td>\n",
       "      <td>-0.301022</td>\n",
       "      <td>-0.302533</td>\n",
       "      <td>-0.279568</td>\n",
       "      <td>-0.211538</td>\n",
       "      <td>0.136362</td>\n",
       "      <td>0.283881</td>\n",
       "      <td>0.311828</td>\n",
       "      <td>0.317150</td>\n",
       "      <td>0.321950</td>\n",
       "      <td>0.324690</td>\n",
       "      <td>0.324249</td>\n",
       "    </tr>\n",
       "    <tr>\n",
       "      <th>1</th>\n",
       "      <td>-0.266570</td>\n",
       "      <td>-0.233094</td>\n",
       "      <td>-0.230901</td>\n",
       "      <td>-0.276795</td>\n",
       "      <td>-0.460919</td>\n",
       "      <td>-0.565052</td>\n",
       "      <td>-0.322027</td>\n",
       "      <td>-0.208732</td>\n",
       "      <td>-0.174542</td>\n",
       "      <td>-0.135173</td>\n",
       "      <td>-0.097540</td>\n",
       "      <td>-0.086174</td>\n",
       "    </tr>\n",
       "    <tr>\n",
       "      <th>2</th>\n",
       "      <td>0.295097</td>\n",
       "      <td>-0.042179</td>\n",
       "      <td>-0.223836</td>\n",
       "      <td>-0.746489</td>\n",
       "      <td>0.121680</td>\n",
       "      <td>0.434707</td>\n",
       "      <td>-0.070185</td>\n",
       "      <td>-0.101027</td>\n",
       "      <td>-0.123314</td>\n",
       "      <td>-0.123210</td>\n",
       "      <td>-0.171029</td>\n",
       "      <td>-0.158885</td>\n",
       "    </tr>\n",
       "  </tbody>\n",
       "</table>\n",
       "</div>"
      ],
      "text/plain": [
       "       1 mo      2 mo      3 mo      6 mo      1 yr      2 yr      3 yr  \\\n",
       "0 -0.289372 -0.301022 -0.302533 -0.279568 -0.211538  0.136362  0.283881   \n",
       "1 -0.266570 -0.233094 -0.230901 -0.276795 -0.460919 -0.565052 -0.322027   \n",
       "2  0.295097 -0.042179 -0.223836 -0.746489  0.121680  0.434707 -0.070185   \n",
       "\n",
       "       5 yr      7 yr     10 yr     20 yr     30 yr  \n",
       "0  0.311828  0.317150  0.321950  0.324690  0.324249  \n",
       "1 -0.208732 -0.174542 -0.135173 -0.097540 -0.086174  \n",
       "2 -0.101027 -0.123314 -0.123210 -0.171029 -0.158885  "
      ]
     },
     "execution_count": 168,
     "metadata": {},
     "output_type": "execute_result"
    }
   ],
   "source": [
    "eigenvectors = pca.components_\n",
    "print(eigenvectors)\n",
    "\n",
    "eigenvectors_df = pd.DataFrame(eigenvectors,columns=df.columns)\n",
    "eigenvectors_df"
   ]
  },
  {
   "cell_type": "code",
   "execution_count": 169,
   "metadata": {},
   "outputs": [
    {
     "name": "stdout",
     "output_type": "stream",
     "text": [
      "[9.30937336 2.3782171  0.16778446]\n"
     ]
    }
   ],
   "source": [
    "print(eigenvalues)"
   ]
  },
  {
   "cell_type": "code",
   "execution_count": 170,
   "metadata": {},
   "outputs": [],
   "source": [
    "eigenvectors_df.index = ['EV1','EV2','EV3']"
   ]
  },
  {
   "cell_type": "code",
   "execution_count": 171,
   "metadata": {},
   "outputs": [
    {
     "data": {
      "text/plain": [
       "<AxesSubplot:>"
      ]
     },
     "execution_count": 171,
     "metadata": {},
     "output_type": "execute_result"
    },
    {
     "data": {
      "image/png": "[encoded data removed]",
      "text/plain": [
       "<Figure size 432x288 with 1 Axes>"
      ]
     },
     "metadata": {
      "needs_background": "light"
     },
     "output_type": "display_data"
    }
   ],
   "source": [
    "eigenvectors_df.T.plot()"
   ]
  },
  {
   "cell_type": "code",
   "execution_count": 172,
   "metadata": {},
   "outputs": [
    {
     "data": {
      "text/plain": [
       "array([[-5.16408872,  0.17695924,  0.1540732 ],\n",
       "       [-4.65213213, -0.46200874,  0.40562766],\n",
       "       [-4.08931698, -1.59774867,  0.54296747],\n",
       "       [-3.72166844, -1.82667666,  0.40495015],\n",
       "       [-2.89597301, -1.4410608 ,  0.1921067 ],\n",
       "       [-3.13095581, -1.63156654, -0.0771165 ],\n",
       "       [-3.22279622, -1.94309773,  0.27500789],\n",
       "       [-3.84378201, -2.21587462,  0.13092386],\n",
       "       [-3.07323779, -2.31949737,  0.65072462],\n",
       "       [-3.70250197, -1.15724186, -0.40208943],\n",
       "       [-3.65950107, -1.51815951, -0.64068258],\n",
       "       [-3.56894855, -0.89345336, -0.25976664],\n",
       "       [-3.43310008, -0.87552062, -0.1755691 ],\n",
       "       [-3.45756922, -0.77269976, -0.38146057],\n",
       "       [-3.8307583 , -0.49907026,  0.04616315],\n",
       "       [-3.1790601 ,  0.85026085, -0.5658689 ],\n",
       "       [-3.19394146,  0.58663443, -0.36840606],\n",
       "       [-2.62716508,  1.05184843, -0.06604788],\n",
       "       [-2.71979442,  0.47197243,  0.39423705],\n",
       "       [-2.86381196,  1.16858306, -0.24187873],\n",
       "       [-2.12528194,  1.41544258, -0.55007527],\n",
       "       [-0.99706325,  2.03075367,  0.2418429 ],\n",
       "       [-0.86444008,  2.38267021,  0.15231788],\n",
       "       [-0.12031681,  3.59446039, -0.14924552],\n",
       "       [-0.5516427 ,  2.21663098,  0.45785292],\n",
       "       [-0.76290512,  2.14445275,  0.18840115],\n",
       "       [-1.20069752,  2.0317612 ,  0.30324165],\n",
       "       [-1.23897551,  1.91111467,  0.24902089],\n",
       "       [-0.08030978,  2.55068288,  0.2341838 ],\n",
       "       [ 0.39181383,  0.75219198,  0.21439506],\n",
       "       [ 0.24885203,  1.79214722, -0.29325719],\n",
       "       [ 0.90266903,  2.56515294,  0.46171669],\n",
       "       [ 0.76472566,  1.69340993, -0.44289473],\n",
       "       [ 1.64659284,  2.36713131,  0.21453277],\n",
       "       [ 1.1093367 ,  1.53463822, -0.08625409],\n",
       "       [ 1.46794901,  1.03771634,  0.11671054],\n",
       "       [ 3.00768797, -2.26012545,  0.42646399],\n",
       "       [ 1.96083606, -0.46075697,  0.39090493],\n",
       "       [ 1.60614175, -0.12432791, -0.75896351],\n",
       "       [ 1.35580449,  0.06958843, -0.10039089],\n",
       "       [ 1.67170001, -0.80041736, -0.49879346],\n",
       "       [ 2.34689551, -1.03944815, -0.75385733],\n",
       "       [ 2.41261782, -1.09955172, -0.63693767],\n",
       "       [ 2.91037205, -2.54780726,  0.28273323],\n",
       "       [ 2.37836474, -2.91413756,  0.11333297],\n",
       "       [ 2.77410456, -1.31827438,  0.16863401],\n",
       "       [ 2.56495577, -0.73053361,  0.13314985],\n",
       "       [ 3.38782628, -1.44770373, -0.59913791],\n",
       "       [ 3.55289658, -0.81899698, -0.6979659 ],\n",
       "       [ 4.15932602, -0.52495824, -0.50648155],\n",
       "       [ 3.98494147,  0.45270229, -0.58491844],\n",
       "       [ 5.19334351, -0.73911691,  0.82259954],\n",
       "       [ 5.49226312, -0.51991203,  0.68493458],\n",
       "       [ 4.39551651, -0.35926341, -0.26715766],\n",
       "       [ 4.09807382, -0.44700816,  0.59529041],\n",
       "       [ 3.92437989,  0.11828535,  0.24640403],\n",
       "       [ 3.86071645,  0.04868948,  0.19101175],\n",
       "       [ 4.40103256,  0.29013507,  0.01876022]])"
      ]
     },
     "execution_count": 172,
     "metadata": {},
     "output_type": "execute_result"
    }
   ],
   "source": [
    "#Projection Space, same as \n",
    "x.dot(eigenvectors_df.T)"
   ]
  },
  {
   "cell_type": "code",
   "execution_count": null,
   "metadata": {},
   "outputs": [],
   "source": []
  },
  {
   "cell_type": "code",
   "execution_count": null,
   "metadata": {},
   "outputs": [],
   "source": []
  }
 ],
 "metadata": {
  "kernelspec": {
   "display_name": "Python 3.8.6 64-bit",
   "language": "python",
   "name": "python38664bit6d831e51eada4bca8e1febbc592db3fc"
  },
  "language_info": {
   "codemirror_mode": {
    "name": "ipython",
    "version": 3
   },
   "file_extension": ".py",
   "mimetype": "text/x-python",
   "name": "python",
   "nbconvert_exporter": "python",
   "pygments_lexer": "ipython3",
   "version": "3.8.6"
  }
 },
 "nbformat": 4,
 "nbformat_minor": 4
}
